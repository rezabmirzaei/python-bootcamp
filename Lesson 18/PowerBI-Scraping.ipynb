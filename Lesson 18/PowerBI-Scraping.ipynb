{
 "cells": [
  {
   "cell_type": "code",
   "execution_count": null,
   "id": "f601324f-62a1-49b8-bfbe-be8dd56c00c4",
   "metadata": {},
   "outputs": [],
   "source": [
    "import requests\n",
    "from bs4 import BeautifulSoup"
   ]
  },
  {
   "cell_type": "code",
   "execution_count": null,
   "id": "bf80ba31-9e9e-40e1-937b-a9417b884da6",
   "metadata": {},
   "outputs": [],
   "source": [
    "# Get content\n",
    "# TODO Handle multiple pages\n",
    "url = \"https://powerbi.microsoft.com/en-us/blog/\"\n",
    "response = requests.get(url)\n",
    "\n",
    "# Create a BeautifulSoup object from response content\n",
    "soup = BeautifulSoup(response.content, \"html.parser\")\n",
    "\n",
    "# Find all the articles\n",
    "articles = soup.find_all(\"article\")\n",
    "\n",
    "# Get title & publication date of each article\n",
    "for article in articles:\n",
    "    \n",
    "    # Webscraping is typically very error-prone since changes to the\n",
    "    # structure of the web page may break our code\n",
    "\n",
    "    # TODO Add some proper error-handling\n",
    "    # TODO Get all necessary information, e.g. url, intro, author etc.\n",
    "\n",
    "    # Title\n",
    "    title_element = article.find(\"h2\", dir=\"ltr\")\n",
    "    title = title_element.get_text(strip=True) if title_element else \"N/A\"\n",
    "    print(title)\n",
    "\n",
    "    # Publication date\n",
    "    date_element = article.find(\"p\", class_=\"post-date\")\n",
    "    spans = date_element.find_all(\"span\")\n",
    "    date = spans[1].get_text(strip=True) if spans[1] else \"N/A\"\n",
    "    print(date)\n",
    "\n",
    "    # Separate outputs by new line\n",
    "    print()\n"
   ]
  },
  {
   "cell_type": "code",
   "execution_count": null,
   "id": "4b4a5117-00bf-4418-917b-c24e6093df6e",
   "metadata": {},
   "outputs": [],
   "source": []
  }
 ],
 "metadata": {
  "kernelspec": {
   "display_name": "Python 3 (ipykernel)",
   "language": "python",
   "name": "python3"
  },
  "language_info": {
   "codemirror_mode": {
    "name": "ipython",
    "version": 3
   },
   "file_extension": ".py",
   "mimetype": "text/x-python",
   "name": "python",
   "nbconvert_exporter": "python",
   "pygments_lexer": "ipython3",
   "version": "3.10.9"
  }
 },
 "nbformat": 4,
 "nbformat_minor": 5
}
