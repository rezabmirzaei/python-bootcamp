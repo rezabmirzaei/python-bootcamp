{
 "cells": [
  {
   "cell_type": "markdown",
   "id": "d4ba463d-b361-4dc0-b165-d88c0647fa31",
   "metadata": {},
   "source": [
    "# Final lesson 🤩\n",
    "\n",
    "* Review last assignment(s)\n",
    "* Tips & demo for final assignment"
   ]
  },
  {
   "cell_type": "code",
   "execution_count": null,
   "id": "4e1ed570-fa7d-4d4c-bafc-82db1fb38a23",
   "metadata": {},
   "outputs": [],
   "source": []
  }
 ],
 "metadata": {
  "kernelspec": {
   "display_name": "Python 3 (ipykernel)",
   "language": "python",
   "name": "python3"
  },
  "language_info": {
   "codemirror_mode": {
    "name": "ipython",
    "version": 3
   },
   "file_extension": ".py",
   "mimetype": "text/x-python",
   "name": "python",
   "nbconvert_exporter": "python",
   "pygments_lexer": "ipython3",
   "version": "3.10.9"
  }
 },
 "nbformat": 4,
 "nbformat_minor": 5
}
