{
 "cells": [
  {
   "cell_type": "markdown",
   "id": "a08c4b24-e97b-4974-822b-4d438d56f84f",
   "metadata": {},
   "source": [
    "## Simple PokèAPI example\n",
    "\n",
    "Get a random Pokemon from https://pokeapi.co/"
   ]
  },
  {
   "cell_type": "code",
   "execution_count": null,
   "id": "8bb8c1c9-e3f1-474b-b0ed-1612d4a935be",
   "metadata": {},
   "outputs": [],
   "source": [
    "import json\n",
    "import random\n",
    "import requests\n",
    "\n",
    "from IPython.display import Markdown, Image, display"
   ]
  },
  {
   "cell_type": "code",
   "execution_count": null,
   "id": "294ea5a4-dbc2-4027-bb04-5d212b353a43",
   "metadata": {},
   "outputs": [],
   "source": [
    "# Simple example, use raw JSON (basically a dict)\n",
    "\n",
    "generations = [151, 252, 802]\n",
    "pokemon_number = random.randint(1, generations[1])\n",
    "\n",
    "pokemon_url = f\"http://pokeapi.co/api/v2/pokemon/{pokemon_number}/\"\n",
    "pokemon_json = requests.get(pokemon_url).json()\n",
    "\n",
    "pokemon_name = pokemon_json[\"name\"].title()\n",
    "sprites = pokemon_json[\"sprites\"]\n",
    "sprite_url = sprites[\"front_default\"]\n",
    "\n",
    "display(Markdown(f\"### A wild {pokemon_name} appeared!\"))\n",
    "display(Image(sprite_url))"
   ]
  },
  {
   "cell_type": "code",
   "execution_count": null,
   "id": "66f584b6-dbcb-4e96-81ce-2028fdcb2ab2",
   "metadata": {},
   "outputs": [],
   "source": [
    "# Properly convert to a Pokemon class\n",
    "\n",
    "class Pokemon():\n",
    "    pass"
   ]
  },
  {
   "cell_type": "code",
   "execution_count": null,
   "id": "7c5396b5-7d43-4cb8-bdb5-34cf33e27d38",
   "metadata": {},
   "outputs": [],
   "source": []
  }
 ],
 "metadata": {
  "kernelspec": {
   "display_name": "Python 3 (ipykernel)",
   "language": "python",
   "name": "python3"
  },
  "language_info": {
   "codemirror_mode": {
    "name": "ipython",
    "version": 3
   },
   "file_extension": ".py",
   "mimetype": "text/x-python",
   "name": "python",
   "nbconvert_exporter": "python",
   "pygments_lexer": "ipython3",
   "version": "3.10.9"
  }
 },
 "nbformat": 4,
 "nbformat_minor": 5
}
