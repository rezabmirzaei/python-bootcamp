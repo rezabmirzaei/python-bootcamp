{
 "cells": [
  {
   "cell_type": "markdown",
   "id": "7cef73b8-d473-4cfb-bfef-26dbdd4c90d1",
   "metadata": {},
   "source": [
    "# 3.4 Compiling and JSON in Python"
   ]
  },
  {
   "cell_type": "markdown",
   "id": "a33dfc42-908a-489e-a33c-e87f3f5989ec",
   "metadata": {},
   "source": [
    "## Compiling"
   ]
  },
  {
   "cell_type": "markdown",
   "id": "33ffd60a-1d5d-415e-a09f-9b2d7b60b3b6",
   "metadata": {},
   "source": [
    "* https://pyinstaller.org/en/stable/\n",
    "* https://python.land/deployment/pyinstaller"
   ]
  },
  {
   "cell_type": "code",
   "execution_count": null,
   "id": "27ef4e03-8677-4d58-b3e7-cb2868c1f17e",
   "metadata": {},
   "outputs": [],
   "source": [
    "# pip install pyinstaller\n",
    "# pyinstaller --onefile <your_file_name>.py\n",
    "\n",
    "# Example outside Jupyter\n",
    "\n",
    "# Example with flightgen.py\n",
    "\n",
    "# Tip: Run outside of Jupyter.\n",
    "# Heads up! Might be issues with incompatible packages.\n",
    "## e.g. \"The 'pathlib' package is an obsolete backport of a standard library package and is incompatible with PyInstaller.\"\n",
    "## Downgrade: pip install pyinstaller==5.1\n",
    "## More risky: conda remove pathlib"
   ]
  },
  {
   "cell_type": "markdown",
   "id": "3d3998a5-d9a9-4541-abcd-4c3af1e1d950",
   "metadata": {},
   "source": [
    "## Designing for an executable"
   ]
  },
  {
   "cell_type": "code",
   "execution_count": null,
   "id": "244f8b82-e7d6-47af-96af-a60a8530d32d",
   "metadata": {},
   "outputs": [],
   "source": [
    "# User interaction - Input instead of CLAs.\n",
    "\n",
    "# Keep it small - Import only what is needed.\n",
    "\n",
    "# Let the user decide! End with an \"dummy\" input."
   ]
  },
  {
   "cell_type": "markdown",
   "id": "52bd2003-7ee4-4219-9dc0-e9eca77ccb3a",
   "metadata": {},
   "source": [
    "## JSON\n",
    "\n",
    "https://www.json.org/json-en.html\n",
    "\n",
    "JSON (JavaScript Object Notation) is a lightweight data-interchange format that is easy for humans to read and write and for machines to parse and generate. It uses a simple structure of key-value pairs and allows for semi-structured data (does not require a schema). This allows flexibility to store and query data that doesn't always adhere to fixed schemas and data types.\n",
    "\n",
    "**JSON is the de facto standard data transmission format between applications.**"
   ]
  },
  {
   "cell_type": "code",
   "execution_count": null,
   "id": "7e01f6df-8807-4e46-9785-6d02e4025e50",
   "metadata": {},
   "outputs": [],
   "source": [
    "{\n",
    "    \"Player 1\": {\n",
    "        \"weapons\": [\n",
    "            \"Spear\",\n",
    "            \"Sword\"\n",
    "        ]\n",
    "    },\n",
    "    \"Player 2\": {\n",
    "        \"stats\": {\n",
    "            \"level\": 1,\n",
    "            \"magic\": \"yes\"\n",
    "        }\n",
    "    },\n",
    "    \"Player 3\": {\n",
    "        \"name\": \"masterblaster\",\n",
    "        \"noob\": true\n",
    "    }\n",
    "}"
   ]
  },
  {
   "cell_type": "markdown",
   "id": "dd9127de-f095-485e-8a04-707229c341b6",
   "metadata": {},
   "source": [
    "### Serialization\n",
    "\n",
    "The process of transforming data-objects into a series of easily transmittable bytes, e.g. to be:\n",
    "* transmitted across a network\n",
    "* stored to disk\n",
    "* stored in a DB\n",
    "\n",
    "We are serializing Python data (various data structures) into JSON data."
   ]
  },
  {
   "cell_type": "code",
   "execution_count": null,
   "id": "d355fb70-6bb0-4585-8383-c216f44d2c98",
   "metadata": {},
   "outputs": [],
   "source": [
    "import json\n",
    "\n",
    "user_data = {\n",
    "    \"noob_slayer\" : {\"level\" : 50, \"karma\": 20, \"pro\" : True, \"skills\" : [\"jumping\", \"running\"]},\n",
    "    \"chucky\" : {\"level\" : 5, \"pro\" : False, \"skills\" : None}\n",
    "}\n",
    "print(f\"user_data is {type(user_data)}\")\n",
    "\n",
    "user_data_as_json = json.dumps(user_data, indent=4)\n",
    "print(f\"user_data_as_json is {type(user_data_as_json)}\")\n",
    "print(f\"formatted user_data_as_json:\\n{user_data_as_json}\")"
   ]
  },
  {
   "cell_type": "code",
   "execution_count": null,
   "id": "04fe723c-06fd-47fa-b71a-073e7d563191",
   "metadata": {},
   "outputs": [],
   "source": [
    "# Write it all to file\n",
    "with open(\"gamestats.json\", \"w\") as gs:\n",
    "    #gs.write(user_data_as_json)\n",
    "    # Or better yet\n",
    "    json.dump(user_data, gs, indent=4)"
   ]
  },
  {
   "cell_type": "markdown",
   "id": "d36e984c-9c79-4b2d-994b-3ae32ebb5596",
   "metadata": {},
   "source": [
    "### Deseralization\n",
    "\n",
    "Obviously, the opposite of serialization: transform a series of bytes into data-objects."
   ]
  },
  {
   "cell_type": "code",
   "execution_count": null,
   "id": "cdfe7931-90b8-4bab-b88c-f501daad9c45",
   "metadata": {},
   "outputs": [],
   "source": [
    "#print(user_data_as_json)\n",
    "\n",
    "deserialized_user_data = json.loads(user_data_as_json)\n",
    "print(f\"Deserialized user_data_as_json is now a {type(deserialized_user_data)}\")\n",
    "print(deserialized_user_data[\"noob_slayer\"])\n",
    "\n",
    "stats_from_file = None\n",
    "with open(\"gamestats.json\") as gs:\n",
    "    stats_from_file = json.load(gs)\n",
    "print(f\"Deserialized stats_from_file isa {type(stats_from_file)}\")"
   ]
  },
  {
   "cell_type": "code",
   "execution_count": null,
   "id": "56eff4d5-d970-413b-ba08-dc122a26178c",
   "metadata": {},
   "outputs": [],
   "source": []
  }
 ],
 "metadata": {
  "kernelspec": {
   "display_name": "Python 3 (ipykernel)",
   "language": "python",
   "name": "python3"
  },
  "language_info": {
   "codemirror_mode": {
    "name": "ipython",
    "version": 3
   },
   "file_extension": ".py",
   "mimetype": "text/x-python",
   "name": "python",
   "nbconvert_exporter": "python",
   "pygments_lexer": "ipython3",
   "version": "3.10.9"
  }
 },
 "nbformat": 4,
 "nbformat_minor": 5
}
