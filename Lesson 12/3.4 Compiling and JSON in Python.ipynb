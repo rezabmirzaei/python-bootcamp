{
 "cells": [
  {
   "cell_type": "markdown",
   "id": "7cef73b8-d473-4cfb-bfef-26dbdd4c90d1",
   "metadata": {},
   "source": [
    "# 3.4 Compiling and JSON in Python"
   ]
  },
  {
   "cell_type": "markdown",
   "id": "a33dfc42-908a-489e-a33c-e87f3f5989ec",
   "metadata": {},
   "source": [
    "## Compiling"
   ]
  },
  {
   "cell_type": "code",
   "execution_count": null,
   "id": "27ef4e03-8677-4d58-b3e7-cb2868c1f17e",
   "metadata": {},
   "outputs": [],
   "source": []
  },
  {
   "cell_type": "markdown",
   "id": "3d3998a5-d9a9-4541-abcd-4c3af1e1d950",
   "metadata": {},
   "source": [
    "## Designing for an executable"
   ]
  },
  {
   "cell_type": "code",
   "execution_count": null,
   "id": "244f8b82-e7d6-47af-96af-a60a8530d32d",
   "metadata": {},
   "outputs": [],
   "source": []
  },
  {
   "cell_type": "markdown",
   "id": "52bd2003-7ee4-4219-9dc0-e9eca77ccb3a",
   "metadata": {},
   "source": [
    "## JSON in Python "
   ]
  },
  {
   "cell_type": "code",
   "execution_count": null,
   "id": "7e01f6df-8807-4e46-9785-6d02e4025e50",
   "metadata": {},
   "outputs": [],
   "source": []
  },
  {
   "cell_type": "markdown",
   "id": "dd9127de-f095-485e-8a04-707229c341b6",
   "metadata": {},
   "source": [
    "## Serialization & Deseralization"
   ]
  },
  {
   "cell_type": "code",
   "execution_count": null,
   "id": "d355fb70-6bb0-4585-8383-c216f44d2c98",
   "metadata": {},
   "outputs": [],
   "source": []
  }
 ],
 "metadata": {
  "kernelspec": {
   "display_name": "Python 3 (ipykernel)",
   "language": "python",
   "name": "python3"
  },
  "language_info": {
   "codemirror_mode": {
    "name": "ipython",
    "version": 3
   },
   "file_extension": ".py",
   "mimetype": "text/x-python",
   "name": "python",
   "nbconvert_exporter": "python",
   "pygments_lexer": "ipython3",
   "version": "3.10.9"
  }
 },
 "nbformat": 4,
 "nbformat_minor": 5
}
