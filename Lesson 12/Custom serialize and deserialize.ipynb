{
 "cells": [
  {
   "attachments": {},
   "cell_type": "markdown",
   "id": "5c5f3ff3-de84-42ce-b753-73ffe4961cbe",
   "metadata": {},
   "source": [
    "# Custom Serialize/Deserialize"
   ]
  },
  {
   "cell_type": "code",
   "execution_count": null,
   "id": "523c25f4-49cf-4378-9c37-eb15213210e0",
   "metadata": {},
   "outputs": [],
   "source": [
    "import json\n",
    "from json import JSONEncoder\n",
    "\n",
    "# From assginment 2.3.1\n",
    "class Animal():\n",
    "    def __init__(self, legs: int, family: str, aquatic: bool, toys: list = []):\n",
    "        self.legs = legs\n",
    "        self.family = family\n",
    "        self.aquatic = aquatic\n",
    "        self.toys = toys\n",
    "    \n",
    "    def __str__(self):\n",
    "        return f\"Animal with {self.legs} legs, family {self.family}, aquatic: {self.aquatic}, toys: {self.toys}\"\n",
    "    \n",
    "    # Can also define method on the object itself\n",
    "    # I don't really like this 😠 (hint: SOLID/isolation etc.)\n",
    "    def to_json(self):\n",
    "        # Implement something that returns a valid form of data to be used for JSON conversion\n",
    "        # e.g. a dict\n",
    "        return self.__dict__\n",
    "\n",
    "\n",
    "cat = Animal(legs=4, family=\"Felidae\", aquatic=False, toys=[\"ball\", \"mouse\"])\n",
    "dog = Animal(legs=4, family=\"Canidae\", aquatic=False)\n",
    "\n",
    "# My favorite: dedicated class (albeit a bit overkill in this example perhaps)\n",
    "class AnimalEncoder(JSONEncoder):\n",
    "    def default(self, o):\n",
    "        return o.__dict__\n",
    "# encoded_cat = AnimalEncoder().encode(cat)\n",
    "\n",
    "cat_as_json = json.dumps(cat, indent=4, cls=AnimalEncoder)\n",
    "print(cat_as_json)\n",
    "\n",
    "print(8*\"-\")\n",
    "\n",
    "# In smaller cases, perhaps like the one above, this would be more suitable\n",
    "dog_as_json = json.dumps(dog, indent=4, default=lambda o: o.__dict__)\n",
    "print(dog_as_json)\n",
    "\n",
    "print(8*\"-\")\n",
    "\n",
    "# Can manage a collection of objects also\n",
    "animals = [cat, dog]\n",
    "animals_as_json = json.dumps(animals, indent=4, cls=AnimalEncoder)\n",
    "print(animals_as_json)\n",
    "\n",
    "print(8*\"-\")\n",
    "\n",
    "# Finally; using the custom method \"to_json\" in class\n",
    "to_json_cat = json.dumps(cat.to_json(), indent=4)\n",
    "print(to_json_cat)"
   ]
  },
  {
   "cell_type": "code",
   "execution_count": null,
   "id": "1cd74a8a-7f83-43a2-b639-dcb5f895cf2b",
   "metadata": {},
   "outputs": [],
   "source": [
    "# Simple conversion back (default deserialization) yields a dict\n",
    "cat = json.loads(cat_as_json)\n",
    "print(type(cat))\n",
    "print(cat)"
   ]
  },
  {
   "cell_type": "code",
   "execution_count": null,
   "id": "a801afeb-dd20-42df-a1d6-4011e9d4fcd1",
   "metadata": {},
   "outputs": [],
   "source": [
    "from json import JSONDecoder\n",
    "\n",
    "# A wee bit more complicated, even for the simplest of objects,\n",
    "# 'cause we need to explicitly convert to objects of our desired class\n",
    "class AnimalDecoder(JSONDecoder):\n",
    "    def __init__(self, *args, **kwargs):\n",
    "        super().__init__(object_hook=self.object_hook, *args, **kwargs)\n",
    "    \n",
    "    def object_hook(self, dct):\n",
    "        return Animal(dct[\"legs\"], dct[\"aquatic\"], dct[\"aquatic\"], dct.get(\"toys\", []))\n",
    "    \n",
    "cat = json.loads(cat_as_json, cls=AnimalDecoder)\n",
    "print(type(cat))\n",
    "print(cat)"
   ]
  },
  {
   "cell_type": "code",
   "execution_count": null,
   "id": "403e6224-8c0e-419f-9b07-cdc0dab1ea60",
   "metadata": {},
   "outputs": [],
   "source": []
  }
 ],
 "metadata": {
  "kernelspec": {
   "display_name": "Python 3 (ipykernel)",
   "language": "python",
   "name": "python3"
  },
  "language_info": {
   "codemirror_mode": {
    "name": "ipython",
    "version": 3
   },
   "file_extension": ".py",
   "mimetype": "text/x-python",
   "name": "python",
   "nbconvert_exporter": "python",
   "pygments_lexer": "ipython3",
   "version": "3.10.9"
  }
 },
 "nbformat": 4,
 "nbformat_minor": 5
}
