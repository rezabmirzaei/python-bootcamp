{
 "cells": [
  {
   "cell_type": "markdown",
   "id": "f0bfff74-aecd-45a7-bef8-6eb6732d0ab0",
   "metadata": {
    "tags": []
   },
   "source": [
    "# 1.2 Data Types & String Manipulation"
   ]
  },
  {
   "cell_type": "markdown",
   "id": "3eb8de85-3752-445f-90a9-2719b5bc3480",
   "metadata": {},
   "source": [
    "## First though, a quick recap!"
   ]
  },
  {
   "cell_type": "code",
   "execution_count": null,
   "id": "ecfd2df2-23e1-4fec-9465-8798c6c30869",
   "metadata": {},
   "outputs": [],
   "source": [
    "# Expressions > identifier <operator> value\n",
    "my_number = 3 + 5\n",
    "print(my_number)"
   ]
  },
  {
   "cell_type": "code",
   "execution_count": null,
   "id": "5731a5bd-23ce-4217-b041-f48caee1addc",
   "metadata": {},
   "outputs": [],
   "source": [
    "# Intendation\n",
    "is_user_logged_in = True\n",
    "if is_user_logged_in:\n",
    "    # Following line \"lives\" in the scope of the \"if\"-statement (specified by the intendation)\n",
    "    print(\"User is logged in\")\n",
    "else:\n",
    "    print(\"User is not logged in\")\n",
    "print(\"Always printed\")"
   ]
  },
  {
   "cell_type": "code",
   "execution_count": null,
   "id": "1a9aaa89-86e4-4f2b-b185-b8ed1ff57c11",
   "metadata": {},
   "outputs": [],
   "source": [
    "# Comments\n",
    "print(\"A long text\") # This is a comment"
   ]
  },
  {
   "cell_type": "code",
   "execution_count": null,
   "id": "dd81aa04-82f5-4e82-af71-7b7f0c503177",
   "metadata": {},
   "outputs": [],
   "source": [
    "# Variables\n",
    "my_number = 3\n",
    "print(my_number)\n",
    "## Assign/override/reassign/manipulate\n",
    "my_number = 5\n",
    "print(my_number)\n",
    "new_number = my_number\n",
    "print(new_number)\n",
    "my_number = 8\n",
    "print(new_number)\n",
    "print(my_number)\n",
    "## Deleting variables\n",
    "del new_number\n",
    "print(new_number)"
   ]
  },
  {
   "cell_type": "markdown",
   "id": "946d1d9c-0856-4e23-af6a-6c1679c4af28",
   "metadata": {},
   "source": [
    "## Data Types"
   ]
  },
  {
   "cell_type": "code",
   "execution_count": null,
   "id": "5470b57a-287e-491a-b18f-1118203e99d6",
   "metadata": {},
   "outputs": [],
   "source": [
    "# Numeric\n",
    "my_int = 3\n",
    "my_binary_int = 0b11\n",
    "my_octal_int = 0o27\n",
    "my_hex_int = 0x15\n",
    "#print(my_octal_int)\n",
    "#print(my_hex_int)\n",
    "\n",
    "my_float = 3.2\n",
    "print(type(my_float))\n",
    "my_sci_float = 0.3e-3\n",
    "print(my_sci_float)"
   ]
  },
  {
   "cell_type": "code",
   "execution_count": null,
   "id": "0a1b3454-4da5-4334-a01e-58779a5b27f9",
   "metadata": {},
   "outputs": [],
   "source": [
    "# Boolean\n",
    "my_true_bool = True\n",
    "my_false_bool = False"
   ]
  },
  {
   "cell_type": "code",
   "execution_count": null,
   "id": "8210121c-ea35-46d5-abd5-1b3d9051d3fa",
   "metadata": {},
   "outputs": [],
   "source": [
    "# String\n",
    "my_string = \"A long string\"\n",
    "my_second_string = 'Another long string'\n",
    "# The following will fail\n",
    "#wrong_string = \"This is wrong'\n",
    "my_quoted_string = \"A 'quote' in my string\"\n",
    "print(my_quoted_string)\n",
    "my_multiline_string = \"\"\"This\n",
    "is\n",
    "a mulitline\n",
    "string\"\"\"\n",
    "print(my_multiline_string)"
   ]
  },
  {
   "cell_type": "code",
   "execution_count": null,
   "id": "337f1a6b-484a-41b8-8866-1fee0ddb9c76",
   "metadata": {},
   "outputs": [],
   "source": [
    "# None (null)\n",
    "a = None\n",
    "print(a is None)"
   ]
  },
  {
   "cell_type": "code",
   "execution_count": null,
   "id": "f22b6e6b-9f55-463e-8ac8-0ded241b7d3f",
   "metadata": {},
   "outputs": [],
   "source": [
    "# List\n",
    "my_list = [\"one\",\"two\",\"three\", 4, 4.3, [8, 6]]\n",
    "#print(my_list[1])\n",
    "print(len(my_list))\n",
    "my_list.append(\"a new element\")\n",
    "print(my_list)\n",
    "print(len(my_list))\n",
    "my_list.remove(\"one\")\n",
    "print(my_list)"
   ]
  },
  {
   "cell_type": "code",
   "execution_count": null,
   "id": "df1f0440-b21c-4bed-a61b-826fd6e4106b",
   "metadata": {},
   "outputs": [],
   "source": [
    "# Tuples\n",
    "my_tuple = (\"Reza\", 45)\n",
    "print(my_tuple)\n",
    "print(my_tuple[0])\n",
    "my_name = my_tuple[0]\n",
    "print(my_name)"
   ]
  },
  {
   "cell_type": "code",
   "execution_count": null,
   "id": "2d0e136d-411d-4b64-9023-62dd02a57bec",
   "metadata": {},
   "outputs": [],
   "source": [
    "# Dictionary\n",
    "students = {\"Truls\" : 30, \"Morten\" : 35}\n",
    "print(students[\"Truls\"])\n",
    "students[\"Truls\"] = 40\n",
    "print(students[\"Truls\"])"
   ]
  },
  {
   "cell_type": "code",
   "execution_count": null,
   "id": "c817f4aa-1903-4b2a-be67-2449489195a3",
   "metadata": {},
   "outputs": [],
   "source": [
    "# type()\n",
    "pi = \"3.1415\"\n",
    "print(type(pi))"
   ]
  },
  {
   "cell_type": "code",
   "execution_count": null,
   "id": "21a27eb0-747e-4c20-9979-b76ff29d0430",
   "metadata": {},
   "outputs": [],
   "source": [
    "# Typecasting/Conversion\n",
    "pi = \"3.1415\"\n",
    "my_float = float(pi)\n",
    "print(type(my_float))"
   ]
  },
  {
   "cell_type": "markdown",
   "id": "869d6bf5-3583-4f29-a871-e7b5b01e7693",
   "metadata": {},
   "source": [
    "## String Manipulation"
   ]
  },
  {
   "cell_type": "code",
   "execution_count": null,
   "id": "1a372482-4565-4d7c-86ef-652865012c6e",
   "metadata": {},
   "outputs": [],
   "source": [
    "# Immutable\n",
    "my_string = \"My long string\"\n",
    "print(my_string[1])\n",
    "my_string[1] = \"i\""
   ]
  },
  {
   "cell_type": "code",
   "execution_count": null,
   "id": "6b1056c0-d9d9-4fc5-90bb-81841f652e6d",
   "metadata": {},
   "outputs": [],
   "source": [
    "# Slicing > string[start_index:end_index] (shorthand e.g., string[:end_index])\n",
    "my_string = \"My long string\"\n",
    "print(my_string[3:7])\n",
    "long = my_string[3:7]\n",
    "print(long)\n",
    "print(my_string[:7])\n",
    "print(my_string[7:])\n",
    "print(my_string)\n",
    "print(len(my_string))"
   ]
  },
  {
   "cell_type": "code",
   "execution_count": null,
   "id": "1cacd321-64f9-4f32-99cf-211aa4206474",
   "metadata": {},
   "outputs": [],
   "source": [
    "# The escape character (\\)\n",
    "    ## Take particular note to 'r'\n",
    "my_string_with_new_line = \"A string with \\nnew line\"\n",
    "print(my_string_with_new_line)\n",
    "my_string_with_tab = \"A string with \\ttab\"\n",
    "print(my_string_with_tab)\n",
    "quoted_string = \"A \\\"quote\\\" in \\\\ my string\"\n",
    "print(quoted_string)\n",
    "path = r\"C:\\\\Program Files\\My Games\\The Game\\saved games\\lost\"\n",
    "print(path)"
   ]
  },
  {
   "cell_type": "code",
   "execution_count": null,
   "id": "9ea2a342-32fe-454c-846b-240fe10abd3d",
   "metadata": {},
   "outputs": [],
   "source": [
    "# String operators (+, *, in, not in)\n",
    "first_name = \"Reza\"\n",
    "last_name = \"Mirzaei\"\n",
    "full_name = first_name + \" \" + last_name\n",
    "print(full_name)\n",
    "print(\"-\" * 10)\n",
    "\n",
    "print(\"Reza\" in full_name)\n",
    "print(\"Truls\" not in full_name)\n",
    "\n",
    "if \"Truls\" in full_name:\n",
    "    print(\"Reza logged in\")"
   ]
  },
  {
   "cell_type": "code",
   "execution_count": null,
   "id": "bc5f84af-b9c4-405a-86e7-5d70c362355d",
   "metadata": {},
   "outputs": [],
   "source": [
    "# String functions (methods)\n",
    "    ## find()\n",
    "find_string = \"This is a find find string\"\n",
    "print(find_string.find(\"find\"))\n",
    "    ## lower()\n",
    "lower_text = \"THIS IS SUPPOSED TO BE LOWERCASE\"\n",
    "print(lower_text.lower())\n",
    "lowered = lower_text.lower()\n",
    "print(lowered)\n",
    "print(lower_text)\n",
    "    ## upper()\n",
    "upper_text = \"this is supposed to be uppercase\"\n",
    "print(upper_text.upper())\n",
    "    ## capitalize()\n",
    "name = \"rEza mIRzaEI\"\n",
    "print(name.capitalize())\n",
    "print(name.title())\n",
    "    ## replace()\n",
    "replace_text = \"Text to be replaced\"\n",
    "print(replace_text.replace(\"ex\", \"zz\"))\n",
    "print(replace_text)\n",
    "    ## split()\n",
    "split_string = \"this string is to be split\"\n",
    "print(split_string.split())\n",
    "split_on_comma = \"this,is,a,comma,string\"\n",
    "print(split_on_comma.split(\",\"))\n",
    "    ## join()\n",
    "list_of_strings = [\"one\", \"two\"]\n",
    "print(\" \".join(list_of_strings))"
   ]
  },
  {
   "cell_type": "code",
   "execution_count": null,
   "id": "d6a68285-49f9-4f22-808f-4a7560cb1b3a",
   "metadata": {
    "tags": []
   },
   "outputs": [],
   "source": [
    "# Example of a so called \"one-liner heaven\"\n",
    "name = \"rEza mIRZaei\"\n",
    "print(\" \".join(s.capitalize() for s in name.split()))"
   ]
  },
  {
   "cell_type": "code",
   "execution_count": null,
   "id": "31d066d2-0ae2-4e8c-9d6d-621319e28142",
   "metadata": {
    "tags": []
   },
   "outputs": [],
   "source": [
    "# String formatting\n",
    "    ## printf > \"%1 %2 ... %N\" % (item1, item2, ... , itemN)\n",
    "    ## format() > \"... {} ... {} ...\".format(val1, val2, ...)\n",
    "    ## f-string > f\"... {variable} ...\"\n",
    "# print(\"My name is %s and I am %d years old\" % (\"Reza\", 45))\n",
    "# print(\"My name is {} and I am {} years old\".format(\"Reza\", 45))\n",
    "name = \"Reza\"\n",
    "age = 45\n",
    "print(f\"My name is {name} and I am {age} years old\")"
   ]
  },
  {
   "cell_type": "markdown",
   "id": "d4f4385b-8b06-4132-9fc2-af1daf06526b",
   "metadata": {},
   "source": [
    "# QUESTIONS"
   ]
  },
  {
   "cell_type": "markdown",
   "id": "80cba15f-9b32-4973-8d79-0884301119ac",
   "metadata": {},
   "source": [
    "### Last word of a sentence/string"
   ]
  },
  {
   "cell_type": "code",
   "execution_count": null,
   "id": "8b395cc4-61d6-4192-816c-49c072de282f",
   "metadata": {},
   "outputs": [],
   "source": [
    "gibberish_string = \"Last word in this string is gibberish\"\n",
    "# Split string into singe words (default delimiter of whitespaces \" \")\n",
    "all_words = gibberish_string.split()\n",
    "# Print the last word in the list\n",
    "print(all_words[len(all_words) - 1])\n",
    "# or\n",
    "print(all_words[-1])\n",
    "# or\n",
    "print(all_words.pop()) # Careful, this will remove it ;)"
   ]
  },
  {
   "cell_type": "markdown",
   "id": "3e560ce5-09dd-4710-8cd2-aa8dc60cae16",
   "metadata": {},
   "source": [
    "### Sentence case"
   ]
  },
  {
   "cell_type": "code",
   "execution_count": null,
   "id": "bed808ab-6720-4081-b491-9f7a2b74ca74",
   "metadata": {},
   "outputs": [],
   "source": [
    "gibberish_paragraph = \"tHis is A pArapragh. ANOther pARagraph. and yET one more.\"\n",
    "# A fancy one-liner ;)\n",
    "sentence_cased_paragraph = \". \".join(i.capitalize() for i in gibberish_paragraph.split(\". \"))\n",
    "# Print the result\n",
    "print(sentence_cased_paragraph)"
   ]
  },
  {
   "cell_type": "code",
   "execution_count": null,
   "id": "c2e3cf94-29c7-492c-9eba-0fc2b93088f5",
   "metadata": {},
   "outputs": [],
   "source": []
  }
 ],
 "metadata": {
  "kernelspec": {
   "display_name": "Python 3 (ipykernel)",
   "language": "python",
   "name": "python3"
  },
  "language_info": {
   "codemirror_mode": {
    "name": "ipython",
    "version": 3
   },
   "file_extension": ".py",
   "mimetype": "text/x-python",
   "name": "python",
   "nbconvert_exporter": "python",
   "pygments_lexer": "ipython3",
   "version": "3.10.9"
  }
 },
 "nbformat": 4,
 "nbformat_minor": 5
}
