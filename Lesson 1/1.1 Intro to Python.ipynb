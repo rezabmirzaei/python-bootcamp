{
 "cells": [
  {
   "cell_type": "markdown",
   "id": "4081b487-7f99-4421-80a1-ac2b3508428f",
   "metadata": {
    "tags": []
   },
   "source": [
    "# Writing our first Notebook"
   ]
  },
  {
   "cell_type": "markdown",
   "id": "c2adf034-0d4f-44d2-8b37-1a88f57b95e1",
   "metadata": {
    "tags": []
   },
   "source": [
    "### First program :)"
   ]
  },
  {
   "cell_type": "code",
   "execution_count": 1,
   "id": "6eedc8a0-edaa-4880-aaae-cb0f9ffda04d",
   "metadata": {
    "tags": []
   },
   "outputs": [
    {
     "name": "stdout",
     "output_type": "stream",
     "text": [
      "Hello World!\n"
     ]
    }
   ],
   "source": [
    "# Hello world!\n",
    "print(\"Hello World!\")"
   ]
  },
  {
   "cell_type": "markdown",
   "id": "a2df6b6d-ffd2-4a41-b2fc-982878fa59fd",
   "metadata": {
    "tags": []
   },
   "source": [
    "### Cell management"
   ]
  },
  {
   "cell_type": "markdown",
   "id": "8c9dd59f-f7d6-404c-a7b6-e77cd0968077",
   "metadata": {
    "tags": []
   },
   "source": [
    "### Exporting notebooks"
   ]
  },
  {
   "cell_type": "markdown",
   "id": "712b3d94-8e9f-48ef-906e-8eb33587435c",
   "metadata": {
    "tags": []
   },
   "source": [
    "### Expressions"
   ]
  },
  {
   "cell_type": "markdown",
   "id": "4ed71f0d-4aa5-4a50-ab8a-d002490042e1",
   "metadata": {
    "tags": []
   },
   "source": [
    "`identifier <operator> value`"
   ]
  },
  {
   "cell_type": "code",
   "execution_count": 2,
   "id": "838b727b-b799-4c00-a42e-a2e4679806d8",
   "metadata": {
    "tags": []
   },
   "outputs": [
    {
     "name": "stdout",
     "output_type": "stream",
     "text": [
      "value\n"
     ]
    }
   ],
   "source": [
    "# functions/procedure\n",
    "print(\"value\")"
   ]
  },
  {
   "cell_type": "code",
   "execution_count": 3,
   "id": "1161f876-83e4-47da-bf73-1f090c7ed7e6",
   "metadata": {
    "tags": []
   },
   "outputs": [
    {
     "name": "stdout",
     "output_type": "stream",
     "text": [
      "4\n"
     ]
    }
   ],
   "source": [
    "# assignment\n",
    "my_number = 4\n",
    "print(my_number)"
   ]
  },
  {
   "cell_type": "code",
   "execution_count": 4,
   "id": "2299e324-2800-4410-9818-2e066db30e9f",
   "metadata": {
    "tags": []
   },
   "outputs": [
    {
     "name": "stdout",
     "output_type": "stream",
     "text": [
      "9\n"
     ]
    }
   ],
   "source": [
    "# nested expressions\n",
    "my_number = 4 + 5\n",
    "print(my_number)"
   ]
  },
  {
   "cell_type": "markdown",
   "id": "2bdfaab4-bebd-4c31-8c7d-569800072617",
   "metadata": {
    "tags": []
   },
   "source": [
    "### Intendation"
   ]
  },
  {
   "cell_type": "code",
   "execution_count": 6,
   "id": "abfa9063-b5c9-4009-a035-8dc972e58a86",
   "metadata": {
    "tags": []
   },
   "outputs": [
    {
     "name": "stdout",
     "output_type": "stream",
     "text": [
      "Not logged in!\n"
     ]
    }
   ],
   "source": [
    "# Simple condition\n",
    "is_user_logged_in = False\n",
    "if (is_user_logged_in):\n",
    "    print(\"Logged in!\")\n",
    "else:\n",
    "    print(\"Not logged in!\")"
   ]
  },
  {
   "cell_type": "markdown",
   "id": "4b4e33f6-a662-4825-b0b9-eef5e3133a88",
   "metadata": {
    "tags": []
   },
   "source": [
    "### Comments"
   ]
  },
  {
   "cell_type": "code",
   "execution_count": 7,
   "id": "00927421-2647-493e-9c91-fc8d913eaf43",
   "metadata": {
    "tags": []
   },
   "outputs": [
    {
     "name": "stdout",
     "output_type": "stream",
     "text": [
      "A comment\n"
     ]
    }
   ],
   "source": [
    "# This is a comment :)\n",
    "print(\"A comment\") # This is a comment"
   ]
  },
  {
   "cell_type": "markdown",
   "id": "0315579a-52f7-49ba-b8fc-4b8a8436362c",
   "metadata": {
    "tags": []
   },
   "source": [
    "### Variables"
   ]
  },
  {
   "cell_type": "code",
   "execution_count": null,
   "id": "dce180e6-b563-43e1-abd0-534fa5c9f4d9",
   "metadata": {
    "tags": []
   },
   "outputs": [],
   "source": [
    "# Remember: Python is dynamically typed!\n",
    "a = 1\n",
    "s = \"my string\"\n",
    "d = True"
   ]
  },
  {
   "cell_type": "code",
   "execution_count": 9,
   "id": "a9f4ca5c-7104-4006-b940-6cd8a33f861a",
   "metadata": {
    "tags": []
   },
   "outputs": [
    {
     "name": "stdout",
     "output_type": "stream",
     "text": [
      "hello\n"
     ]
    }
   ],
   "source": [
    "# Error messages (e.g. most common like invalid syntax, accessing non existing variable)\n",
    "print(\"hello\")\n",
    "my_number = 5"
   ]
  },
  {
   "cell_type": "markdown",
   "id": "ed235309-87f1-4681-bd62-207a1351f176",
   "metadata": {},
   "source": [
    "## Proper shutdown of Jupyter"
   ]
  },
  {
   "cell_type": "code",
   "execution_count": null,
   "id": "2305dab1-cb4b-43d4-a124-5c7925692da0",
   "metadata": {},
   "outputs": [],
   "source": [
    "# File > Shut Down"
   ]
  }
 ],
 "metadata": {
  "kernelspec": {
   "display_name": "Python 3 (ipykernel)",
   "language": "python",
   "name": "python3"
  },
  "language_info": {
   "codemirror_mode": {
    "name": "ipython",
    "version": 3
   },
   "file_extension": ".py",
   "mimetype": "text/x-python",
   "name": "python",
   "nbconvert_exporter": "python",
   "pygments_lexer": "ipython3",
   "version": "3.10.9"
  }
 },
 "nbformat": 4,
 "nbformat_minor": 5
}
