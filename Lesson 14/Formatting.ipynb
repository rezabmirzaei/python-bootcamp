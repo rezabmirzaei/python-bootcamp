{
 "cells": [
  {
   "cell_type": "markdown",
   "id": "42e4b0f4-8bad-4760-a17d-d71c0d69bb14",
   "metadata": {},
   "source": [
    "# Formatting"
   ]
  },
  {
   "cell_type": "code",
   "execution_count": null,
   "id": "bb7774ef-3fe8-46c2-b848-118c1cd7e8a8",
   "metadata": {},
   "outputs": [],
   "source": [
    "# https://pandas.pydata.org/docs/reference/api/pandas.ExcelWriter.html\n",
    "# https://xlsxwriter.readthedocs.io/\n",
    "# https://xlsxwriter.readthedocs.io/format.html\n",
    "# https://xlsxwriter.readthedocs.io/working_with_conditional_formats.html"
   ]
  },
  {
   "cell_type": "code",
   "execution_count": null,
   "id": "5406f772-661b-4b12-9b95-4fcbed0fffce",
   "metadata": {},
   "outputs": [],
   "source": [
    "import pandas as pd"
   ]
  },
  {
   "cell_type": "code",
   "execution_count": null,
   "id": "515eba66-373c-4d58-8f8d-67f67f4a9ad8",
   "metadata": {},
   "outputs": [],
   "source": [
    "sales_data = pd.read_excel(\"sales.xlsx\")\n",
    "\n",
    "# Some inline formatting: https://pandas.pydata.org/docs/reference/api/pandas.DataFrame.style.html\n",
    "# Heads up! Inline formatting will be included in later exports to excel.\n",
    "## Better practice to perform data management and processing using pandas, and leve formatting to when writing to excel. \n",
    "#sales_data = sales_data.style.set_properties(**{'background-color': 'magenta', 'color': 'yellow'})\n",
    "\n",
    "sales_data"
   ]
  },
  {
   "cell_type": "code",
   "execution_count": null,
   "id": "639c3cc3-ece8-41d8-aed7-362259308610",
   "metadata": {},
   "outputs": [],
   "source": [
    "## Named sheets and basic formatting\n",
    "# Requires a wee bit knowledge of CSS -> https://www.w3schools.com/css/css_intro.asp\n",
    "\n",
    "dummy_data_df = pd.DataFrame({\n",
    "    \"A\": [5, 6, 7],\n",
    "    \"B\": [\"x\", \"y\", \"z\"]\n",
    "})\n",
    "\n",
    "with pd.ExcelWriter(\"formatted_sales.xlsx\") as writer:\n",
    "    \n",
    "    # Add the separate sheets\n",
    "    sales_data.to_excel(writer, sheet_name=\"Members\", index=None)\n",
    "    dummy_data_df.to_excel(writer, sheet_name=\"Dummy Data\", index=None)\n",
    "    \n",
    "    ### Some basic formatting\n",
    "    \n",
    "    # Get reference to the sheets in workbook\n",
    "    workbook = writer.book\n",
    "    members_worksheet = writer.sheets[\"Members\"]\n",
    "    dummy_worksheet = writer.sheets[\"Dummy Data\"]\n",
    "        \n",
    "    # Set width and bolden first column\n",
    "    bold_cell_format = workbook.add_format({'bold': True})\n",
    "    # Alternativly\n",
    "    #bold_cell_format = workbook.add_format()\n",
    "    #bold_cell_format.set_bold()\n",
    "    members_worksheet.set_column(0, 0, width=30, cell_format=bold_cell_format)\n",
    "\n",
    "    # Change format of numbers\n",
    "    dollar_format = workbook.add_format({\"num_format\": \"$#,##0.00\"})\n",
    "    #dummy_worksheet.set_column(0, 0, None, dollar_format)\n",
    "    \n",
    "    # Color a row\n",
    "    row_color = workbook.add_format({\"bg_color\": \"yellow\"})\n",
    "    #dummy_worksheet.set_row(2, cell_format=row_color)\n",
    "    \n",
    "    # Set format based on condition\n",
    "    dummy_worksheet.conditional_format(\"A2:A4\", {\"type\": \"cell\",\n",
    "                                                 \"criteria\": \">\",\n",
    "                                                 \"value\": 5,\n",
    "                                                 \"format\": row_color\n",
    "                                                })\n"
   ]
  },
  {
   "cell_type": "code",
   "execution_count": null,
   "id": "5431c1b4-84b0-48f0-8167-c4783be2caaf",
   "metadata": {},
   "outputs": [],
   "source": [
    "# See https://pandas.pydata.org/docs/reference/api/pandas.ExcelWriter.html\n",
    "## Heads up! From doc: \"xlsxwriter for xlsx files if xlsxwriter is installed otherwise openpyxl\"\n",
    "## mode=\"a\" not supported with xlsxwriter!\n",
    "## I have xslxwriter installed, so must explicity set engine=\"openpyxl\"\n",
    "\n",
    "## Append to file (as new sheet)\n",
    "## if_sheet_exists=\"overaly\" -> writes to sheet from top down, overwriting any content\n",
    "with pd.ExcelWriter(\"formatted_sales.xlsx\", mode=\"a\", engine=\"openpyxl\", if_sheet_exists=\"overlay\") as writer:\n",
    "    sales_data.to_excel(writer, sheet_name=\"New Sales\", index=None)\n",
    "\n",
    "# What are the different options of \"if_sheet_exists\"?\n",
    "## if_sheet_exists{‘error’, ‘new’, ‘replace’, ‘overlay’}, default ‘error’\n",
    "## error: raise a ValueError.\n",
    "## new: Create a new sheet, with a name determined by the engine. (see example in last cell)\n",
    "## replace: Delete the contents of the sheet before writing to it.\n",
    "## overlay: Write contents to the existing sheet without removing the old contents."
   ]
  },
  {
   "cell_type": "code",
   "execution_count": null,
   "id": "7061f796-8090-45ab-aa23-585ee504d174",
   "metadata": {},
   "outputs": [],
   "source": [
    "new_sales = pd.DataFrame({\n",
    "    \"Order ID\": [\"M0009\"],\n",
    "    \"Product Name\": [\"Fish&Chips\"],\n",
    "    \"Quantity\": [2]\n",
    "})\n",
    "\n",
    "# Add new content to existing sheet, append and overaly, starting at startrow=15\n",
    "with pd.ExcelWriter(\"formatted_sales.xlsx\", mode=\"a\", engine=\"openpyxl\", if_sheet_exists=\"overlay\") as writer:\n",
    "    new_sales.to_excel(writer, sheet_name=\"New Sales\", startrow=15, header=None, index=None)"
   ]
  },
  {
   "cell_type": "code",
   "execution_count": null,
   "id": "ca6631b7-7cd4-4785-a31e-214b12a35174",
   "metadata": {},
   "outputs": [],
   "source": [
    "# Add new content to a sheet with name \"New Sales\", see if_sheet_exists=\"new\"\n",
    "## If sheet exists, create new -> will auto append a number at end of name. If name ends with number, will increment by 1.\n",
    "with pd.ExcelWriter(\"formatted_sales.xlsx\", mode=\"a\", engine=\"openpyxl\", if_sheet_exists=\"new\") as writer:\n",
    "    new_sales.to_excel(writer, sheet_name=\"New Sales\", index=None)\n",
    "\n",
    "# Every time this cell is run, a new sheet is added to the workbook, named \"New Sales1\", \"New Sales2\", \"new Sales3\" etc..."
   ]
  },
  {
   "cell_type": "code",
   "execution_count": null,
   "id": "991879c1-dc14-4ffd-a8db-e9f72f32e02a",
   "metadata": {},
   "outputs": [],
   "source": []
  }
 ],
 "metadata": {
  "kernelspec": {
   "display_name": "Python 3 (ipykernel)",
   "language": "python",
   "name": "python3"
  },
  "language_info": {
   "codemirror_mode": {
    "name": "ipython",
    "version": 3
   },
   "file_extension": ".py",
   "mimetype": "text/x-python",
   "name": "python",
   "nbconvert_exporter": "python",
   "pygments_lexer": "ipython3",
   "version": "3.10.9"
  }
 },
 "nbformat": 4,
 "nbformat_minor": 5
}
