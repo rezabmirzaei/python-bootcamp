{
 "cells": [
  {
   "cell_type": "markdown",
   "id": "9c98534b-af08-4752-9ad1-5894cf43ae87",
   "metadata": {},
   "source": [
    "# Validation"
   ]
  },
  {
   "cell_type": "code",
   "execution_count": null,
   "id": "b297d6ee-f486-4efa-8ef6-dc8feb9d1e34",
   "metadata": {},
   "outputs": [],
   "source": [
    "# pip install pandera: https://pandera.readthedocs.io/en/stable/\n",
    "# Also check out Akkio, Jovian, Deepchecks ++\n",
    "import pandera as pa\n",
    "import pandas as pd"
   ]
  },
  {
   "cell_type": "code",
   "execution_count": null,
   "id": "830326eb-48aa-4f8c-9ec7-1830a4afe3db",
   "metadata": {},
   "outputs": [],
   "source": [
    "# A simple dataframe to validate\n",
    "sales_df = pd.read_excel(\"sales.xlsx\")\n",
    "sales_df.head()"
   ]
  },
  {
   "cell_type": "code",
   "execution_count": null,
   "id": "5d10b70f-df38-458c-bc7c-0ab922dfbfc6",
   "metadata": {},
   "outputs": [],
   "source": [
    "# Create a \"validation schema\" that defines how to perform validation on named columns in a dataframe\n",
    "validate_sales_orders = pa.DataFrameSchema({\n",
    "    \"Quantity\": pa.Column(int, pa.Check.gt(0, error=\"Must have at least one product in each order!\")),\n",
    "    \"Product Name\":  pa.Column(str, pa.Check.str_length(2, error=\"Product name is missing!\"))\n",
    "})\n",
    "\n",
    "# Pass the dataframe you want to validate (sales_df) to the validation schema (validate_sales_orders)\n",
    "## Heads up! Names of columns you want to validate must match names you specified in validation schema\n",
    "validate_sales_orders(sales_df)"
   ]
  }
 ],
 "metadata": {
  "kernelspec": {
   "display_name": "Python 3 (ipykernel)",
   "language": "python",
   "name": "python3"
  },
  "language_info": {
   "codemirror_mode": {
    "name": "ipython",
    "version": 3
   },
   "file_extension": ".py",
   "mimetype": "text/x-python",
   "name": "python",
   "nbconvert_exporter": "python",
   "pygments_lexer": "ipython3",
   "version": "3.10.9"
  }
 },
 "nbformat": 4,
 "nbformat_minor": 5
}
