{
 "cells": [
  {
   "cell_type": "markdown",
   "id": "2c52a9bf-b393-40a0-98e2-8a4e9e9d493b",
   "metadata": {},
   "source": [
    "# Working with data"
   ]
  },
  {
   "cell_type": "markdown",
   "id": "26a1055f-0375-4c0f-a2f2-2609a110ba32",
   "metadata": {},
   "source": [
    "## pandas.DataFrame.groupby\n",
    "\n",
    "A groupby operation involves some combination of splitting the object, applying a function, and combining the results.\n",
    "\n",
    "https://pandas.pydata.org/docs/reference/api/pandas.DataFrame.groupby.html"
   ]
  },
  {
   "cell_type": "code",
   "execution_count": null,
   "id": "b12447d0-7397-4d3b-b772-8c498bc49ef5",
   "metadata": {},
   "outputs": [],
   "source": [
    "import pandas as pd"
   ]
  },
  {
   "cell_type": "code",
   "execution_count": null,
   "id": "00937f42-0999-484a-bd5b-4c0229319ced",
   "metadata": {},
   "outputs": [],
   "source": [
    "df = pd.DataFrame({'key': [\"A\", \"C\", \"B\", \"C\", \"A\", \"B\", \"C\", \"B\", \"A\"],\n",
    "                'data': [3, 10, 8, 1, 5, 0, 22, 7, 2]})\n",
    "print(df)"
   ]
  },
  {
   "cell_type": "code",
   "execution_count": null,
   "id": "d8096620-fd47-4303-b7a5-3856b5450d14",
   "metadata": {},
   "outputs": [],
   "source": [
    "grouped = df[\"data\"].groupby(df[\"key\"])\n",
    "print(grouped) # Simply a reference to a grouping, no operation performed on the elements\n",
    "print(grouped.count()) # How many of each key to group by"
   ]
  },
  {
   "cell_type": "code",
   "execution_count": null,
   "id": "86840751-f695-4ab8-9681-411b1021a0b2",
   "metadata": {},
   "outputs": [],
   "source": [
    "print(grouped.sum())"
   ]
  },
  {
   "cell_type": "code",
   "execution_count": null,
   "id": "541cebc7-3b48-4ca2-bec2-96d928f8f34f",
   "metadata": {},
   "outputs": [],
   "source": []
  }
 ],
 "metadata": {
  "kernelspec": {
   "display_name": "Python 3 (ipykernel)",
   "language": "python",
   "name": "python3"
  },
  "language_info": {
   "codemirror_mode": {
    "name": "ipython",
    "version": 3
   },
   "file_extension": ".py",
   "mimetype": "text/x-python",
   "name": "python",
   "nbconvert_exporter": "python",
   "pygments_lexer": "ipython3",
   "version": "3.10.9"
  }
 },
 "nbformat": 4,
 "nbformat_minor": 5
}
