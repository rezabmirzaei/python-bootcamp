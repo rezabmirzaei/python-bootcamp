{
 "cells": [
  {
   "cell_type": "markdown",
   "id": "2c52a9bf-b393-40a0-98e2-8a4e9e9d493b",
   "metadata": {},
   "source": [
    "# Working with data"
   ]
  },
  {
   "cell_type": "markdown",
   "id": "26a1055f-0375-4c0f-a2f2-2609a110ba32",
   "metadata": {},
   "source": [
    "## pandas.DataFrame.groupby\n",
    "\n",
    "A groupby operation involves some combination of splitting the object, applying a function, and combining the results.\n",
    "\n",
    "https://pandas.pydata.org/docs/reference/api/pandas.DataFrame.groupby.html"
   ]
  },
  {
   "cell_type": "code",
   "execution_count": null,
   "id": "b12447d0-7397-4d3b-b772-8c498bc49ef5",
   "metadata": {},
   "outputs": [],
   "source": [
    "import pandas as pd"
   ]
  },
  {
   "cell_type": "code",
   "execution_count": null,
   "id": "00937f42-0999-484a-bd5b-4c0229319ced",
   "metadata": {},
   "outputs": [],
   "source": [
    "# Heads up! Proper naming -> Good practice to name dataframes properly, including subsets.\n",
    "\n",
    "df = pd.DataFrame({'key': [\"A\", \"C\", \"B\", \"C\", \"A\", \"B\", \"C\", \"B\", \"A\"],\n",
    "                'data': [3, 10, 8, 1, 5, 0, 22, 7, 2]})\n",
    "print(df)"
   ]
  },
  {
   "cell_type": "code",
   "execution_count": null,
   "id": "d8096620-fd47-4303-b7a5-3856b5450d14",
   "metadata": {},
   "outputs": [],
   "source": [
    "grouped_df = df.groupby(df[\"key\"])\n",
    "#grouped_df = df[\"data\"].groupby(df[\"key\"]) # Basically the same as line above, but no need since we only have one additional column\n",
    "print(grouped_df) # Simply a reference to a grouping, no operation performed on the elements\n",
    "#print(grouped.count()) # How many of each key to group by"
   ]
  },
  {
   "cell_type": "markdown",
   "id": "bb72a58a-d11e-4ebe-add8-363dd902c0c0",
   "metadata": {},
   "source": [
    "![](https://i.imgur.com/q3tdGth.png)"
   ]
  },
  {
   "cell_type": "code",
   "execution_count": null,
   "id": "86840751-f695-4ab8-9681-411b1021a0b2",
   "metadata": {},
   "outputs": [],
   "source": [
    "summed_df = grouped_df.sum()\n",
    "print(summed_df)\n",
    "\n",
    "# Heads up! Operations to apply must be supported by data types in columns."
   ]
  },
  {
   "cell_type": "markdown",
   "id": "0c440aad-3126-46da-98b4-f60485c68299",
   "metadata": {},
   "source": [
    "### Multi-column groups"
   ]
  },
  {
   "cell_type": "code",
   "execution_count": null,
   "id": "1d31bb73-9a17-45bb-88f7-c4515083f3f5",
   "metadata": {},
   "outputs": [],
   "source": [
    "sales_df = pd.read_excel(\"sales.xlsx\")\n",
    "print(sales_df)\n",
    "# Just a reminder: increase profit by 5%\n",
    "#df[\"Profit\"] *= 1.05"
   ]
  },
  {
   "cell_type": "markdown",
   "id": "f82cf637-b2ab-4460-ae2a-6c938e5bc055",
   "metadata": {},
   "source": [
    "## Filtering"
   ]
  },
  {
   "cell_type": "code",
   "execution_count": null,
   "id": "8ac20b30-36eb-439f-a2a4-129e3bb3da29",
   "metadata": {},
   "outputs": [],
   "source": [
    "filtered_sales_df = sales_dataframe[sales_dataframe[\"Quantity\"] == 1]\n",
    "print(filtered_sales_df)"
   ]
  },
  {
   "cell_type": "code",
   "execution_count": null,
   "id": "1c9b0af5-7d91-4cad-92ee-c9c4a77aa036",
   "metadata": {},
   "outputs": [],
   "source": [
    "# Group by filtered orders, only selected columns included\n",
    "singe_quantity_profits_df = filtered_sales_df[[\"Quantity\", \"Profit\"]].groupby(filtered_sales_df[\"Order ID\"]).sum()\n",
    "print(singe_quantity_profits_df)"
   ]
  },
  {
   "cell_type": "code",
   "execution_count": null,
   "id": "dd42dafe-a1ce-4c17-b213-5aed5c362d87",
   "metadata": {},
   "outputs": [],
   "source": []
  }
 ],
 "metadata": {
  "kernelspec": {
   "display_name": "Python 3 (ipykernel)",
   "language": "python",
   "name": "python3"
  },
  "language_info": {
   "codemirror_mode": {
    "name": "ipython",
    "version": 3
   },
   "file_extension": ".py",
   "mimetype": "text/x-python",
   "name": "python",
   "nbconvert_exporter": "python",
   "pygments_lexer": "ipython3",
   "version": "3.10.9"
  }
 },
 "nbformat": 4,
 "nbformat_minor": 5
}
