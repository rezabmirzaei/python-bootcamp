{
 "cells": [
  {
   "cell_type": "markdown",
   "id": "2c52a9bf-b393-40a0-98e2-8a4e9e9d493b",
   "metadata": {},
   "source": [
    "# Working with data"
   ]
  },
  {
   "cell_type": "markdown",
   "id": "26a1055f-0375-4c0f-a2f2-2609a110ba32",
   "metadata": {},
   "source": [
    "## pandas.DataFrame.groupby\n",
    "\n",
    "A groupby operation involves some combination of splitting the object, applying a function, and combining the results.\n",
    "\n",
    "https://pandas.pydata.org/docs/reference/api/pandas.DataFrame.groupby.html"
   ]
  },
  {
   "cell_type": "code",
   "execution_count": null,
   "id": "b12447d0-7397-4d3b-b772-8c498bc49ef5",
   "metadata": {},
   "outputs": [],
   "source": [
    "import pandas as pd"
   ]
  },
  {
   "cell_type": "code",
   "execution_count": null,
   "id": "00937f42-0999-484a-bd5b-4c0229319ced",
   "metadata": {},
   "outputs": [],
   "source": [
    "# Heads up! Proper naming -> Good practice to name dataframes properly, including subsets.\n",
    "\n",
    "data_dict = {\n",
    "    \"key\":  [\"A\", \"C\", \"B\", \"C\", \"A\", \"B\", \"C\", \"B\", \"A\"],\n",
    "    \"data\": [3, 10, 8, 1, 5, 0, 22, 7, 2]\n",
    "}\n",
    "\n",
    "df = pd.DataFrame(data_dict)\n",
    "df"
   ]
  },
  {
   "cell_type": "code",
   "execution_count": null,
   "id": "d8096620-fd47-4303-b7a5-3856b5450d14",
   "metadata": {},
   "outputs": [],
   "source": [
    "# Syntax:\n",
    "# <DataFrame>[<data>].groupby(<DataFrame>[<key>])\n",
    "\n",
    "grouped_df = df.groupby(df[\"key\"])\n",
    "#grouped_df = df[\"data\"].groupby(df[\"key\"]) # Basically the same as line above, but no need since we only have one additional column\n",
    "grouped_df # Simply a reference to a grouping, no operation performed on the elements\n",
    "#grouped_df.count() # How many of each key to group by"
   ]
  },
  {
   "cell_type": "markdown",
   "id": "bb72a58a-d11e-4ebe-add8-363dd902c0c0",
   "metadata": {},
   "source": [
    "![](https://i.imgur.com/q3tdGth.png)"
   ]
  },
  {
   "cell_type": "code",
   "execution_count": null,
   "id": "86840751-f695-4ab8-9681-411b1021a0b2",
   "metadata": {},
   "outputs": [],
   "source": [
    "# https://pandas.pydata.org/docs/reference/api/pandas.core.groupby.DataFrameGroupBy.sum.html\n",
    "summed_df = grouped_df.sum()\n",
    "# By default removes the original index\n",
    "# summed_df = summed_df.reset_index()\n",
    "summed_df\n",
    "\n",
    "# Heads up! Operations to apply to a grouping should* be supported by data types in columns."
   ]
  },
  {
   "cell_type": "markdown",
   "id": "0c440aad-3126-46da-98b4-f60485c68299",
   "metadata": {},
   "source": [
    "### Multi-column groups"
   ]
  },
  {
   "cell_type": "code",
   "execution_count": null,
   "id": "a127599f-0805-4ef0-bc0e-956bc7b7a5be",
   "metadata": {},
   "outputs": [],
   "source": [
    "data_dict_expanded = {\n",
    "    \"key\":  [\"A\", \"C\", \"B\", \"C\", \"A\", \"B\", \"C\", \"B\", \"A\"],\n",
    "    \"data\": [3, 10, 8, 1, 5, 0, 22, 7, 2],\n",
    "    \"valid\": [True, False, False, False, True, False, True, True, True]\n",
    "}\n",
    "\n",
    "df_expanded = pd.DataFrame(data_dict_expanded)\n",
    "df_expanded"
   ]
  },
  {
   "cell_type": "code",
   "execution_count": null,
   "id": "41f9a215-c20e-4dca-9d6f-39254bd0efb1",
   "metadata": {},
   "outputs": [],
   "source": [
    "grouped_df_expanded = df_expanded.groupby(df[\"key\"])\n",
    "# grouped_df_expanded = df_expanded[\"data\"].groupby(df[\"key\"])\n",
    "grouped_df_expanded.count()"
   ]
  },
  {
   "cell_type": "code",
   "execution_count": null,
   "id": "cef18f69-b36f-4145-9a9a-ebc2df442055",
   "metadata": {},
   "outputs": [],
   "source": [
    "summed_grouped_df_expanded = grouped_df_expanded.sum(numeric_only=True)\n",
    "summed_grouped_df_expanded"
   ]
  },
  {
   "cell_type": "markdown",
   "id": "3e6a4d1b-c550-424a-9cfd-8b1a376ac7f4",
   "metadata": {},
   "source": [
    "****"
   ]
  },
  {
   "cell_type": "code",
   "execution_count": null,
   "id": "1d31bb73-9a17-45bb-88f7-c4515083f3f5",
   "metadata": {},
   "outputs": [],
   "source": [
    "sales_df = pd.read_excel(\"sales.xlsx\")\n",
    "sales_df"
   ]
  },
  {
   "cell_type": "code",
   "execution_count": null,
   "id": "83f1764d-a177-48c2-bb71-66bdae5c9eac",
   "metadata": {},
   "outputs": [],
   "source": [
    "# Just a reminder: increase profit by 5%\n",
    "sales_df[\"Profit\"] *= 1.05\n",
    "sales_df"
   ]
  },
  {
   "cell_type": "code",
   "execution_count": null,
   "id": "037ca813-bd04-404d-ac93-3d106af9010c",
   "metadata": {},
   "outputs": [],
   "source": [
    "# Group by without specifying columns\n",
    "sales_grouped = sales_df.groupby(sales_df[\"Order ID\"]) # Not sales_df[<data>].groupby(..)\n",
    "# print(sales_grouped.count())\n",
    "sales_grouped = sales_grouped.sum(numeric_only=True)\n",
    "\n",
    "sales_grouped"
   ]
  },
  {
   "cell_type": "code",
   "execution_count": null,
   "id": "163e7d69-fba3-4c4a-a9fc-ecdcd9e9d647",
   "metadata": {},
   "outputs": [],
   "source": [
    "# Group by, include only desired columns\n",
    "sales_grouped_columns = sales_df[[\"Quantity\", \"Profit\"]].groupby(sales_df[\"Order ID\"]) # Not sales_df[<data>].groupby(..)\n",
    "sales_grouped_columns = sales_grouped_columns.sum()\n",
    "\n",
    "sales_grouped_columns"
   ]
  },
  {
   "cell_type": "code",
   "execution_count": null,
   "id": "1fe230ba-6e19-4ce8-ab47-d77df218cf73",
   "metadata": {},
   "outputs": [],
   "source": [
    "sales_grouped_columns.sum()"
   ]
  },
  {
   "cell_type": "markdown",
   "id": "f82cf637-b2ab-4460-ae2a-6c938e5bc055",
   "metadata": {},
   "source": [
    "### Filtering"
   ]
  },
  {
   "cell_type": "code",
   "execution_count": null,
   "id": "541f9088-6dcb-4cbd-8ff3-5d906d0d1d5b",
   "metadata": {},
   "outputs": [],
   "source": [
    "sales_df = pd.read_excel(\"sales.xlsx\")\n",
    "sales_df"
   ]
  },
  {
   "cell_type": "code",
   "execution_count": null,
   "id": "8ac20b30-36eb-439f-a2a4-129e3bb3da29",
   "metadata": {},
   "outputs": [],
   "source": [
    "# Syntax:\n",
    "# <DataFrame>[<DataFrame>[<column>]<conditional expression>]\n",
    "\n",
    "filtered_sales_df = sales_df[sales_df[\"Quantity\"] == 1]\n",
    "filtered_sales_df"
   ]
  },
  {
   "cell_type": "code",
   "execution_count": null,
   "id": "3aca078a-ecc7-46fe-911d-00bfa0ec7cdb",
   "metadata": {},
   "outputs": [],
   "source": [
    "# Heads up! Multiple conditions in Pandas: must use bitwise operators (&, |), not logical operators (and, or)\n",
    "\n",
    "filtered_sales_df = sales_df[(sales_df[\"Quantity\"] == 1) & (sales_df[\"Product Name\"].str.startswith(\"Fries\"))]\n",
    "filtered_sales_df"
   ]
  },
  {
   "cell_type": "code",
   "execution_count": null,
   "id": "1c9b0af5-7d91-4cad-92ee-c9c4a77aa036",
   "metadata": {},
   "outputs": [],
   "source": [
    "# Multi-level filtering (often I perfer this to start with for sanity)\n",
    "sales_df = pd.read_excel(\"sales.xlsx\")\n",
    "filtered_df = sales_df[sales_df[\"Cost To Make\"] > 1]\n",
    "filtered_df = filtered_df[filtered_df[\"Cost To Make\"] < 7] # remember: don’t use \"sales_df\"!\n",
    "filtered_df"
   ]
  },
  {
   "cell_type": "markdown",
   "id": "c04f8d88-7b84-436e-84f2-c82172418691",
   "metadata": {},
   "source": [
    "Also worth checking out: [pandas.core.groupby.DataFrameGroupBy.filter](https://pandas.pydata.org/docs/reference/api/pandas.core.groupby.DataFrameGroupBy.filter.html)"
   ]
  },
  {
   "cell_type": "markdown",
   "id": "0b714ca5-b29e-4409-81c8-bb394bb0f667",
   "metadata": {},
   "source": [
    "### Manipulating dataframe"
   ]
  },
  {
   "cell_type": "code",
   "execution_count": null,
   "id": "a23bf88e-fe74-4414-8781-8745759290eb",
   "metadata": {},
   "outputs": [],
   "source": [
    "# Syntax:\n",
    "# <DataFrame>[\"new column\"] = <DataFrame>[<column>] <expression>\n",
    "sales_df = pd.read_excel(\"sales.xlsx\")\n",
    "sales_df"
   ]
  },
  {
   "cell_type": "code",
   "execution_count": null,
   "id": "27e1aa5b-9847-4a41-97b9-3dfc17cd8ee6",
   "metadata": {},
   "outputs": [],
   "source": [
    "# Add new column\n",
    "sales_df[\"15% Unit Cost\"] = sales_df[\"Unit Cost\"] * 1.15\n",
    "sales_df"
   ]
  },
  {
   "cell_type": "code",
   "execution_count": null,
   "id": "5d06f6a7-24df-42b4-8b57-cfad7e7cdbc1",
   "metadata": {},
   "outputs": [],
   "source": [
    "del sales_df[\"Profit\"]\n",
    "sales_df"
   ]
  },
  {
   "cell_type": "code",
   "execution_count": null,
   "id": "e6146074-bfd4-4aa7-bff9-e9a721ae5229",
   "metadata": {},
   "outputs": [],
   "source": [
    "sales_df[\"Profit\"] = (sales_df[\"15% Unit Cost\"] * sales_df[\"Quantity\"]) - (sales_df[\"Cost To Make\"] * sales_df[\"Quantity\"])\n",
    "sales_df"
   ]
  },
  {
   "cell_type": "markdown",
   "id": "dd210211-1b34-4478-b329-0e7f63c174e5",
   "metadata": {},
   "source": [
    "## Aggregations"
   ]
  },
  {
   "cell_type": "code",
   "execution_count": null,
   "id": "ab2308cb-a98b-44e6-b896-8b77f472560d",
   "metadata": {},
   "outputs": [],
   "source": [
    "sales_df = pd.read_excel(\"sales.xlsx\")\n",
    "sales_df"
   ]
  },
  {
   "cell_type": "code",
   "execution_count": null,
   "id": "20a8d70b-7a6b-4fe6-a9a2-8cf268c9b449",
   "metadata": {},
   "outputs": [],
   "source": [
    "# What is the average number of items sold per order?\n",
    "# https://pandas.pydata.org/docs/reference/api/pandas.core.groupby.DataFrameGroupBy.mean.html\n",
    "sales_df[\"Quantity\"].groupby(sales_df[\"Order ID\"]).sum().mean()"
   ]
  },
  {
   "cell_type": "code",
   "execution_count": null,
   "id": "0f82fca0-c88b-41fa-b17d-79edc2339d3a",
   "metadata": {},
   "outputs": [],
   "source": [
    "# How many orders had a particular type of product sold in it?\n",
    "# https://pandas.pydata.org/docs/reference/api/pandas.core.groupby.DataFrameGroupBy.count.html\n",
    "sales_df[\"Order ID\"].groupby(sales_df[\"Product Name\"]).count()"
   ]
  },
  {
   "cell_type": "code",
   "execution_count": null,
   "id": "571ecec6-6918-48ad-8807-c5542f6da608",
   "metadata": {},
   "outputs": [],
   "source": [
    "# What was our most profitable item?\n",
    "# https://pandas.pydata.org/docs/reference/api/pandas.core.groupby.DataFrameGroupBy.max.html\n",
    "group_by_product_profit = sales_df[\"Profit\"].groupby(sales_df[\"Product Name\"]).sum()\n",
    "group_by_product_profit"
   ]
  },
  {
   "cell_type": "code",
   "execution_count": null,
   "id": "76065cb7-8ecf-435d-b9bc-ec70c99ff2ba",
   "metadata": {},
   "outputs": [],
   "source": [
    "max_profit = group_by_product_profit.max()\n",
    "group_by_product_profit[group_by_product_profit == max_profit]"
   ]
  },
  {
   "cell_type": "markdown",
   "id": "19d51935-1cd0-444c-bbf7-d42eef3a7303",
   "metadata": {},
   "source": [
    "### Multi-aggregation\n",
    "\n",
    "https://pandas.pydata.org/docs/reference/api/pandas.core.groupby.DataFrameGroupBy.agg.html"
   ]
  },
  {
   "cell_type": "code",
   "execution_count": null,
   "id": "24193532-82bb-4278-96e6-6bff86aac848",
   "metadata": {},
   "outputs": [],
   "source": [
    "sales_df = pd.read_excel(\"sales.xlsx\")\n",
    "sales_df"
   ]
  },
  {
   "cell_type": "code",
   "execution_count": null,
   "id": "8c805419-c08f-4f0c-91d8-8299fb0c91a9",
   "metadata": {},
   "outputs": [],
   "source": [
    "sales_df[\"Quantity\"].groupby(sales_df[\"Order ID\"]).agg(\"sum\")\n",
    "# sales_df[\"Quantity\"].groupby(sales_df[\"Order ID\"]).sum()"
   ]
  },
  {
   "cell_type": "code",
   "execution_count": null,
   "id": "c62fffd9-9239-4775-a178-777e2eb65aab",
   "metadata": {},
   "outputs": [],
   "source": [
    "sales_df[[\"Quantity\", \"Profit\"]].groupby(sales_df[\"Order ID\"]).agg([\"sum\", \"mean\"])"
   ]
  },
  {
   "cell_type": "code",
   "execution_count": null,
   "id": "95cffe10-fefa-4e57-bc80-13ff6c886b9b",
   "metadata": {},
   "outputs": [],
   "source": [
    "sales_df"
   ]
  },
  {
   "cell_type": "markdown",
   "id": "bb7d6b9d-233d-4749-8ecb-4eefae81aa84",
   "metadata": {},
   "source": [
    "## Qualitative to Quantitative"
   ]
  },
  {
   "cell_type": "code",
   "execution_count": null,
   "id": "8696693d-f08a-463e-9ff8-8761a76446df",
   "metadata": {},
   "outputs": [],
   "source": [
    "survery_df = pd.read_excel(\"survey_results.xlsx\")\n",
    "survery_df.head()"
   ]
  },
  {
   "cell_type": "code",
   "execution_count": null,
   "id": "df4862e9-a87c-46e5-8308-782a3ac97b2e",
   "metadata": {},
   "outputs": [],
   "source": [
    "# Use some form of explicit conversion to numerical values, e.g.:\n",
    "convert_dict = {\n",
    "    \"Strongly Disagree\" : 0,\n",
    "    \"Disagree\" : 25,\n",
    "    \"Neither agree or disagree\" : 50,\n",
    "    \"Agree\" : 75,\n",
    "    \"Strongly Agree\" : 100,\n",
    "    \"Yes\" : True,\n",
    "    \"No\": False,\n",
    "}"
   ]
  },
  {
   "cell_type": "code",
   "execution_count": null,
   "id": "d53928be-b8f7-4448-90f0-1987e73e23ce",
   "metadata": {},
   "outputs": [],
   "source": [
    "# Add new columns containing converted data based on original (i.e. new data)\n",
    "survery_df[\"Satisfaction\"] = [convert_dict[key] for key in survery_df[\"I was happy with the product\"]]\n",
    "survery_df[\"Recommendation\"] = [convert_dict[key] for key in survery_df[\"I will recommend the product\"]]\n",
    "survery_df[\"Subscription\"] = [convert_dict[key] for key in survery_df[\"Would you like to receive our newsletter\"]]\n",
    "survery_df.head()"
   ]
  },
  {
   "cell_type": "code",
   "execution_count": null,
   "id": "7bc0797c-92a5-460f-a23f-8c3a3c8a405d",
   "metadata": {},
   "outputs": [],
   "source": [
    "# Average satisfaction and recommendation\n",
    "survery_df[[\"Satisfaction\", \"Recommendation\"]].mean()"
   ]
  }
 ],
 "metadata": {
  "kernelspec": {
   "display_name": "Python 3 (ipykernel)",
   "language": "python",
   "name": "python3"
  },
  "language_info": {
   "codemirror_mode": {
    "name": "ipython",
    "version": 3
   },
   "file_extension": ".py",
   "mimetype": "text/x-python",
   "name": "python",
   "nbconvert_exporter": "python",
   "pygments_lexer": "ipython3",
   "version": "3.10.9"
  }
 },
 "nbformat": 4,
 "nbformat_minor": 5
}
