{
 "cells": [
  {
   "cell_type": "markdown",
   "id": "2c52a9bf-b393-40a0-98e2-8a4e9e9d493b",
   "metadata": {},
   "source": [
    "# Working with data"
   ]
  },
  {
   "cell_type": "markdown",
   "id": "26a1055f-0375-4c0f-a2f2-2609a110ba32",
   "metadata": {},
   "source": [
    "## pandas.DataFrame.groupby\n",
    "\n",
    "A groupby operation involves some combination of splitting the object, applying a function, and combining the results.\n",
    "\n",
    "https://pandas.pydata.org/docs/reference/api/pandas.DataFrame.groupby.html"
   ]
  },
  {
   "cell_type": "code",
   "execution_count": null,
   "id": "b12447d0-7397-4d3b-b772-8c498bc49ef5",
   "metadata": {},
   "outputs": [],
   "source": [
    "import pandas as pd"
   ]
  },
  {
   "cell_type": "code",
   "execution_count": null,
   "id": "00937f42-0999-484a-bd5b-4c0229319ced",
   "metadata": {},
   "outputs": [],
   "source": [
    "# Heads up! Proper naming -> Good practice to name dataframes properly, including subsets.\n",
    "\n",
    "df = pd.DataFrame({'key': [\"A\", \"C\", \"B\", \"C\", \"A\", \"B\", \"C\", \"B\", \"A\"],\n",
    "                'data': [3, 10, 8, 1, 5, 0, 22, 7, 2]})\n",
    "print(df)"
   ]
  },
  {
   "cell_type": "code",
   "execution_count": null,
   "id": "d8096620-fd47-4303-b7a5-3856b5450d14",
   "metadata": {},
   "outputs": [],
   "source": [
    "grouped = df[\"data\"].groupby(df[\"key\"])\n",
    "#grouped = df.groupby(df[\"key\"])\n",
    "print(grouped) # Simply a reference to a grouping, no operation performed on the elements\n",
    "print(grouped.count()) # How many of each key to group by"
   ]
  },
  {
   "cell_type": "code",
   "execution_count": null,
   "id": "86840751-f695-4ab8-9681-411b1021a0b2",
   "metadata": {},
   "outputs": [],
   "source": [
    "print(grouped.sum())\n",
    "\n",
    "# Heads up! Operations to apply must be supported by data types in columns."
   ]
  },
  {
   "cell_type": "markdown",
   "id": "0c440aad-3126-46da-98b4-f60485c68299",
   "metadata": {},
   "source": [
    "### Multi-column groups"
   ]
  },
  {
   "cell_type": "code",
   "execution_count": 44,
   "id": "1d31bb73-9a17-45bb-88f7-c4515083f3f5",
   "metadata": {},
   "outputs": [
    {
     "name": "stdout",
     "output_type": "stream",
     "text": [
      "  Order ID Product Name  Quantity  Unit Cost  Cost To Make  Profit\n",
      "0    M0051    Hamburger         2      14.99           8.0   13.98\n",
      "1    M0051      Fries L         2       7.99           5.0    5.98\n",
      "2    M0051       Soda L         1       5.99           1.0    4.99\n",
      "3    M0052       Hotdog         1      12.99           6.0    6.99\n",
      "4    M0052       Soda M         1       3.99           0.8    3.19\n",
      "5    M0053    Hamburger         1      14.99           8.0    6.99\n",
      "6    M0053      Fries S         1       3.99           1.0    2.99\n",
      "7    M0054        Salad         3      11.99           4.0   23.97\n",
      "8    M0055        Salad         1      11.99           4.0    7.99\n"
     ]
    }
   ],
   "source": [
    "sales_df = pd.read_excel(\"sales.xlsx\")\n",
    "print(sales_df)\n",
    "# Just a reminder: increase profit by 5%\n",
    "#df[\"Profit\"] *= 1.05"
   ]
  },
  {
   "cell_type": "markdown",
   "id": "f82cf637-b2ab-4460-ae2a-6c938e5bc055",
   "metadata": {},
   "source": [
    "## Filtering"
   ]
  },
  {
   "cell_type": "code",
   "execution_count": 45,
   "id": "8ac20b30-36eb-439f-a2a4-129e3bb3da29",
   "metadata": {},
   "outputs": [
    {
     "name": "stdout",
     "output_type": "stream",
     "text": [
      "  Order ID Product Name  Quantity  Unit Cost  Cost To Make  Profit\n",
      "2    M0051       Soda L         1       5.99           1.0    4.99\n",
      "3    M0052       Hotdog         1      12.99           6.0    6.99\n",
      "4    M0052       Soda M         1       3.99           0.8    3.19\n",
      "5    M0053    Hamburger         1      14.99           8.0    6.99\n",
      "6    M0053      Fries S         1       3.99           1.0    2.99\n",
      "8    M0055        Salad         1      11.99           4.0    7.99\n"
     ]
    }
   ],
   "source": [
    "filtered_sales_df = sales_dataframe[sales_dataframe[\"Quantity\"] == 1]\n",
    "print(filtered_sales_df)"
   ]
  },
  {
   "cell_type": "code",
   "execution_count": 46,
   "id": "1c9b0af5-7d91-4cad-92ee-c9c4a77aa036",
   "metadata": {},
   "outputs": [
    {
     "name": "stdout",
     "output_type": "stream",
     "text": [
      "          Quantity  Profit\n",
      "Order ID                  \n",
      "M0051            1    4.99\n",
      "M0052            2   10.18\n",
      "M0053            2    9.98\n",
      "M0055            1    7.99\n"
     ]
    }
   ],
   "source": [
    "# Group by filtered orders, only selected columns included\n",
    "singe_quantity_profits_df = filtered_sales_df[[\"Quantity\", \"Profit\"]].groupby(filtered_sales_df[\"Order ID\"]).sum()\n",
    "print(singe_quantity_profits_df)"
   ]
  },
  {
   "cell_type": "code",
   "execution_count": null,
   "id": "dd42dafe-a1ce-4c17-b213-5aed5c362d87",
   "metadata": {},
   "outputs": [],
   "source": []
  }
 ],
 "metadata": {
  "kernelspec": {
   "display_name": "Python 3 (ipykernel)",
   "language": "python",
   "name": "python3"
  },
  "language_info": {
   "codemirror_mode": {
    "name": "ipython",
    "version": 3
   },
   "file_extension": ".py",
   "mimetype": "text/x-python",
   "name": "python",
   "nbconvert_exporter": "python",
   "pygments_lexer": "ipython3",
   "version": "3.10.9"
  }
 },
 "nbformat": 4,
 "nbformat_minor": 5
}
