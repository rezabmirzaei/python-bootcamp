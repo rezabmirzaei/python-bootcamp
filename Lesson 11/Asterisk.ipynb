{
 "cells": [
  {
   "cell_type": "markdown",
   "id": "98fbcd9b-49c2-4412-bdd6-585984face71",
   "metadata": {},
   "source": [
    "## Asterisk (*) before a variable"
   ]
  },
  {
   "cell_type": "markdown",
   "id": "d254923b-d516-4c24-91f6-292a323810a9",
   "metadata": {},
   "source": [
    "An asterisk or star (*) before a variable indicates that it’s a packing argument, e.g. it may contain any number of variables."
   ]
  },
  {
   "cell_type": "code",
   "execution_count": 4,
   "id": "cfa1f6b9-dab5-4a1c-97cb-1ad835cd30ce",
   "metadata": {},
   "outputs": [
    {
     "name": "stdout",
     "output_type": "stream",
     "text": [
      "['first', 'second', 'third', 'fourth']\n",
      "last\n"
     ]
    }
   ],
   "source": [
    "# We have a list as follows\n",
    "list_with_words = [\"first\", \"second\", \"third\", \"fourth\", \"last\"]\n",
    "\n",
    "# We want the last word\n",
    "# We can unpack the list (or any other iterator, including generators, tuples etc) as follows:\n",
    "*all_other_words, last_word = list_with_words\n",
    "# Meaning:\n",
    "## Put everything from \"list_with_words\" until the very last element in \"all_other_words\"\n",
    "## Put the last element of the list in the variable \"last_word\"\n",
    "\n",
    "print(all_other_words)\n",
    "print(last_word)"
   ]
  },
  {
   "cell_type": "code",
   "execution_count": null,
   "id": "96e57923-bf33-49ce-acf3-a02297c89197",
   "metadata": {},
   "outputs": [],
   "source": []
  }
 ],
 "metadata": {
  "kernelspec": {
   "display_name": "Python 3 (ipykernel)",
   "language": "python",
   "name": "python3"
  },
  "language_info": {
   "codemirror_mode": {
    "name": "ipython",
    "version": 3
   },
   "file_extension": ".py",
   "mimetype": "text/x-python",
   "name": "python",
   "nbconvert_exporter": "python",
   "pygments_lexer": "ipython3",
   "version": "3.10.9"
  }
 },
 "nbformat": 4,
 "nbformat_minor": 5
}
