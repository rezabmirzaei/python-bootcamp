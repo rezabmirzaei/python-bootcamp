{
 "cells": [
  {
   "cell_type": "markdown",
   "id": "02ab071b-7c4b-4f9c-991e-a421ac30c6f2",
   "metadata": {},
   "source": [
    "# 3.3 Problem-solving & Recursion"
   ]
  },
  {
   "cell_type": "markdown",
   "id": "fc1832f2-116d-4f10-a964-9484c4d863af",
   "metadata": {},
   "source": [
    "Before we start though:\n",
    "* .py vs .ipynb\n",
    "* Quick review assigments 3.1 & 3.2"
   ]
  },
  {
   "cell_type": "markdown",
   "id": "493a343e-6b47-4419-99dc-b821320b9a7c",
   "metadata": {},
   "source": [
    "## Problem-solving"
   ]
  },
  {
   "cell_type": "markdown",
   "id": "38bcc403-7e01-4034-b047-d64614d3713e",
   "metadata": {},
   "source": [
    "### Syntax Errors"
   ]
  },
  {
   "cell_type": "code",
   "execution_count": null,
   "id": "a32e21a8-4452-4440-a956-402309dbf76d",
   "metadata": {},
   "outputs": [],
   "source": [
    "# Occur during the parsing of source code\n"
   ]
  },
  {
   "cell_type": "markdown",
   "id": "ee19bad8-dafe-41c8-b279-74f3537b0b48",
   "metadata": {},
   "source": [
    "### Runtime Errors"
   ]
  },
  {
   "cell_type": "code",
   "execution_count": null,
   "id": "c25e905d-c797-49b2-8598-ec2116c16392",
   "metadata": {},
   "outputs": [],
   "source": [
    "# Occur during the execution of code\n"
   ]
  },
  {
   "cell_type": "markdown",
   "id": "8aa74e93-5344-4846-898b-808503ff8a44",
   "metadata": {},
   "source": [
    "### Semantic (functional) Error"
   ]
  },
  {
   "cell_type": "code",
   "execution_count": null,
   "id": "fd78b544-c954-45c1-9e62-dd42638bb0e8",
   "metadata": {},
   "outputs": [],
   "source": [
    "# Occur during the execution of code, but typically don't break the execution\n"
   ]
  },
  {
   "cell_type": "markdown",
   "id": "22d49cad-9b0b-4ff9-b915-829eb3d8e24c",
   "metadata": {},
   "source": [
    "## Debugging"
   ]
  },
  {
   "cell_type": "code",
   "execution_count": null,
   "id": "580daf0a-5655-4910-9231-afa6747d3f74",
   "metadata": {},
   "outputs": [],
   "source": [
    "# The \"holy grail\" > print() 😛\n",
    "\n",
    "# help()"
   ]
  },
  {
   "cell_type": "code",
   "execution_count": null,
   "id": "6e968a64-2c5e-43de-a159-6cfbe22f4c0e",
   "metadata": {
    "tags": []
   },
   "outputs": [],
   "source": [
    "# Magic function %debug\n",
    "def some_function_that_will_fail():\n",
    "    result = 0\n",
    "    for counter in range(0, 100):\n",
    "        if counter % 10 == 0:\n",
    "            result += 1\n",
    "        else:\n",
    "             result = result + \"4\"\n",
    "    return result\n",
    "\n",
    "print(some_function_that_will_fail())"
   ]
  },
  {
   "cell_type": "code",
   "execution_count": null,
   "id": "63ba907d-3cef-471c-b554-eba71ad6428d",
   "metadata": {},
   "outputs": [],
   "source": [
    "%debug"
   ]
  },
  {
   "cell_type": "code",
   "execution_count": null,
   "id": "0adef654-8aab-4603-b90f-79f71ece4609",
   "metadata": {},
   "outputs": [],
   "source": [
    "# Breakpoints!\n",
    "# See https://jupyterlab.readthedocs.io/en/stable/user/debugger.html"
   ]
  },
  {
   "cell_type": "markdown",
   "id": "ce48de49-01c9-487d-97f5-2717d6efaa29",
   "metadata": {},
   "source": [
    "## Recursion "
   ]
  },
  {
   "cell_type": "code",
   "execution_count": null,
   "id": "4147cb44-bf80-4050-b4ab-bd06dee552ed",
   "metadata": {},
   "outputs": [],
   "source": [
    "# A function that calls itself\n",
    "# Heads up!!! Must have a rule to break the recursion! A so called \"base case\".\n",
    "\n",
    "def fibonacci(n):\n",
    "    # Base case\n",
    "    if n <= 1:\n",
    "        return 0\n",
    "    if n == 2:\n",
    "        return 1\n",
    "    else:\n",
    "        return fibonacci(n-1) + fibonacci(n-2)\n",
    "\n",
    "print(fibonacci(6))\n",
    "#%timeit fibonacci(6)"
   ]
  },
  {
   "cell_type": "markdown",
   "id": "cbf3f277-b026-45c5-a8d8-7a1a13935c8a",
   "metadata": {},
   "source": [
    "### Memoization"
   ]
  },
  {
   "cell_type": "code",
   "execution_count": null,
   "id": "f4630758-e96e-4b4d-8324-dce288ff97f6",
   "metadata": {},
   "outputs": [],
   "source": [
    "# Cache (temporarily store) the results of function calls and return the cached result when the same inputs occur again\n",
    "\n",
    "cache = {}\n",
    "def fibonacci(n):\n",
    "    if n in cache:\n",
    "        return cache[n]\n",
    "    if n <= 0:\n",
    "        return 0\n",
    "    if n == 1 or n == 2:\n",
    "        return 1\n",
    "    else:\n",
    "        cache[n] = fibonacci(n-1) + fibonacci(n-2)\n",
    "        return cache[n]\n",
    "\n",
    "# Heads up! Base case memoization?\n",
    "    \n",
    "#print(fibonacci(6))\n",
    "#%timeit fibonacci(6)"
   ]
  },
  {
   "cell_type": "markdown",
   "id": "48a6e640-6493-4ac1-8674-563d938ac97a",
   "metadata": {},
   "source": [
    "### Iterator vs Recursion"
   ]
  },
  {
   "cell_type": "code",
   "execution_count": null,
   "id": "d777c32a-6589-4c9c-b1cd-ab11d1d30acd",
   "metadata": {},
   "outputs": [],
   "source": [
    "# Factorial - e.g. 4! : 1x2x3x4=24 (0! = 1)\n",
    "\n",
    "# Iterator example:\n",
    "def iterator_factorial(n):\n",
    "    result = 1\n",
    "    for i in range(1, n+1):\n",
    "        result *= i\n",
    "    return result\n",
    "\n",
    "%timeit iterator_factorial(1000)"
   ]
  },
  {
   "cell_type": "code",
   "execution_count": null,
   "id": "464c15d4-75eb-460e-806c-0cb986840a51",
   "metadata": {},
   "outputs": [],
   "source": [
    "# Recursive example:\n",
    "def recursive_factorial(n):\n",
    "    if n <= 1:\n",
    "        return 1\n",
    "    else:\n",
    "        return n * recursive_factorial(n - 1)\n",
    "\n",
    "%timeit recursive_factorial(1000)\n",
    "\n",
    "# Slower than iteration because of multiple factors, mostly type checking of function arguments before executing (runtime latency).\n",
    "# Enter \"Memoization\""
   ]
  },
  {
   "cell_type": "code",
   "execution_count": null,
   "id": "448bb6e5-72a8-46c3-82bb-eca8d2d5f526",
   "metadata": {
    "tags": []
   },
   "outputs": [],
   "source": [
    "# Memoized (cached) example:\n",
    "# Heads up! One branch.\n",
    "cache = {}\n",
    "def recursive_factorial(n):\n",
    "    if n in cache:\n",
    "        return cache[n]\n",
    "    elif n <= 1:\n",
    "        return 1\n",
    "    else:\n",
    "        fact = recursive_factorial(n-1) * n\n",
    "        cache[n] = fact\n",
    "        return fact\n",
    "\n",
    "%timeit recursive_factorial(1000)"
   ]
  },
  {
   "cell_type": "code",
   "execution_count": null,
   "id": "e3298db1-bfd5-42b0-b3d9-cf405858d53e",
   "metadata": {},
   "outputs": [],
   "source": []
  }
 ],
 "metadata": {
  "kernelspec": {
   "display_name": "Python 3 (ipykernel)",
   "language": "python",
   "name": "python3"
  },
  "language_info": {
   "codemirror_mode": {
    "name": "ipython",
    "version": 3
   },
   "file_extension": ".py",
   "mimetype": "text/x-python",
   "name": "python",
   "nbconvert_exporter": "python",
   "pygments_lexer": "ipython3",
   "version": "3.10.9"
  }
 },
 "nbformat": 4,
 "nbformat_minor": 5
}
