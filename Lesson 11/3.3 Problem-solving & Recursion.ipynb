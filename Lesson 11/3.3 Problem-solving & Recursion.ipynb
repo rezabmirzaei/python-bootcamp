{
 "cells": [
  {
   "cell_type": "markdown",
   "id": "02ab071b-7c4b-4f9c-991e-a421ac30c6f2",
   "metadata": {},
   "source": [
    "# 3.3 Problem-solving & Recursion"
   ]
  },
  {
   "cell_type": "markdown",
   "id": "493a343e-6b47-4419-99dc-b821320b9a7c",
   "metadata": {},
   "source": [
    "## Problem-solving"
   ]
  },
  {
   "cell_type": "markdown",
   "id": "38bcc403-7e01-4034-b047-d64614d3713e",
   "metadata": {},
   "source": [
    "### Syntax Errors"
   ]
  },
  {
   "cell_type": "code",
   "execution_count": null,
   "id": "a32e21a8-4452-4440-a956-402309dbf76d",
   "metadata": {},
   "outputs": [],
   "source": [
    "# Occur during the parsing of source code\n"
   ]
  },
  {
   "cell_type": "markdown",
   "id": "ee19bad8-dafe-41c8-b279-74f3537b0b48",
   "metadata": {},
   "source": [
    "### Runtime Errors"
   ]
  },
  {
   "cell_type": "code",
   "execution_count": null,
   "id": "c25e905d-c797-49b2-8598-ec2116c16392",
   "metadata": {},
   "outputs": [],
   "source": [
    "# Occur during the execution of code\n"
   ]
  },
  {
   "cell_type": "markdown",
   "id": "8aa74e93-5344-4846-898b-808503ff8a44",
   "metadata": {},
   "source": [
    "### Semantic (functional) Error"
   ]
  },
  {
   "cell_type": "code",
   "execution_count": null,
   "id": "fd78b544-c954-45c1-9e62-dd42638bb0e8",
   "metadata": {},
   "outputs": [],
   "source": [
    "# Occur during the execution of code, but typically don't break the execution\n"
   ]
  },
  {
   "cell_type": "markdown",
   "id": "22d49cad-9b0b-4ff9-b915-829eb3d8e24c",
   "metadata": {},
   "source": [
    "## Debugging"
   ]
  },
  {
   "cell_type": "code",
   "execution_count": null,
   "id": "580daf0a-5655-4910-9231-afa6747d3f74",
   "metadata": {},
   "outputs": [],
   "source": []
  },
  {
   "cell_type": "markdown",
   "id": "ce48de49-01c9-487d-97f5-2717d6efaa29",
   "metadata": {},
   "source": [
    "## Recursion "
   ]
  },
  {
   "cell_type": "code",
   "execution_count": null,
   "id": "464c15d4-75eb-460e-806c-0cb986840a51",
   "metadata": {},
   "outputs": [],
   "source": []
  },
  {
   "cell_type": "markdown",
   "id": "ada26cfa-f425-402e-b5ac-be90293ebd72",
   "metadata": {},
   "source": [
    "## Memoization"
   ]
  },
  {
   "cell_type": "code",
   "execution_count": null,
   "id": "448bb6e5-72a8-46c3-82bb-eca8d2d5f526",
   "metadata": {},
   "outputs": [],
   "source": []
  }
 ],
 "metadata": {
  "kernelspec": {
   "display_name": "Python 3 (ipykernel)",
   "language": "python",
   "name": "python3"
  },
  "language_info": {
   "codemirror_mode": {
    "name": "ipython",
    "version": 3
   },
   "file_extension": ".py",
   "mimetype": "text/x-python",
   "name": "python",
   "nbconvert_exporter": "python",
   "pygments_lexer": "ipython3",
   "version": "3.10.9"
  }
 },
 "nbformat": 4,
 "nbformat_minor": 5
}
