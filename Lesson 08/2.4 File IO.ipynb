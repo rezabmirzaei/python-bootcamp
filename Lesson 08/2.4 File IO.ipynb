{
 "cells": [
  {
   "cell_type": "markdown",
   "id": "7d0302e8-24a1-4566-b8b9-344120d9e62b",
   "metadata": {},
   "source": [
    "# File I/O"
   ]
  },
  {
   "cell_type": "markdown",
   "id": "a38f715c-b5cb-4a8f-85b1-a0b264fbfce4",
   "metadata": {},
   "source": [
    "The basics with [open()](https://docs.python.org/3/library/functions.html#open) and [with](https://docs.python.org/3/reference/compound_stmts.html#the-with-statement)"
   ]
  },
  {
   "cell_type": "markdown",
   "id": "883b706d-76bc-4f55-92ce-906ee7d8cc29",
   "metadata": {},
   "source": [
    "## Opening a file"
   ]
  },
  {
   "cell_type": "code",
   "execution_count": 11,
   "id": "09799dfd-1565-4308-b375-e610bbbf3c1e",
   "metadata": {},
   "outputs": [
    {
     "name": "stdout",
     "output_type": "stream",
     "text": [
      "Open using relative path: file.txt\n",
      "Simple file\n",
      "\n",
      "Open using absolute path: C:\\Users\\noro-rmi\\Documents\\Python Bootcamp 2023-04-17\\Lesson 8\\file.txt\n",
      "['Simple file\\n', 'to read from\\n', 'and possibly write to']\n"
     ]
    }
   ],
   "source": [
    "import os\n",
    "\n",
    "file_name = \"file.txt\"\n",
    "\n",
    "# Open using relative path\n",
    "my_file = open(file_name)\n",
    "# Default mode is \"r\" (read)\n",
    "#my_file = open(\"file.txt\", \"r\") # Mode explicitly set to \"r\" (read)\n",
    "\n",
    "print(f\"Open using relative path: {file_name}\")\n",
    "print(my_file.readline())\n",
    "\n",
    "# Heads up! Remember to close the file!\n",
    "my_file.close()\n",
    "\n",
    "\n",
    "# Open using absolute path\n",
    "abs_path = os.path.abspath(file_name)\n",
    "\n",
    "print(f\"Open using absolute path: {abs_path}\")\n",
    "abs_path_file = open(abs_path)\n",
    "print(abs_path_file.readlines())\n",
    "\n",
    "# Close file\n",
    "abs_path_file.close()\n",
    "\n",
    "## ^^^^ NOT good practice!"
   ]
  },
  {
   "cell_type": "markdown",
   "id": "af8ab7d2-0b64-4db5-8b58-4faa5597ef8a",
   "metadata": {},
   "source": [
    "## Reading from a file"
   ]
  },
  {
   "cell_type": "code",
   "execution_count": null,
   "id": "32c821ea-a404-4837-a014-fa01c15d5419",
   "metadata": {},
   "outputs": [],
   "source": [
    "# with - Compound statement\n",
    "# Creates an \"IO context manager\"\n",
    "\n",
    "# with open(...) as <identifier>:\n",
    "    # Do something\n",
    "\n",
    "file_content = []\n",
    "with open(abs_path, \"r\") as our_file:\n",
    "    for line in our_file.readlines():\n",
    "        file_content.append(line.strip())\n",
    "        print(line.strip())\n",
    "        # Heads up! Cannot write, opened in READ mode \"r\".\n",
    "\n",
    "# File access no longer possible here (outside context of \"with\")\n",
    "#our_file.readline()\n",
    "\n",
    "# But any assignment made within context of \"with\" to vars declared outside...\n",
    "print(file_content)\n"
   ]
  },
  {
   "cell_type": "markdown",
   "id": "a6fe3a1d-c1ce-43b3-8065-97021f3c309e",
   "metadata": {},
   "source": [
    "## Writing to a file"
   ]
  },
  {
   "cell_type": "code",
   "execution_count": 18,
   "id": "b54a56bf-36ad-41de-b8a0-bf81750d84b7",
   "metadata": {},
   "outputs": [
    {
     "name": "stdout",
     "output_type": "stream",
     "text": [
      "[Errno 17] File exists: 'file.txt'\n"
     ]
    }
   ],
   "source": [
    "import os, time\n",
    "\n",
    "# Mode \"x\" --> Creates a new file (fails if file exists)\n",
    "file_name_x = \"file.txt\"\n",
    "\n",
    "# Can handle using unique file name\n",
    "unique_file_name = f\"my_file_{time.time()}.txt\"\n",
    "with open(unique_file_name, \"x\") as file_x:\n",
    "    file_x.write(\"Some text\")\n",
    "\n",
    "# Can handle using try/except\n",
    "try:\n",
    "    with open(file_name, \"x\") as file_x:\n",
    "        pass\n",
    "except FileExistsError as fee:\n",
    "    print(str(fee))\n",
    "\n",
    "\n",
    "# Mode \"w\" --> Creates a new file (overwrites if file exists)\n",
    "## Be very carefull!!!\n",
    "file_name_w = \"file_to_overwrite.txt\"\n",
    "\n",
    "# Can check for existence using \"isfile\"\n",
    "if not os.path.isfile(file_name_w):\n",
    "    with open(file_name_w, \"w\") as file_w:\n",
    "        file_w.write(\"Some other text\")\n",
    "\n",
    "# Mode \"a\" --> Appends content if file exists (creates a new file if not exists)\n",
    "file_name_a = \"file_to_append.txt\"\n",
    "\n",
    "with open(file_name_a, \"a\") as file_a:\n",
    "    file_a.write(\"Another line\")\n",
    "\n",
    "\n",
    "# Heads up! Cannot read, all opened in some variant of WRITE mode."
   ]
  },
  {
   "cell_type": "markdown",
   "id": "4f03997b-87c5-48db-a810-f98e4c1fbd0b",
   "metadata": {},
   "source": [
    "## Reading and writing simultaneously"
   ]
  },
  {
   "cell_type": "code",
   "execution_count": 25,
   "id": "fc802196-04a1-41b4-92f2-9e27ed4591b9",
   "metadata": {},
   "outputs": [],
   "source": [
    "# Bad practice!! Creates ambiguity.\n",
    "# Instead: read from one source, process, write to different source\n",
    "\n",
    "import uuid # see https://docs.python.org/3/library/uuid.html\n",
    "\n",
    "with open(\"file_to_append.txt\", \"r\") as file_to_read:\n",
    "    for line in file_to_read.readlines():\n",
    "        with open(f\"file_{str(uuid.uuid4())}.txt\", \"x\") as file_to_write_to:\n",
    "            file_to_write_to.write(line.rstrip())\n"
   ]
  },
  {
   "cell_type": "code",
   "execution_count": null,
   "id": "68d4699c-ea1c-46ac-ba83-d1ef568cc6b5",
   "metadata": {},
   "outputs": [],
   "source": []
  }
 ],
 "metadata": {
  "kernelspec": {
   "display_name": "Python 3 (ipykernel)",
   "language": "python",
   "name": "python3"
  },
  "language_info": {
   "codemirror_mode": {
    "name": "ipython",
    "version": 3
   },
   "file_extension": ".py",
   "mimetype": "text/x-python",
   "name": "python",
   "nbconvert_exporter": "python",
   "pygments_lexer": "ipython3",
   "version": "3.10.9"
  }
 },
 "nbformat": 4,
 "nbformat_minor": 5
}
