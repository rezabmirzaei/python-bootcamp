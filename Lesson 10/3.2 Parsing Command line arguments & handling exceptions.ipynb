{
 "cells": [
  {
   "cell_type": "markdown",
   "id": "e491aa5f-2cbd-4e03-aca6-2bce4230de1d",
   "metadata": {},
   "source": [
    "# 3.2 Parsing Command line arguments & handling exceptions"
   ]
  },
  {
   "cell_type": "markdown",
   "id": "f2c1c8d3-9b84-40f5-b52a-81b4b2a45989",
   "metadata": {},
   "source": [
    "## Command Line Arguments"
   ]
  },
  {
   "cell_type": "markdown",
   "id": "14403fa7-e1b5-4fae-8cf0-48a8baa8f896",
   "metadata": {},
   "source": [
    "``!python <filename>.py <arguments>``"
   ]
  },
  {
   "cell_type": "code",
   "execution_count": null,
   "id": "260fd98f-c974-4586-abdb-747b8ee774e7",
   "metadata": {},
   "outputs": [],
   "source": [
    "# Simple demo\n"
   ]
  },
  {
   "cell_type": "code",
   "execution_count": null,
   "id": "f4299afb-992b-4500-b421-fcc18db6aa7b",
   "metadata": {},
   "outputs": [],
   "source": [
    "# Using sys.argv\n"
   ]
  },
  {
   "cell_type": "code",
   "execution_count": null,
   "id": "26a69166-f094-47b5-b05a-eedc595fb602",
   "metadata": {},
   "outputs": [],
   "source": [
    "# sys_argv_calc.py\n"
   ]
  },
  {
   "cell_type": "code",
   "execution_count": null,
   "id": "8891f726-5314-4bb8-a07f-fab415f21268",
   "metadata": {},
   "outputs": [],
   "source": [
    "# Using argparse\n",
    "# https://docs.python.org/3/howto/argparse.html\n"
   ]
  },
  {
   "cell_type": "markdown",
   "id": "40e5f89f-e5f8-4909-97c1-95a24cce1117",
   "metadata": {},
   "source": [
    "## Exceptions"
   ]
  },
  {
   "cell_type": "markdown",
   "id": "1bd6bacf-6364-47b5-8b13-a9b90519332f",
   "metadata": {},
   "source": [
    "An exception is an anomalous or exceptional conditions that may occur during the execution of a program. In such cases, Python generates an exception that can be handled, e.g. to prevent the program from crashing. Examples of some anamalous conditions:\n",
    "* Trying to read fro a file that does not exist\n",
    "* Dividing by zero\n",
    "* Converting text (alpha) to int\n",
    "... and many, many, many more!"
   ]
  },
  {
   "cell_type": "markdown",
   "id": "f8b3af83-621d-4b19-a016-441b1eb5e25b",
   "metadata": {},
   "source": [
    "https://docs.python.org/3/library/exceptions.html#exception-hierarchy"
   ]
  },
  {
   "cell_type": "markdown",
   "id": "56f46dcd-33b6-412c-afa6-f1c5030394c7",
   "metadata": {},
   "source": [
    "A **few** best practices:\n",
    "* Handle common conditions without throwing exceptions\n",
    "  * Instead of throwing FileNotFoundError, check for file exsitence before attemting to open file\n",
    "  * Instead of throwing ZeroDivisionError, ensure divisor is not zero\n",
    "* Use try/except/finally blocks to recover from errors or release resources\n",
    "* Design classes so that exceptions can be avoided"
   ]
  },
  {
   "cell_type": "code",
   "execution_count": null,
   "id": "2e960ecf-cf09-4a53-bc3a-72c89f3d99fb",
   "metadata": {},
   "outputs": [],
   "source": []
  }
 ],
 "metadata": {
  "kernelspec": {
   "display_name": "Python 3 (ipykernel)",
   "language": "python",
   "name": "python3"
  },
  "language_info": {
   "codemirror_mode": {
    "name": "ipython",
    "version": 3
   },
   "file_extension": ".py",
   "mimetype": "text/x-python",
   "name": "python",
   "nbconvert_exporter": "python",
   "pygments_lexer": "ipython3",
   "version": "3.10.9"
  }
 },
 "nbformat": 4,
 "nbformat_minor": 5
}
