{
 "cells": [
  {
   "cell_type": "markdown",
   "id": "e491aa5f-2cbd-4e03-aca6-2bce4230de1d",
   "metadata": {},
   "source": [
    "# 3.2 Parsing Command line arguments & handling exceptions"
   ]
  },
  {
   "cell_type": "markdown",
   "id": "f2c1c8d3-9b84-40f5-b52a-81b4b2a45989",
   "metadata": {},
   "source": [
    "## Command Line Arguments"
   ]
  },
  {
   "cell_type": "markdown",
   "id": "14403fa7-e1b5-4fae-8cf0-48a8baa8f896",
   "metadata": {},
   "source": [
    "``!python <filename>.py <arguments>``"
   ]
  },
  {
   "cell_type": "code",
   "execution_count": null,
   "id": "260fd98f-c974-4586-abdb-747b8ee774e7",
   "metadata": {},
   "outputs": [],
   "source": [
    "# Simple demo (how to execute Python scripts in Jupyter)\n",
    "!python demo.py"
   ]
  },
  {
   "cell_type": "code",
   "execution_count": null,
   "id": "f4299afb-992b-4500-b421-fcc18db6aa7b",
   "metadata": {
    "tags": []
   },
   "outputs": [],
   "source": [
    "# Using sys.argv\n",
    "!python sys_argv_demo.py 1 , \"test\" 2.3"
   ]
  },
  {
   "cell_type": "code",
   "execution_count": null,
   "id": "26a69166-f094-47b5-b05a-eedc595fb602",
   "metadata": {},
   "outputs": [],
   "source": [
    "# sys_argv_calc.py\n",
    "!python sys_argv_calc.py subtraction 2 3"
   ]
  },
  {
   "cell_type": "code",
   "execution_count": null,
   "id": "8891f726-5314-4bb8-a07f-fab415f21268",
   "metadata": {},
   "outputs": [],
   "source": [
    "# Using argparse\n",
    "# Allows us to define which arguments, order, positional (required) vs optional, set type, add help-text.\n",
    "# https://docs.python.org/3/howto/argparse.html\n",
    "#!python argparse_simple.py \"first\" \"second\"\n",
    "\n",
    "!python argparse_demo.py -h\n",
    "!python argparse_demo.py \"Hello\" 4 -opr \"test\" -opd\n",
    "\n",
    "# Heads up! by default supports -h (--help)\n"
   ]
  },
  {
   "cell_type": "code",
   "execution_count": null,
   "id": "78a973a8-4e9d-417c-b90f-6965d328375c",
   "metadata": {},
   "outputs": [],
   "source": [
    "# argparse_calc.py\n",
    "!python argparse_calc.py 4 3"
   ]
  },
  {
   "cell_type": "markdown",
   "id": "40e5f89f-e5f8-4909-97c1-95a24cce1117",
   "metadata": {},
   "source": [
    "## Exceptions"
   ]
  },
  {
   "cell_type": "markdown",
   "id": "1bd6bacf-6364-47b5-8b13-a9b90519332f",
   "metadata": {},
   "source": [
    "An exception is an anomalous or exceptional conditions that may occur during the execution of a program. In such cases, Python generates an exception that can be handled, e.g. to prevent the program from crashing. Examples of some anamalous conditions:\n",
    "* Trying to read from a file that does not exist\n",
    "* Dividing by zero\n",
    "* Converting text (alpha) to int\n",
    "* ... and many, many, many more!"
   ]
  },
  {
   "cell_type": "markdown",
   "id": "f8b3af83-621d-4b19-a016-441b1eb5e25b",
   "metadata": {},
   "source": [
    "https://docs.python.org/3/library/exceptions.html#exception-hierarchy"
   ]
  },
  {
   "cell_type": "markdown",
   "id": "bff9eabc-8245-4e68-a3da-d7fd39883481",
   "metadata": {},
   "source": [
    "### Try & Catch\n",
    "\n",
    "Although python has Try/**Except** 😋"
   ]
  },
  {
   "cell_type": "code",
   "execution_count": null,
   "id": "7c19b844-dcd4-491a-9a01-eddc33bd0648",
   "metadata": {},
   "outputs": [],
   "source": [
    "# Simple example\n",
    "\n",
    "def convert_to_int(input_to_convert):\n",
    "    try:\n",
    "        return int(input_to_convert)\n",
    "    except ValueError as ve:\n",
    "        print(str(ve))\n",
    "\n",
    "convert_to_int(\"Text\")"
   ]
  },
  {
   "cell_type": "markdown",
   "id": "4d276b3a-f817-4113-bbbf-aa54743da0b9",
   "metadata": {},
   "source": [
    "### Before we continue\n",
    "\n",
    "**Remember:** Handling exceptions alone doesn't necessarily \"fix\" your program. You still need to handle the flow of you program after handling exceptions."
   ]
  },
  {
   "cell_type": "markdown",
   "id": "6fd783d5-758f-4d52-8787-5c85103cc11f",
   "metadata": {},
   "source": [
    "### Finally & Else"
   ]
  },
  {
   "cell_type": "code",
   "execution_count": null,
   "id": "235873b5-095c-4330-a0f1-e28ddbd35a48",
   "metadata": {},
   "outputs": [],
   "source": [
    "# Try/Catch/Else/Finally\n",
    "\n",
    "def convert_to_int(input_to_convert):\n",
    "    return_value = None\n",
    "    try:\n",
    "        return_value = int(input_to_convert)\n",
    "    except ValueError as ve:\n",
    "        print(str(ve))\n",
    "    else:\n",
    "        print(\"Success!! 'else' executes only if 'try' succeeds.\")\n",
    "    finally:\n",
    "        print(\"Done!! 'finally' executes ALWAYS.\")\n",
    "        return return_value\n",
    "\n",
    "convert_to_int(\"text\")\n",
    "\n"
   ]
  },
  {
   "cell_type": "markdown",
   "id": "a6322b10-80de-49e4-a7e8-14a38d80afa4",
   "metadata": {},
   "source": [
    "### Raising exceptions\n",
    "\n",
    "But why? Might be needed due to business requirements for finer level of control over potential exceptions, specially when combined with custom exception (not in our scope though). "
   ]
  },
  {
   "cell_type": "code",
   "execution_count": null,
   "id": "d652e809-7cac-4a59-9e5b-b90e595affe8",
   "metadata": {},
   "outputs": [],
   "source": [
    "# Keyword 'raise' (other languages typically use the keyword 'throw')\n",
    "\n",
    "def raise_errors(data):\n",
    "    if type(data) == int:\n",
    "        raise TypeError\n",
    "    elif type(data) == str:\n",
    "        raise ValueError(\"Cannot process strings\")\n",
    "    return data\n",
    "\n",
    "for item in [3, \"some text\"]:\n",
    "    try:\n",
    "        raise_errors(item)\n",
    "    except Exception:\n",
    "        pass\n"
   ]
  },
  {
   "cell_type": "code",
   "execution_count": null,
   "id": "98cf5ba0-efec-47a9-a1c3-bbeff2705c1a",
   "metadata": {},
   "outputs": [],
   "source": [
    "# Propagate an exception\n",
    "def propagate_exception(fn):\n",
    "    try:\n",
    "        f = open(fn, \"w\")\n",
    "        some_stupid_operation = 1 / 0\n",
    "    except ZeroDivisionError as zde:\n",
    "        f.write(\"ERROR! Division by zero!\")\n",
    "        raise\n",
    "        #f.close()\n",
    "    else:\n",
    "        f.write(\"Success!\")\n",
    "        #f.close()\n",
    "    finally:\n",
    "        f.close()\n",
    "\n",
    "propagate_exception(\"dummy.txt\")"
   ]
  },
  {
   "cell_type": "markdown",
   "id": "56f46dcd-33b6-412c-afa6-f1c5030394c7",
   "metadata": {},
   "source": [
    "### A **few** best practices:\n",
    "* Handle common conditions without throwing exceptions\n",
    "  * Instead of throwing FileNotFoundError, check for file exsitence before attemting to open file\n",
    "  * Instead of throwing ZeroDivisionError, ensure divisor is not zero\n",
    "* Use try/except/else/finally blocks to recover from errors or release resources\n",
    "* Design classes so that exceptions can be avoided"
   ]
  },
  {
   "cell_type": "code",
   "execution_count": null,
   "id": "2e960ecf-cf09-4a53-bc3a-72c89f3d99fb",
   "metadata": {},
   "outputs": [],
   "source": [
    "# One final example\n",
    "while True:\n",
    "    try:\n",
    "        age = int(input(\"Please enter your age:\"))\n",
    "    except ValueError:\n",
    "        print(\"Sorry, I didn't understand that.\")\n",
    "        continue\n",
    "    else:\n",
    "        print(f\"Thank you! You are {'of legal age 🤗' if age >= 18 else 'a minor 👶🏼'}\")\n",
    "        break"
   ]
  },
  {
   "cell_type": "code",
   "execution_count": null,
   "id": "7bb2b1de-e2c9-42bb-9154-bd6c630e7e68",
   "metadata": {},
   "outputs": [],
   "source": []
  }
 ],
 "metadata": {
  "kernelspec": {
   "display_name": "Python 3 (ipykernel)",
   "language": "python",
   "name": "python3"
  },
  "language_info": {
   "codemirror_mode": {
    "name": "ipython",
    "version": 3
   },
   "file_extension": ".py",
   "mimetype": "text/x-python",
   "name": "python",
   "nbconvert_exporter": "python",
   "pygments_lexer": "ipython3",
   "version": "3.10.9"
  }
 },
 "nbformat": 4,
 "nbformat_minor": 5
}
