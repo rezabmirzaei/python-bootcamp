{
 "cells": [
  {
   "cell_type": "markdown",
   "id": "e491aa5f-2cbd-4e03-aca6-2bce4230de1d",
   "metadata": {},
   "source": [
    "# 3.2 Parsing Command line arguments & handling exceptions"
   ]
  },
  {
   "cell_type": "code",
   "execution_count": null,
   "id": "8630935b-f598-4a77-bd7c-763cc2c3aab8",
   "metadata": {},
   "outputs": [],
   "source": []
  }
 ],
 "metadata": {
  "kernelspec": {
   "display_name": "Python 3 (ipykernel)",
   "language": "python",
   "name": "python3"
  },
  "language_info": {
   "codemirror_mode": {
    "name": "ipython",
    "version": 3
   },
   "file_extension": ".py",
   "mimetype": "text/x-python",
   "name": "python",
   "nbconvert_exporter": "python",
   "pygments_lexer": "ipython3",
   "version": "3.10.9"
  }
 },
 "nbformat": 4,
 "nbformat_minor": 5
}
