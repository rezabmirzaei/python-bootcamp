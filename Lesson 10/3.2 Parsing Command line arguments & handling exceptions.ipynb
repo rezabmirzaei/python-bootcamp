{
 "cells": [
  {
   "cell_type": "markdown",
   "id": "e491aa5f-2cbd-4e03-aca6-2bce4230de1d",
   "metadata": {},
   "source": [
    "# 3.2 Parsing Command line arguments & handling exceptions"
   ]
  },
  {
   "cell_type": "markdown",
   "id": "f2c1c8d3-9b84-40f5-b52a-81b4b2a45989",
   "metadata": {},
   "source": [
    "## Command Line Arguments"
   ]
  },
  {
   "cell_type": "markdown",
   "id": "14403fa7-e1b5-4fae-8cf0-48a8baa8f896",
   "metadata": {},
   "source": [
    "``!python <filename>.py <arguments>``"
   ]
  },
  {
   "cell_type": "code",
   "execution_count": 20,
   "id": "f4299afb-992b-4500-b421-fcc18db6aa7b",
   "metadata": {},
   "outputs": [],
   "source": [
    "# Using sys.argv\n"
   ]
  },
  {
   "cell_type": "code",
   "execution_count": 19,
   "id": "26a69166-f094-47b5-b05a-eedc595fb602",
   "metadata": {},
   "outputs": [],
   "source": [
    "# calc.py\n"
   ]
  },
  {
   "cell_type": "code",
   "execution_count": null,
   "id": "8891f726-5314-4bb8-a07f-fab415f21268",
   "metadata": {},
   "outputs": [],
   "source": []
  }
 ],
 "metadata": {
  "kernelspec": {
   "display_name": "Python 3 (ipykernel)",
   "language": "python",
   "name": "python3"
  },
  "language_info": {
   "codemirror_mode": {
    "name": "ipython",
    "version": 3
   },
   "file_extension": ".py",
   "mimetype": "text/x-python",
   "name": "python",
   "nbconvert_exporter": "python",
   "pygments_lexer": "ipython3",
   "version": "3.10.9"
  }
 },
 "nbformat": 4,
 "nbformat_minor": 5
}
