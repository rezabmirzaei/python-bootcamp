{
 "cells": [
  {
   "cell_type": "markdown",
   "id": "f2352eb6-45a1-44da-beb6-a3ab224a05a7",
   "metadata": {},
   "source": [
    "# for-loop"
   ]
  },
  {
   "cell_type": "code",
   "execution_count": null,
   "id": "a36126c2-078c-453c-88ea-17d90e36b00c",
   "metadata": {
    "tags": []
   },
   "outputs": [],
   "source": [
    "total_sum = 0\n",
    "\n",
    "for i in range(0, 1001):\n",
    "    result = \"\"\n",
    "    if i % 3 == 0:\n",
    "        result += \"Fizz\"\n",
    "    if i % 5 == 0:\n",
    "        result += \"Buzz\"\n",
    "    if result != \"\":\n",
    "        total_sum += len(result)\n",
    "        # print(result)\n",
    "\n",
    "print(total_sum)"
   ]
  },
  {
   "cell_type": "markdown",
   "id": "144a0dc4-dd88-4c0d-a2da-81951aa7c01f",
   "metadata": {},
   "source": [
    "# FizzBuzz function"
   ]
  },
  {
   "cell_type": "code",
   "execution_count": null,
   "id": "d864dea8-8d2c-48a8-b138-368b0b08f04d",
   "metadata": {},
   "outputs": [],
   "source": [
    "def fizzbuzz(numb):\n",
    "    \"\"\" Returns 'Fizz', 'Buzz' or 'FizzBuzz' based on the divisibility of an integer 'numb' as parameter. \"\"\"\n",
    "    result = \"\"\n",
    "    if numb % 3 == 0:\n",
    "        result += \"Fizz\"\n",
    "    if numb % 5 == 0:\n",
    "        result += \"Buzz\"\n",
    "    return result\n",
    "\n",
    "help(fizzbuzz)\n",
    "print(fizzbuzz(3))\n",
    "print(fizzbuzz(5))\n",
    "print(fizzbuzz(15))\n",
    "\n",
    "total_sum = 0\n",
    "\n",
    "for i in range(0, 1001):\n",
    "    fizzbuzz_result = fizzbuzz(i)\n",
    "    total_sum += len(fizzbuzz_result)\n",
    "\n",
    "print(total_sum)"
   ]
  },
  {
   "cell_type": "markdown",
   "id": "5fcf403d-c4f6-418b-a9c4-03de5ad813ef",
   "metadata": {},
   "source": [
    "# Recursive function"
   ]
  },
  {
   "cell_type": "code",
   "execution_count": null,
   "id": "41a572b3-121d-4619-996d-48423ffebfcd",
   "metadata": {},
   "outputs": [],
   "source": [
    "# Slightly different approach, inspired by one of the student\n",
    "\n",
    "all_fizzbuzzes = []\n",
    "def recursive_fizzbuzz(start, end):\n",
    "    # Question for the students: Why do we do this?\n",
    "    if (start == 0):\n",
    "        all_fizzbuzzes.clear()\n",
    "    result = \"\"\n",
    "    if start % 3 == 0:\n",
    "        result += \"Fizz\"\n",
    "    if start % 5 == 0:\n",
    "        result += \"Buzz\"\n",
    "    all_fizzbuzzes.append(len(result))\n",
    "    if start < end:\n",
    "        recursive_fizzbuzz(start + 1, end)\n",
    "    return sum(all_fizzbuzzes)\n",
    "\n",
    "total_sum = recursive_fizzbuzz(0, 1000)\n",
    "print(total_sum)\n",
    "\n",
    "total_sum = recursive_fizzbuzz(0, 1000)\n",
    "print(total_sum)\n"
   ]
  },
  {
   "cell_type": "code",
   "execution_count": null,
   "id": "30dafe9f-b3e2-4d27-b4df-204b7907e291",
   "metadata": {},
   "outputs": [],
   "source": []
  }
 ],
 "metadata": {
  "kernelspec": {
   "display_name": "Python 3 (ipykernel)",
   "language": "python",
   "name": "python3"
  },
  "language_info": {
   "codemirror_mode": {
    "name": "ipython",
    "version": 3
   },
   "file_extension": ".py",
   "mimetype": "text/x-python",
   "name": "python",
   "nbconvert_exporter": "python",
   "pygments_lexer": "ipython3",
   "version": "3.10.9"
  }
 },
 "nbformat": 4,
 "nbformat_minor": 5
}
