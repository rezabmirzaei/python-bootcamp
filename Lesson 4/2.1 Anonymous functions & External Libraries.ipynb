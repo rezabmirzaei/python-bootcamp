{
 "cells": [
  {
   "cell_type": "markdown",
   "id": "d4a4182b-fc97-4b53-b502-24424b532532",
   "metadata": {},
   "source": [
    "# Anonymous functions & External Libraries"
   ]
  },
  {
   "cell_type": "code",
   "execution_count": null,
   "id": "48551991-2e7c-4aa5-87a4-9da74d01a86f",
   "metadata": {},
   "outputs": [],
   "source": []
  }
 ],
 "metadata": {
  "kernelspec": {
   "display_name": "Python 3 (ipykernel)",
   "language": "python",
   "name": "python3"
  },
  "language_info": {
   "codemirror_mode": {
    "name": "ipython",
    "version": 3
   },
   "file_extension": ".py",
   "mimetype": "text/x-python",
   "name": "python",
   "nbconvert_exporter": "python",
   "pygments_lexer": "ipython3",
   "version": "3.10.9"
  }
 },
 "nbformat": 4,
 "nbformat_minor": 5
}
