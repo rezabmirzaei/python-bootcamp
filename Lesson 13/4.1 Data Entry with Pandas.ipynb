{
 "cells": [
  {
   "cell_type": "markdown",
   "id": "e5bce58c-25fb-47fb-980f-70cbdac89a7c",
   "metadata": {},
   "source": [
    "# Pandas\n",
    "\n",
    "Python is well suited to handle basic data manipulation tasks, Pandas however offers a higher-level interface specifically designed for data management and analysis. It provides a more efficient, intuitive, and expressive way to work with tabular data. It is one of the most popular and widely used Python libraries for data science.\n",
    "\n",
    "https://pandas.pydata.org/docs/user_guide/10min.html"
   ]
  },
  {
   "cell_type": "code",
   "execution_count": null,
   "id": "a624e99a-c20c-46b8-b1a0-37f8d027c08c",
   "metadata": {},
   "outputs": [],
   "source": [
    "# Installed as part of Anaconda (if done according to class)\n",
    "# If not; install using \"pip install pandas\"\n",
    "\n",
    "# Typical to import pandas with alias \"pd\"\n",
    "import pandas as pd"
   ]
  },
  {
   "cell_type": "markdown",
   "id": "0f97b0a7-0a7c-4048-a9a0-5d9ce9d8756a",
   "metadata": {},
   "source": [
    "## Series and DataFrame\n",
    "\n",
    "* A *Series* in Pandas is a one-dimensional array holding data of any type. \n",
    "* A *DataFrame* in Pandas is a 2 dimensional array, or a table with rows and columns.\n",
    "\n",
    "Data sets in Pandas are usually multi-dimensional tables (DataFrames). A Series is like a column, a DataFrame is the whole table."
   ]
  },
  {
   "cell_type": "markdown",
   "id": "a8dc7501-03b7-4078-93a6-e639b1a5a5da",
   "metadata": {},
   "source": [
    "### Series"
   ]
  },
  {
   "cell_type": "code",
   "execution_count": null,
   "id": "8c073d22-76ee-4bee-bc88-07422e1471da",
   "metadata": {},
   "outputs": [],
   "source": [
    "# from pandas import Series, DataFrame\n",
    "\n",
    "my_series = pd.Series([\"one\", \"two\", \"three\", \"four\", \"five\"])\n",
    "print(my_series)\n",
    "\n",
    "# Heads up! If nothing epecified, values are labeled with default index numbers starting on 0"
   ]
  },
  {
   "cell_type": "code",
   "execution_count": null,
   "id": "764da64b-43dc-4408-92df-5a9bc3e1ffd3",
   "metadata": {},
   "outputs": [],
   "source": [
    "my_series.values"
   ]
  },
  {
   "cell_type": "code",
   "execution_count": null,
   "id": "8edef88d-1082-4aaf-b6f0-87635b898d06",
   "metadata": {},
   "outputs": [],
   "source": [
    "my_series.index"
   ]
  },
  {
   "cell_type": "code",
   "execution_count": null,
   "id": "af12a310-9257-4b12-8a51-71e471b53a5a",
   "metadata": {},
   "outputs": [],
   "source": [
    "# Add explicit indexes\n",
    "\n",
    "my_series = pd.Series([\"one\", \"two\", \"three\", \"four\", \"five\"], [\"a\", \"b\", \"c\", \"d\", \"e\"])\n",
    "print(my_series)\n",
    "print(f\"Value of index b: {my_series['b']}\")"
   ]
  },
  {
   "cell_type": "code",
   "execution_count": null,
   "id": "6bfbeba0-0d33-4851-9cec-04ab657d14d3",
   "metadata": {},
   "outputs": [],
   "source": [
    "# Assignments (data manipulation)\n",
    "\n",
    "my_series[\"b\"] += \"_more\"\n",
    "print(my_series)"
   ]
  },
  {
   "cell_type": "code",
   "execution_count": null,
   "id": "60a199a7-e8ff-4370-abb4-4c771121fdfd",
   "metadata": {},
   "outputs": [],
   "source": [
    "# Get subset of data (filtering)\n",
    "\n",
    "my_series = my_series[[\"a\", \"c\", \"d\", \"e\"]]\n",
    "print(my_series)"
   ]
  },
  {
   "cell_type": "code",
   "execution_count": null,
   "id": "84da1c8d-a85c-42c1-9738-d5ca406ccc67",
   "metadata": {},
   "outputs": [],
   "source": [
    "# Filter on conditions (filtering)\n",
    "\n",
    "my_series = my_series[my_series != \"three\"]\n",
    "print(my_series)"
   ]
  },
  {
   "cell_type": "code",
   "execution_count": null,
   "id": "ee6cec8a-78a8-432c-80c7-7414567b98b5",
   "metadata": {},
   "outputs": [],
   "source": [
    "# Manipulate all data\n",
    "\n",
    "my_series =  my_series * 2\n",
    "print(my_series)\n",
    "\n",
    "my_lambda = lambda s : s * 2\n",
    "my_series = my_lambda(my_series)\n",
    "print(my_series)\n"
   ]
  },
  {
   "cell_type": "code",
   "execution_count": null,
   "id": "ce5c6468-d67b-4ae7-85b4-58086b8fd5aa",
   "metadata": {},
   "outputs": [],
   "source": [
    "# Check for existence (key)\n",
    "\n",
    "print(\"a\" in my_series)\n",
    "print(\"x\" in my_series)"
   ]
  },
  {
   "cell_type": "code",
   "execution_count": null,
   "id": "21b7b459-9285-40af-8c6c-f747277fd912",
   "metadata": {},
   "outputs": [],
   "source": [
    "# Simplify it a bit, use a dict\n",
    "\n",
    "cities = {'Oslo':634293, 'Bergen':271949, 'Kristiansand':85983}\n",
    "city_series = pd.Series(cities)\n",
    "print(city_series)"
   ]
  },
  {
   "cell_type": "code",
   "execution_count": null,
   "id": "f5c27813-020b-4d08-a61a-f353a7f723c7",
   "metadata": {},
   "outputs": [],
   "source": [
    "# Restrict what you want\n",
    "\n",
    "cities = {'Oslo':634293, 'Bergen':271949, 'Kristiansand':85983}\n",
    "city_series = pd.Series(cities, [\"Oslo\", \"Bergen\"])\n",
    "print(city_series)"
   ]
  },
  {
   "cell_type": "code",
   "execution_count": null,
   "id": "2af7e6d8-9923-4a27-9d40-f7de583d05cd",
   "metadata": {},
   "outputs": [],
   "source": [
    "# Properly name it all\n",
    "cities = {'Oslo':634293, 'Bergen':271949, 'Kristiansand':85983}\n",
    "city_series = pd.Series(cities, name='Population')\n",
    "# city_series.name = \"Population\"\n",
    "city_series.index.name = \"City\"\n",
    "print(city_series)"
   ]
  },
  {
   "cell_type": "markdown",
   "id": "83ca1180-e090-4816-8bdb-c764602f2ebe",
   "metadata": {},
   "source": [
    "### DataFrame\n",
    "* Support named/labeled rows & columns\n",
    "* Can perform arithmetic operations on rows and columns\n",
    "* Support reading files like CSV, Excel and JSON"
   ]
  },
  {
   "cell_type": "code",
   "execution_count": null,
   "id": "b03f4965-294c-4739-ad95-26ea170f5a49",
   "metadata": {},
   "outputs": [],
   "source": [
    "# Simple example\n",
    "\n",
    "names = [\"Kari\", \"Ola\", \"Per\"]\n",
    "ages = [50, 40, 45]\n",
    "professions = [\"Doctor\", \"Bus Driver\", \"Engineer\"]\n",
    "\n",
    "person_dataframe = pd.DataFrame(list(zip(names, ages, professions)))\n",
    "print(person_dataframe)"
   ]
  },
  {
   "cell_type": "code",
   "execution_count": null,
   "id": "d06b1849-5f62-4627-aee4-09e25467eeed",
   "metadata": {},
   "outputs": [],
   "source": [
    "# Name columns (simple example)\n",
    "\n",
    "person_dataframe = pd.DataFrame(list(zip(names, ages, professions)), columns=[\"Name\", \"Age\", \"Profession\"])\n",
    "print(person_dataframe)"
   ]
  },
  {
   "cell_type": "code",
   "execution_count": null,
   "id": "5b6d500e-1675-4e19-818e-577167c3bb4d",
   "metadata": {},
   "outputs": [],
   "source": [
    "# Start index at another value\n",
    "\n",
    "person_dataframe.index += 1\n",
    "print(person_dataframe)"
   ]
  },
  {
   "cell_type": "code",
   "execution_count": null,
   "id": "710c98a2-8200-45f3-9fe2-9743e81fae76",
   "metadata": {},
   "outputs": [],
   "source": [
    "# Custom index\n",
    "person_dataframe.index = [\"a\", \"b\", \"c\"]\n",
    "print(person_dataframe)"
   ]
  },
  {
   "cell_type": "code",
   "execution_count": null,
   "id": "1f02617c-cfdf-4cf4-ab40-59b0e9199464",
   "metadata": {},
   "outputs": [],
   "source": [
    "# Pick only a few elements\n",
    "\n",
    "# From the top\n",
    "print(person_dataframe.head(2)) # Default 5 first\n",
    "\n",
    "# From the end\n",
    "print(person_dataframe.tail(1)) # Default 5 last"
   ]
  },
  {
   "cell_type": "code",
   "execution_count": null,
   "id": "0c2d52e1-1046-4d7c-a12b-a7a2bac3dd17",
   "metadata": {},
   "outputs": [],
   "source": [
    "# Check data types\n",
    "\n",
    "print(person_dataframe.dtypes)\n",
    "print(person_dataframe[\"Age\"].dtype)"
   ]
  },
  {
   "cell_type": "code",
   "execution_count": null,
   "id": "968c7382-1d6f-4863-a6af-5d3fbf61d295",
   "metadata": {},
   "outputs": [],
   "source": [
    "# Simple operations\n",
    "\n",
    "over_40_dataframe = person_dataframe[person_dataframe[\"Age\"] > 40]\n",
    "print(over_40_dataframe)"
   ]
  },
  {
   "cell_type": "markdown",
   "id": "8ad6c7e0-3696-4016-9960-8ee219aa8175",
   "metadata": {},
   "source": [
    "************"
   ]
  },
  {
   "cell_type": "code",
   "execution_count": null,
   "id": "e83c8858-4475-4e6a-a00e-bd243cf9ffff",
   "metadata": {},
   "outputs": [],
   "source": [
    "# A few other examples (perhaps better?)\n",
    "\n",
    "persons_dict = {\n",
    "    \"Name\": [\"Kari\", \"Ola\", \"Per\"],\n",
    "    \"Age\": [50, 40, 45],\n",
    "    \"Profession\": [\"Doctor\", \"Bus Driver\", \"Engineer\"]\n",
    "}\n",
    "\n",
    "person_dataframe = pd.DataFrame(persons_dict)\n",
    "#person_dataframe = pd.DataFrame(persons_dict, index=[\"A\", \"B\", \"C\"])\n",
    "print(person_dataframe)"
   ]
  },
  {
   "cell_type": "code",
   "execution_count": null,
   "id": "df842d63-ff79-4391-b80d-5f00dd12f062",
   "metadata": {},
   "outputs": [],
   "source": [
    "# Only certain elements\n",
    "\n",
    "person_dataframe = pd.DataFrame(persons_dict, columns=[\"Name\", \"Profession\"]) # \"Age\" is omitted\n",
    "print(person_dataframe)"
   ]
  },
  {
   "cell_type": "code",
   "execution_count": null,
   "id": "ef3ac18e-f824-4c4d-b5f2-b04f529533f5",
   "metadata": {},
   "outputs": [],
   "source": [
    "# Adding column\n",
    "\n",
    "seniority = [15, 8, 12.5]\n",
    "person_dataframe[\"Seniority\"] = seniority\n",
    "print(person_dataframe)\n",
    "print(person_dataframe[\"Seniority\"].dtype)"
   ]
  },
  {
   "cell_type": "code",
   "execution_count": null,
   "id": "fd6f4ebd-4e4f-48a0-9a56-fd9d44f8b2df",
   "metadata": {},
   "outputs": [],
   "source": [
    "# 2 dimentional array as data input\n",
    "\n",
    "epl_league_result = [\n",
    "    [\"Manchester City\", 45, 89],\n",
    "    [\"Arsenal\", 28, 85],\n",
    "    [\"Manchester United\", 34, 79]\n",
    "]\n",
    "epl_dataframe = pd.DataFrame(epl_league_result, columns=[\"Team\", \"Goal diff.\", \"Points\"])\n",
    "epl_dataframe.index += 1 \n",
    "print(epl_dataframe)\n"
   ]
  },
  {
   "cell_type": "markdown",
   "id": "8709b79c-dfa3-4dfe-b558-0a7b8078a78c",
   "metadata": {},
   "source": [
    "## Read from file"
   ]
  },
  {
   "cell_type": "code",
   "execution_count": null,
   "id": "66f19982-abb4-4ccd-a945-fa6984201064",
   "metadata": {},
   "outputs": [],
   "source": []
  }
 ],
 "metadata": {
  "kernelspec": {
   "display_name": "Python 3 (ipykernel)",
   "language": "python",
   "name": "python3"
  },
  "language_info": {
   "codemirror_mode": {
    "name": "ipython",
    "version": 3
   },
   "file_extension": ".py",
   "mimetype": "text/x-python",
   "name": "python",
   "nbconvert_exporter": "python",
   "pygments_lexer": "ipython3",
   "version": "3.10.9"
  }
 },
 "nbformat": 4,
 "nbformat_minor": 5
}
