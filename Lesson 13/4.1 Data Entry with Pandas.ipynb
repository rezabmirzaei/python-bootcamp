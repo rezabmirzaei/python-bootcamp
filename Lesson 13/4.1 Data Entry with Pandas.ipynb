{
 "cells": [
  {
   "cell_type": "markdown",
   "id": "e5bce58c-25fb-47fb-980f-70cbdac89a7c",
   "metadata": {},
   "source": [
    "# Pandas\n",
    "\n",
    "Python is well suited to handle basic data manipulation tasks, Pandas however offers a higher-level interface specifically designed for data management and analysis. It provides a more efficient, intuitive, and expressive way to work with tabular data. It is one of the most popular and widely used Python libraries for data science.\n",
    "\n",
    "https://pandas.pydata.org/docs/user_guide/10min.html"
   ]
  },
  {
   "cell_type": "code",
   "execution_count": null,
   "id": "a624e99a-c20c-46b8-b1a0-37f8d027c08c",
   "metadata": {},
   "outputs": [],
   "source": [
    "# Installed as part of Anaconda (if done according to class)\n",
    "# If not; install using \"pip install pandas\"\n",
    "\n",
    "# Typical to import pandas with alias \"pd\"\n",
    "import pandas as pd"
   ]
  },
  {
   "cell_type": "markdown",
   "id": "0f97b0a7-0a7c-4048-a9a0-5d9ce9d8756a",
   "metadata": {},
   "source": [
    "## Series and DataFrame\n",
    "\n",
    "* A *Series* in Pandas is a one-dimensional array holding data of any type. \n",
    "* A *DataFrame* in Pandas is a 2 dimensional array, or a table with rows and columns, where each column can be of any type.\n",
    "\n",
    "Data sets in Pandas are usually multi-dimensional tables (DataFrames). A Series is like a column, a DataFrame is the whole table."
   ]
  },
  {
   "cell_type": "code",
   "execution_count": null,
   "id": "8c073d22-76ee-4bee-bc88-07422e1471da",
   "metadata": {},
   "outputs": [],
   "source": [
    "# from pandas import Series, DataFrame\n",
    "\n",
    "my_series = pd.Series([\"one\", \"two\", \"three\", \"four\", \"five\"])\n",
    "print(my_series)"
   ]
  },
  {
   "cell_type": "code",
   "execution_count": null,
   "id": "764da64b-43dc-4408-92df-5a9bc3e1ffd3",
   "metadata": {},
   "outputs": [],
   "source": [
    "my_series.values"
   ]
  },
  {
   "cell_type": "code",
   "execution_count": null,
   "id": "8edef88d-1082-4aaf-b6f0-87635b898d06",
   "metadata": {},
   "outputs": [],
   "source": [
    "my_series.index"
   ]
  },
  {
   "cell_type": "code",
   "execution_count": null,
   "id": "af12a310-9257-4b12-8a51-71e471b53a5a",
   "metadata": {},
   "outputs": [],
   "source": [
    "# Add explicit indexes\n",
    "my_series = pd.Series([\"one\", \"two\", \"three\", \"four\", \"five\"], [\"a\", \"b\", \"c\", \"d\", \"e\"])\n",
    "print(my_series)\n",
    "print(f\"Value of index b: {my_series['b']}\")"
   ]
  },
  {
   "cell_type": "code",
   "execution_count": null,
   "id": "6bfbeba0-0d33-4851-9cec-04ab657d14d3",
   "metadata": {},
   "outputs": [],
   "source": [
    "# Assignments (data manipulation)\n",
    "\n",
    "my_series[\"b\"] += \"_more\"\n",
    "print(my_series)"
   ]
  },
  {
   "cell_type": "code",
   "execution_count": null,
   "id": "60a199a7-e8ff-4370-abb4-4c771121fdfd",
   "metadata": {},
   "outputs": [],
   "source": [
    "# Get subset of data (filtering)\n",
    "\n",
    "my_series = my_series[[\"a\", \"c\", \"d\", \"e\"]]\n",
    "print(my_series)"
   ]
  },
  {
   "cell_type": "code",
   "execution_count": null,
   "id": "84da1c8d-a85c-42c1-9738-d5ca406ccc67",
   "metadata": {},
   "outputs": [],
   "source": [
    "# Filter on conditions (filtering)\n",
    "\n",
    "my_series = my_series[my_series != \"three\"]\n",
    "print(my_series)"
   ]
  },
  {
   "cell_type": "code",
   "execution_count": null,
   "id": "ee6cec8a-78a8-432c-80c7-7414567b98b5",
   "metadata": {},
   "outputs": [],
   "source": [
    "# Manipulate all data\n",
    "\n",
    "my_series =  my_series * 2\n",
    "print(my_series)\n",
    "\n",
    "my_lambda = lambda s : s * 2\n",
    "my_series = my_lambda(my_series)\n",
    "print(my_series)\n"
   ]
  },
  {
   "cell_type": "code",
   "execution_count": null,
   "id": "ce5c6468-d67b-4ae7-85b4-58086b8fd5aa",
   "metadata": {},
   "outputs": [],
   "source": [
    "# Check for existence (key)\n",
    "\n",
    "print(\"a\" in my_series)\n",
    "print(\"x\" in my_series)"
   ]
  },
  {
   "cell_type": "code",
   "execution_count": null,
   "id": "21b7b459-9285-40af-8c6c-f747277fd912",
   "metadata": {},
   "outputs": [],
   "source": [
    "# Simplify it a bit, use a dict\n",
    "\n",
    "cities = {'Oslo':634293, 'Bergen':271949, 'Kristiansand':85983}\n",
    "city_series = pd.Series(cities)\n",
    "print(city_series)"
   ]
  },
  {
   "cell_type": "code",
   "execution_count": null,
   "id": "f5c27813-020b-4d08-a61a-f353a7f723c7",
   "metadata": {},
   "outputs": [],
   "source": [
    "# Restrict what you want\n",
    "\n",
    "cities = {'Oslo':634293, 'Bergen':271949, 'Kristiansand':85983}\n",
    "city_series = pd.Series(cities, [\"Oslo\", \"Bergen\"])\n",
    "print(city_series)"
   ]
  },
  {
   "cell_type": "code",
   "execution_count": null,
   "id": "2af7e6d8-9923-4a27-9d40-f7de583d05cd",
   "metadata": {},
   "outputs": [],
   "source": [
    "# Properly name it all\n",
    "cities = {'Oslo':634293, 'Bergen':271949, 'Kristiansand':85983}\n",
    "city_series = pd.Series(cities, name='Population')\n",
    "# city_series.name = \"Population\"\n",
    "city_series.index.name = \"City\"\n",
    "print(city_series)"
   ]
  },
  {
   "cell_type": "code",
   "execution_count": null,
   "id": "b77577bb-0a65-4a1e-87b8-fa3d8db8ae89",
   "metadata": {},
   "outputs": [],
   "source": []
  }
 ],
 "metadata": {
  "kernelspec": {
   "display_name": "Python 3 (ipykernel)",
   "language": "python",
   "name": "python3"
  },
  "language_info": {
   "codemirror_mode": {
    "name": "ipython",
    "version": 3
   },
   "file_extension": ".py",
   "mimetype": "text/x-python",
   "name": "python",
   "nbconvert_exporter": "python",
   "pygments_lexer": "ipython3",
   "version": "3.10.9"
  }
 },
 "nbformat": 4,
 "nbformat_minor": 5
}
