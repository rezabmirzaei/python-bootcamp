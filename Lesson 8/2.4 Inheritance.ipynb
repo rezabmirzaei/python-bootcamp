{
 "cells": [
  {
   "cell_type": "markdown",
   "id": "623a877d-a90e-4d3b-9393-ea8f012e9bae",
   "metadata": {},
   "source": [
    "# Inheritance"
   ]
  },
  {
   "cell_type": "code",
   "execution_count": null,
   "id": "b1e7832f-4d4b-40fe-a418-4692fe858c96",
   "metadata": {},
   "outputs": [],
   "source": [
    "# Syntax\n",
    "# class NameOfClass(NameOfClassToInheritFrom)\n",
    "\n",
    "# The super class (parent/base)\n",
    "class SuperClass:\n",
    "    \n",
    "    # Class definition\n",
    "    parent_var = \"Value from PARENT\"\n",
    "    \n",
    "    def parent_method(self):\n",
    "        print(\"Method in PARENT\")\n",
    "    \n",
    "    def another_parent_method(self):\n",
    "        print(\"Another method in PARENT\")\n",
    "\n",
    "\n",
    "# The subclass (child)\n",
    "class SubClass(SuperClass):\n",
    "    \n",
    "    # Class definition\n",
    "    child_var = \"Value from CHILD\"\n",
    "    \n",
    "    def child_method(self):\n",
    "        print(\"Method in CHILD\")\n",
    "    \n",
    "    # Override method inherited from super class\n",
    "    def parent_method(self):\n",
    "        print(\"Parent method overridden in CHILD\")\n",
    "    \n",
    "    # Overload method inherited from super class\n",
    "    def another_parent_method(self, text):\n",
    "        print(f\"Overloading method from parent: {text}\")\n",
    "\n",
    "\n",
    "#print(\"### Super class:\")\n",
    "\n",
    "\n",
    "#print(\"\\n### Subclass:\")\n",
    "\n",
    "\n",
    "## Heads up! Inheritance goes one way: from super (parent) to sub (child).\n",
    "## SuperClass --> SubClass\n",
    "\n",
    "## Remember class vs instance variables and the utter mess it can cause!!!\n",
    "## Rule of thumb: keep it as isolated as possible (perfer instance varibales)"
   ]
  },
  {
   "cell_type": "markdown",
   "id": "d0ca29fb-5929-4e18-b85a-40cf92d0a3a0",
   "metadata": {},
   "source": [
    "## Instance and subclass methods"
   ]
  },
  {
   "cell_type": "code",
   "execution_count": null,
   "id": "3b79bb25-f098-4cd3-8e9b-03c3591f72fa",
   "metadata": {},
   "outputs": [],
   "source": [
    "# isinstance\n",
    "\n",
    "# issubclass"
   ]
  },
  {
   "cell_type": "markdown",
   "id": "26e6fe3b-0cff-4de8-8362-ed8590502b70",
   "metadata": {},
   "source": [
    "## More on subclasses"
   ]
  },
  {
   "cell_type": "code",
   "execution_count": null,
   "id": "9a872341-f7f7-458a-ba4f-c33a2db6331d",
   "metadata": {},
   "outputs": [],
   "source": [
    "# Generic super class, should be \"abstract\" i.e., not instantiable\n",
    "# However, Python by default does not provide abstract classes. Oh well... let's not over complicate it for now :)\n",
    "class Vechicle():\n",
    "\n",
    "    # Earliest a vehicle can be from\n",
    "    # Any older and it should be decommissioned \n",
    "    min_allowed_year = 1980\n",
    "    \n",
    "    def __init__(self, make, model, year):\n",
    "        self.__validate_str_attribute(make, \"Make\")\n",
    "        self.make = make\n",
    "        self.__validate_str_attribute(model, \"Model\")\n",
    "        self.model = model\n",
    "        # TODO Could be a function\n",
    "        if type(year) is not int:\n",
    "            raise TypeError(\"Year must be number\")\n",
    "        if year < self.min_allowed_year:\n",
    "            raise ValueError(\"Vechicle cannot be older than 1980\")\n",
    "        self.year = year\n",
    "   \n",
    "    def __validate_str_attribute(self, attr, attrName):\n",
    "        if not attr:\n",
    "            raise ValueError(f\"{attrName} cannot be empty\")\n",
    "    \n",
    "    def info(self):\n",
    "        return f\"{self.make} {self.model} ({self.year})\"\n",
    "    \n",
    "    def should_be_decommissioned(self):\n",
    "        return self.year < self.min_allowed_year\n",
    "    \n"
   ]
  },
  {
   "cell_type": "code",
   "execution_count": null,
   "id": "dfa5729d-d0f1-4629-8680-d0dcedd4c7ae",
   "metadata": {},
   "outputs": [],
   "source": [
    "class Car(Vechicle):\n",
    "    \n",
    "    # Override super (parent) class variable\n",
    "    #min_allowed_year = 1970\n",
    "    \n",
    "    def __init__(self, make, model, year, number_of_seats):\n",
    "        super().__init__(make, model, year)\n",
    "        self.number_of_seats = number_of_seats\n",
    "        \n",
    "    def info(self):\n",
    "        return f\"{super().info()}; Number of seats: {self.number_of_seats}\"\n",
    "\n",
    "\n",
    "# Instance creation validation\n"
   ]
  },
  {
   "cell_type": "code",
   "execution_count": null,
   "id": "00b0d9c1-b7ee-4b2a-9024-4fdb7df41edf",
   "metadata": {},
   "outputs": [],
   "source": [
    "# Let's look at the ambiguity class/instance variables may cause\n",
    "print(\"My car:\")\n",
    "my_car = Car(\"Toyota\", \"Auris\", 2016, 5)\n",
    "print(my_car.info())\n",
    "print(f\"Decommision? {my_car.should_be_decommissioned()}\")\n",
    "\n",
    "print(\"\\nMy other car:\")\n",
    "my_other_car = Car(\"BMW\", \"5\", 2020, 5)\n",
    "print(my_other_car.info())\n",
    "print(f\"Decommision? {my_other_car.should_be_decommissioned()}\")"
   ]
  },
  {
   "cell_type": "code",
   "execution_count": null,
   "id": "78d4e698-df2a-4818-ad0b-861d47dcfe83",
   "metadata": {},
   "outputs": [],
   "source": [
    "## Heads up! Multi level inheritance\n",
    "## Vehicle --> Car --> RacingCar"
   ]
  }
 ],
 "metadata": {
  "kernelspec": {
   "display_name": "Python 3 (ipykernel)",
   "language": "python",
   "name": "python3"
  },
  "language_info": {
   "codemirror_mode": {
    "name": "ipython",
    "version": 3
   },
   "file_extension": ".py",
   "mimetype": "text/x-python",
   "name": "python",
   "nbconvert_exporter": "python",
   "pygments_lexer": "ipython3",
   "version": "3.10.9"
  }
 },
 "nbformat": 4,
 "nbformat_minor": 5
}
