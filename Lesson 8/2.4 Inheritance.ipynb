{
 "cells": [
  {
   "cell_type": "markdown",
   "id": "623a877d-a90e-4d3b-9393-ea8f012e9bae",
   "metadata": {},
   "source": [
    "# Inheritance"
   ]
  },
  {
   "cell_type": "code",
   "execution_count": null,
   "id": "9a872341-f7f7-458a-ba4f-c33a2db6331d",
   "metadata": {},
   "outputs": [],
   "source": []
  },
  {
   "cell_type": "markdown",
   "id": "26e6fe3b-0cff-4de8-8362-ed8590502b70",
   "metadata": {},
   "source": [
    "## Subclasses"
   ]
  },
  {
   "cell_type": "code",
   "execution_count": null,
   "id": "dfa5729d-d0f1-4629-8680-d0dcedd4c7ae",
   "metadata": {},
   "outputs": [],
   "source": []
  },
  {
   "cell_type": "markdown",
   "id": "d0ca29fb-5929-4e18-b85a-40cf92d0a3a0",
   "metadata": {},
   "source": [
    "## Instance and subclass methods"
   ]
  },
  {
   "cell_type": "code",
   "execution_count": null,
   "id": "42640a02-a637-4965-bf18-6a39d2c1274f",
   "metadata": {},
   "outputs": [],
   "source": []
  }
 ],
 "metadata": {
  "kernelspec": {
   "display_name": "Python 3 (ipykernel)",
   "language": "python",
   "name": "python3"
  },
  "language_info": {
   "codemirror_mode": {
    "name": "ipython",
    "version": 3
   },
   "file_extension": ".py",
   "mimetype": "text/x-python",
   "name": "python",
   "nbconvert_exporter": "python",
   "pygments_lexer": "ipython3",
   "version": "3.10.9"
  }
 },
 "nbformat": 4,
 "nbformat_minor": 5
}
