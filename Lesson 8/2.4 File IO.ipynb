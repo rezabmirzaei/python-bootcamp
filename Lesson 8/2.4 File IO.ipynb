{
 "cells": [
  {
   "cell_type": "markdown",
   "id": "7d0302e8-24a1-4566-b8b9-344120d9e62b",
   "metadata": {},
   "source": [
    "# File I/O"
   ]
  },
  {
   "cell_type": "code",
   "execution_count": null,
   "id": "ed2765b2-3eef-483c-b9c3-a396ec24d4c1",
   "metadata": {},
   "outputs": [],
   "source": []
  },
  {
   "cell_type": "markdown",
   "id": "883b706d-76bc-4f55-92ce-906ee7d8cc29",
   "metadata": {},
   "source": [
    "## Opening a file"
   ]
  },
  {
   "cell_type": "code",
   "execution_count": null,
   "id": "09799dfd-1565-4308-b375-e610bbbf3c1e",
   "metadata": {},
   "outputs": [],
   "source": []
  },
  {
   "cell_type": "markdown",
   "id": "af8ab7d2-0b64-4db5-8b58-4faa5597ef8a",
   "metadata": {},
   "source": [
    "## Reading from a file"
   ]
  },
  {
   "cell_type": "code",
   "execution_count": null,
   "id": "32c821ea-a404-4837-a014-fa01c15d5419",
   "metadata": {},
   "outputs": [],
   "source": []
  },
  {
   "cell_type": "markdown",
   "id": "a6fe3a1d-c1ce-43b3-8065-97021f3c309e",
   "metadata": {},
   "source": [
    "## Writing to a file"
   ]
  },
  {
   "cell_type": "code",
   "execution_count": null,
   "id": "b54a56bf-36ad-41de-b8a0-bf81750d84b7",
   "metadata": {},
   "outputs": [],
   "source": []
  },
  {
   "cell_type": "markdown",
   "id": "4f03997b-87c5-48db-a810-f98e4c1fbd0b",
   "metadata": {},
   "source": [
    "## Reading and writing simultaneously"
   ]
  },
  {
   "cell_type": "code",
   "execution_count": null,
   "id": "fc802196-04a1-41b4-92f2-9e27ed4591b9",
   "metadata": {},
   "outputs": [],
   "source": []
  }
 ],
 "metadata": {
  "kernelspec": {
   "display_name": "Python 3 (ipykernel)",
   "language": "python",
   "name": "python3"
  },
  "language_info": {
   "codemirror_mode": {
    "name": "ipython",
    "version": 3
   },
   "file_extension": ".py",
   "mimetype": "text/x-python",
   "name": "python",
   "nbconvert_exporter": "python",
   "pygments_lexer": "ipython3",
   "version": "3.10.9"
  }
 },
 "nbformat": 4,
 "nbformat_minor": 5
}
