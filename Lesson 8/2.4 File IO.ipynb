{
 "cells": [
  {
   "cell_type": "markdown",
   "id": "7d0302e8-24a1-4566-b8b9-344120d9e62b",
   "metadata": {},
   "source": [
    "# File I/O"
   ]
  },
  {
   "cell_type": "markdown",
   "id": "a38f715c-b5cb-4a8f-85b1-a0b264fbfce4",
   "metadata": {},
   "source": [
    "The basics with [open()](https://docs.python.org/3/library/functions.html#open) and [with](https://docs.python.org/3/reference/compound_stmts.html#the-with-statement)"
   ]
  },
  {
   "cell_type": "markdown",
   "id": "883b706d-76bc-4f55-92ce-906ee7d8cc29",
   "metadata": {},
   "source": [
    "## Opening a file"
   ]
  },
  {
   "cell_type": "code",
   "execution_count": null,
   "id": "09799dfd-1565-4308-b375-e610bbbf3c1e",
   "metadata": {},
   "outputs": [],
   "source": [
    "import os\n",
    "\n",
    "file_name = \"file.txt\"\n",
    "\n",
    "# Open using relative path\n",
    "my_file = open(file_name)\n",
    "# Default mode is \"r\"\n",
    "#my_file = open(\"file.txt\", \"r\") # Mode explicitly set to \"r\" (read)\n",
    "\n",
    "print(f\"Open using relative path: {file_name}\")\n",
    "print(my_file.readline())\n",
    "\n",
    "# Heads up! Remeber to close the file!\n",
    "my_file.close()\n",
    "\n",
    "# Open using absolute path\n",
    "abs_path = os.path.abspath(file_name)\n",
    "\n",
    "print(f\"Open using absolute path: {abs_path}\")\n",
    "abs_path_file = open(abs_path)\n",
    "print(abs_path_file.readlines())\n",
    "\n",
    "# Close file\n",
    "abs_path_file.close()\n",
    "\n",
    "## ^^^^ NOT good practice!"
   ]
  },
  {
   "cell_type": "markdown",
   "id": "af8ab7d2-0b64-4db5-8b58-4faa5597ef8a",
   "metadata": {},
   "source": [
    "## Reading from a file"
   ]
  },
  {
   "cell_type": "code",
   "execution_count": null,
   "id": "32c821ea-a404-4837-a014-fa01c15d5419",
   "metadata": {},
   "outputs": [],
   "source": [
    "# with - Compound statement (like an \"if\")\n",
    "# Creates an \"IO context manager\"\n",
    "\n",
    "# with open(...) as <identifier>:\n",
    "    # Do something\n",
    "\n",
    "with open(abs_path, \"r\") as our_file:\n",
    "    for line in our_file.readlines():\n",
    "        print(line.strip())\n",
    "        # Heads up! Cannot write, opened in READ mode \"r\".\n",
    "\n",
    "# File access no longer possible here (outside context of \"with\")\n",
    "\n",
    "# But any assignment made within context of \"with\" to vars declared outside...\n"
   ]
  },
  {
   "cell_type": "markdown",
   "id": "a6fe3a1d-c1ce-43b3-8065-97021f3c309e",
   "metadata": {},
   "source": [
    "## Writing to a file"
   ]
  },
  {
   "cell_type": "code",
   "execution_count": null,
   "id": "b54a56bf-36ad-41de-b8a0-bf81750d84b7",
   "metadata": {},
   "outputs": [],
   "source": [
    "import os, time\n",
    "\n",
    "# Mode \"x\" --> Creates a new file (fails if file exists)\n",
    "file_name_x = \"file.txt\"\n",
    "\n",
    "\n",
    "# Mode \"w\" --> Creates a new file (overwrites if file exists)\n",
    "## Be very carefull!!!\n",
    "file_name_w = \"file_to_overwrite.txt\"\n",
    "\n",
    "\n",
    "# Mode \"a\" --> Appends content if file exists (creates a new file if not exists)\n",
    "file_name_a = \"file_to_append.txt\"\n",
    "\n"
   ]
  },
  {
   "cell_type": "markdown",
   "id": "4f03997b-87c5-48db-a810-f98e4c1fbd0b",
   "metadata": {},
   "source": [
    "## Reading and writing simultaneously"
   ]
  },
  {
   "cell_type": "code",
   "execution_count": null,
   "id": "fc802196-04a1-41b4-92f2-9e27ed4591b9",
   "metadata": {},
   "outputs": [],
   "source": [
    "# Bad practice!! Creates ambiguity.\n",
    "# Instead: read from one source, process, write to different source\n",
    "\n"
   ]
  },
  {
   "cell_type": "code",
   "execution_count": null,
   "id": "b398cdb2-996a-408c-bee2-9770304e04c6",
   "metadata": {},
   "outputs": [],
   "source": []
  }
 ],
 "metadata": {
  "kernelspec": {
   "display_name": "Python 3 (ipykernel)",
   "language": "python",
   "name": "python3"
  },
  "language_info": {
   "codemirror_mode": {
    "name": "ipython",
    "version": 3
   },
   "file_extension": ".py",
   "mimetype": "text/x-python",
   "name": "python",
   "nbconvert_exporter": "python",
   "pygments_lexer": "ipython3",
   "version": "3.10.9"
  }
 },
 "nbformat": 4,
 "nbformat_minor": 5
}
