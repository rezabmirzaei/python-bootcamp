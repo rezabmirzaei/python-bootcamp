{
 "cells": [
  {
   "cell_type": "markdown",
   "id": "7e46404f-c8c8-4ffb-ae3e-b65546013de6",
   "metadata": {},
   "source": [
    "## Functions vs Procedures vs Methods"
   ]
  },
  {
   "cell_type": "code",
   "execution_count": null,
   "id": "adf45cda-c899-4fc0-a446-9da9648fc096",
   "metadata": {},
   "outputs": [],
   "source": [
    "### Function (procedure)\n",
    "\n",
    "# 'function_moo' lives isolated and independently of anything else.\n",
    "\n",
    "def function_moo():\n",
    "    print(\"Mooo from function!\")\n",
    "function_moo()\n",
    "\n",
    "\n",
    "### Method\n",
    "\n",
    "# 'grow()' and 'moo()' live in the context of their enclosing class and **may** operate on it's data;\n",
    "# e.g. 'grow()' operates on a cow's weight, but 'moo()' does not change any of the cow's attributes.\n",
    "\n",
    "class Cow:\n",
    "        \n",
    "    def __init__(self, weight):\n",
    "        self.weight = weight\n",
    "    \n",
    "    def grow(self):\n",
    "        self.weight *= 1.01\n",
    "    \n",
    "    def weight_in_kg(self):\n",
    "        return self.weight\n",
    "    \n",
    "    def moo(self):\n",
    "        print(\"Mooo!\")\n",
    "    \n",
    "    def function_moo_from_cow(self):\n",
    "        function_moo()\n",
    "        \n",
    "cow = Cow(120)\n",
    "cow.moo()\n",
    "print(cow.weight_in_kg())\n",
    "cow.grow()\n",
    "print(cow.weight_in_kg())\n",
    "cow.function_moo_from_cow()\n"
   ]
  },
  {
   "cell_type": "code",
   "execution_count": null,
   "id": "13563ed2-7c4a-4843-b612-b7c872ad26d4",
   "metadata": {},
   "outputs": [],
   "source": []
  }
 ],
 "metadata": {
  "kernelspec": {
   "display_name": "Python 3 (ipykernel)",
   "language": "python",
   "name": "python3"
  },
  "language_info": {
   "codemirror_mode": {
    "name": "ipython",
    "version": 3
   },
   "file_extension": ".py",
   "mimetype": "text/x-python",
   "name": "python",
   "nbconvert_exporter": "python",
   "pygments_lexer": "ipython3",
   "version": "3.10.9"
  }
 },
 "nbformat": 4,
 "nbformat_minor": 5
}
