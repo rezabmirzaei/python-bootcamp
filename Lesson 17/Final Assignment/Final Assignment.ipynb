{
 "cells": [
  {
   "cell_type": "markdown",
   "id": "16a4f935-1d08-463b-9957-a302002f09b0",
   "metadata": {},
   "source": [
    "# Setup"
   ]
  },
  {
   "cell_type": "code",
   "execution_count": null,
   "id": "54a049d3-4088-4f64-90f7-a1fafad667d6",
   "metadata": {},
   "outputs": [],
   "source": [
    "import os\n",
    "import datetime\n",
    "import pandas as pd\n",
    "import requests"
   ]
  },
  {
   "cell_type": "markdown",
   "id": "8294ecbf-53cf-4237-9404-ddb0b0ff2122",
   "metadata": {},
   "source": [
    "# Read data from external source"
   ]
  },
  {
   "cell_type": "code",
   "execution_count": null,
   "id": "63ea3466-206b-4b61-9a4d-0eb182ebcbd2",
   "metadata": {},
   "outputs": [],
   "source": [
    "# Attempt to read current product stock data\n",
    "products_url = \"https://dummyjson.com/products\"\n",
    "products_response = requests.get(products_url)\n",
    "\n",
    "# No valid response or json-data returned\n",
    "# Fail fast, break it all (nothing else works without this, no chance to recover)\n",
    "if not (products_response and \n",
    "        products_response.status_code == 200 and \n",
    "        \"application/json\" in products_response.headers.get(\"Content-Type\", \"\")):\n",
    "    raise ValueError(\"No json content to work with\")\n",
    "\n",
    "# Get json content from response (we know it's good by now)\n",
    "products_json = products_response.json()"
   ]
  },
  {
   "cell_type": "markdown",
   "id": "32dceef7-cd9e-4a9f-9e89-04399ffb04e9",
   "metadata": {},
   "source": [
    "# Process data "
   ]
  },
  {
   "cell_type": "code",
   "execution_count": null,
   "id": "c8dfc33d-7b7d-48d0-b4bb-d8a98a031bac",
   "metadata": {},
   "outputs": [],
   "source": [
    "# Intial cleaning of data - we don't need the metadata (limit, total etc)\n",
    "# We only want the products\n",
    "products_json_cleaned = products_json[\"products\"]\n",
    "\n",
    "# Iterate list of products and remove unnecessary data (images/thumbnail)\n",
    "unnecessary_data = [\"images\", \"thumbnail\"]\n",
    "for product in products_json_cleaned:\n",
    "    for key in unnecessary_data:\n",
    "        product.pop(key, \"\")\n",
    "\n",
    "# Create a dataframe to work with, simplify processing\n",
    "products_df = pd.DataFrame(products_json_cleaned)\n",
    "\n",
    "# Filter data based on criterea\n",
    "# If an item is on sale (discount > 10%) and it has low stock count (stock < 50) --> must order more!\n",
    "products_to_order_df = products_df[(products_df[\"discountPercentage\"] > 10) & (products_df[\"stock\"] < 50)]\n",
    "# Sort by stock, lowest up top\n",
    "products_to_order_df.sort_values(by=\"stock\")"
   ]
  },
  {
   "cell_type": "markdown",
   "id": "fd5e8a5e-288f-47d7-ad05-b5c09f321f07",
   "metadata": {},
   "source": [
    "# Produce output"
   ]
  },
  {
   "cell_type": "code",
   "execution_count": null,
   "id": "06acc2ee-83c7-4d3a-a0ff-d4ad9416e2f8",
   "metadata": {},
   "outputs": [],
   "source": [
    "# Create excel file with items to order\n",
    "\n",
    "# Get today's date for the folder name and time for file name\n",
    "today = datetime.datetime.now()\n",
    "date_today = today.strftime(\"%x\").replace(\"/\",\"-\")\n",
    "\n",
    "# Try to find a folder for today, if there isn't one then create it\n",
    "folder_name = f\"Orders-{date_today}\"\n",
    "if os.path.exists(folder_name) and os.path.isdir(folder_name):\n",
    "    pass # it exists! do nothing :)\n",
    "else:\n",
    "    os.mkdir(folder_name) # create the folder\n",
    "\n",
    "# Write our file inside our folder\n",
    "products_to_order_df.to_excel(f\"{folder_name}/Orders.xlsx\", index=None)"
   ]
  }
 ],
 "metadata": {
  "kernelspec": {
   "display_name": "Python 3 (ipykernel)",
   "language": "python",
   "name": "python3"
  },
  "language_info": {
   "codemirror_mode": {
    "name": "ipython",
    "version": 3
   },
   "file_extension": ".py",
   "mimetype": "text/x-python",
   "name": "python",
   "nbconvert_exporter": "python",
   "pygments_lexer": "ipython3",
   "version": "3.10.9"
  }
 },
 "nbformat": 4,
 "nbformat_minor": 5
}
