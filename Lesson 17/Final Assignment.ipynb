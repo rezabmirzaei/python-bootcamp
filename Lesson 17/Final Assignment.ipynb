{
 "cells": [
  {
   "cell_type": "markdown",
   "id": "8294ecbf-53cf-4237-9404-ddb0b0ff2122",
   "metadata": {},
   "source": [
    "# 1. Read data from some external source\n",
    "\n",
    "* File (any format, e.g. excel, csv, json, word)\n",
    "* API (json, xml)\n",
    "* Web scraping\n",
    "* Database"
   ]
  },
  {
   "cell_type": "code",
   "execution_count": null,
   "id": "63ea3466-206b-4b61-9a4d-0eb182ebcbd2",
   "metadata": {},
   "outputs": [],
   "source": []
  },
  {
   "cell_type": "markdown",
   "id": "32dceef7-cd9e-4a9f-9e89-04399ffb04e9",
   "metadata": {},
   "source": [
    "# 2. Process data \n",
    "\n",
    "* Filter\n",
    "* Restructure (sort, swap, reformat)\n",
    "* Merge"
   ]
  },
  {
   "cell_type": "code",
   "execution_count": null,
   "id": "c8dfc33d-7b7d-48d0-b4bb-d8a98a031bac",
   "metadata": {},
   "outputs": [],
   "source": []
  },
  {
   "cell_type": "markdown",
   "id": "fd5e8a5e-288f-47d7-ad05-b5c09f321f07",
   "metadata": {},
   "source": [
    "# 3. Produce output \n",
    "\n",
    "* Report (file, e.g. excel, pdf, word, image)\n",
    "* Live/on screen\n",
    "* Update database"
   ]
  },
  {
   "cell_type": "code",
   "execution_count": null,
   "id": "06acc2ee-83c7-4d3a-a0ff-d4ad9416e2f8",
   "metadata": {},
   "outputs": [],
   "source": []
  }
 ],
 "metadata": {
  "kernelspec": {
   "display_name": "Python 3 (ipykernel)",
   "language": "python",
   "name": "python3"
  },
  "language_info": {
   "codemirror_mode": {
    "name": "ipython",
    "version": 3
   },
   "file_extension": ".py",
   "mimetype": "text/x-python",
   "name": "python",
   "nbconvert_exporter": "python",
   "pygments_lexer": "ipython3",
   "version": "3.10.9"
  }
 },
 "nbformat": 4,
 "nbformat_minor": 5
}
