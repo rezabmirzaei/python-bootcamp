{
 "cells": [
  {
   "cell_type": "markdown",
   "id": "f8859ab1-263b-43bf-9c7c-860eee3f442c",
   "metadata": {},
   "source": [
    "#### Before we start:\n",
    "* Final assighment available today (in EduFlow)\n",
    "* Focus this week:\n",
    "  * Finishing any remaning assignments\n",
    "  * Planning scope of final assignment -> SCOPE and MOTIVATION!\n",
    "* Wednesday session this week: demo of final assignment"
   ]
  },
  {
   "cell_type": "markdown",
   "id": "318e3868-33d0-4388-94ec-7ae192fd6392",
   "metadata": {},
   "source": [
    "# Introduction to Microscripting and Automation"
   ]
  },
  {
   "cell_type": "markdown",
   "id": "9281caf2-ac12-4c49-a444-0b7c649d8001",
   "metadata": {},
   "source": [
    "### Microscripting\n",
    "\n",
    "* Automating by code a basic process with a small scope that can be solved in a short time (typically minutes or hours).\n",
    "* Microscripts do one thing well within a known environment.\n",
    "* **Heads up!** Identifing what libraries to use or what approach to apply takes practice (and time)!\n",
    "* As a general rule, follow these guidelines when microscripting:\n",
    "  * One primary input\n",
    "  * Minimal secondary inputs\n",
    "  * No more than 2 outputs"
   ]
  },
  {
   "cell_type": "markdown",
   "id": "8819e2cb-97cc-4a99-86b1-fbb562f9bdaf",
   "metadata": {},
   "source": [
    "**How can we automate execution of our microscripts?**\n",
    "\n"
   ]
  },
  {
   "cell_type": "markdown",
   "id": "3caa5f71-ac5b-499c-bf02-a4b15425db41",
   "metadata": {},
   "source": [
    "#### User Driven Execution"
   ]
  },
  {
   "cell_type": "code",
   "execution_count": null,
   "id": "eaca8e28-4425-4a55-8b3c-097eab57c0ca",
   "metadata": {},
   "outputs": [],
   "source": [
    "# User has to take some form of action to initiate the process (semi-automated)\n",
    "\n",
    "# HelloWorld.py\n",
    "# executable (pyinstaller) vs windows shortcut\n",
    "## For Mac: https://www.maketecheasier.com/run-python-script-in-mac/"
   ]
  },
  {
   "cell_type": "markdown",
   "id": "44491a40-0c76-4ef1-8f19-48eab30d47c6",
   "metadata": {},
   "source": [
    "#### Scheduled Execution"
   ]
  },
  {
   "cell_type": "code",
   "execution_count": null,
   "id": "08954c02-802f-4c33-921f-acdb7ee532e5",
   "metadata": {},
   "outputs": [],
   "source": [
    "# WebBrowser.py\n",
    "# Windows Task Scheduler\n",
    "\n",
    "# crontab -> \"God tier\" automation\n",
    "# https://www.jcchouinard.com/python-automation-with-cron-on-mac/"
   ]
  },
  {
   "cell_type": "markdown",
   "id": "7d1be802-a30f-458a-add8-5914e0d8302c",
   "metadata": {},
   "source": [
    "#### Timed-Loop Execution"
   ]
  },
  {
   "cell_type": "code",
   "execution_count": null,
   "id": "1415f63e-180c-46cf-9083-3c3bb4e0ad49",
   "metadata": {},
   "outputs": [],
   "source": [
    "# Combine with user driven or scheduled\n",
    "\n",
    "# TimedLoop.py"
   ]
  },
  {
   "cell_type": "markdown",
   "id": "116c3e33-c5f8-498c-b762-3f28e081af87",
   "metadata": {},
   "source": [
    "## Useful Libraries"
   ]
  },
  {
   "cell_type": "markdown",
   "id": "997ceb9c-f214-4819-b58c-771d711bdca2",
   "metadata": {},
   "source": [
    "### HTTP Clients\n",
    "\n",
    "A few APIs to play around with:\n",
    "* https://dummyjson.com/\n",
    "* https://pokeapi.co/\n",
    "* https://swapi.dev/"
   ]
  },
  {
   "cell_type": "markdown",
   "id": "ac443215-1023-4d36-84e1-6cc7f0a14c15",
   "metadata": {},
   "source": [
    "#### requests\n",
    "\n",
    "https://pypi.org/project/requests/"
   ]
  },
  {
   "cell_type": "code",
   "execution_count": null,
   "id": "7d43f712-842a-422d-950b-a1e8ad652d5a",
   "metadata": {},
   "outputs": [],
   "source": [
    "import requests\n",
    "import pandas as pd\n",
    "\n",
    "#import warnings\n",
    "#warnings.simplefilter(\"ignore\", category=UserWarning)"
   ]
  },
  {
   "cell_type": "code",
   "execution_count": null,
   "id": "d107b7dd-ca2b-4a99-a22d-8678b7143090",
   "metadata": {},
   "outputs": [],
   "source": [
    "# Should know: https://en.wikipedia.org/wiki/List_of_HTTP_status_codes\n",
    "## 2xx -> OK\n",
    "## 4xx -> request cannot be fulfilled (bad syntax, access, auth etc)\n",
    "## 5xx -> server error\n",
    "\n",
    "products_url = \"https://dummyjson.com/products\"\n",
    "products_response = requests.get(products_url)\n",
    "#print(products_response)\n",
    "#print(products_response.status_code)\n",
    "\n",
    "# Get json content from response\n",
    "#print(products_response.headers[\"content-type\"])\n",
    "products_json = products_response.json()\n",
    "#print(products_json)"
   ]
  },
  {
   "cell_type": "code",
   "execution_count": null,
   "id": "bc422c9c-cfae-43fb-9c9c-9d5efd156cef",
   "metadata": {},
   "outputs": [],
   "source": [
    "# Clean up - Need only product data, remove metadata\n",
    "products_json = products_json[\"products\"][:3]\n",
    "#print(products_json)\n",
    "\n",
    "# Clean up - Need only one image (TODO: consider removing, not really necessary)\n",
    "for product in products_json:\n",
    "    for key, val in product.items():\n",
    "        if key == \"images\":\n",
    "            product[\"images\"] = product[\"images\"] = product[\"images\"][0]\n",
    "#print(products_json)\n",
    "\n",
    "# TODO: Filter: Keep only items to order\n",
    "## If discountPercentage > 5 and stock < 20"
   ]
  },
  {
   "cell_type": "code",
   "execution_count": null,
   "id": "2d08b17f-bc01-464f-a4f8-2b8bee760776",
   "metadata": {},
   "outputs": [],
   "source": [
    "# Create output\n",
    "products_df = pd.DataFrame(products_json)\n",
    "#products_df.to_excel(\"products.xlsx\", index=None)\n",
    "products_df.index = products_df[\"title\"]\n",
    "products_df.plot.barh()"
   ]
  },
  {
   "cell_type": "markdown",
   "id": "ee5c0a9b-7842-4156-80b7-0038f0238bb6",
   "metadata": {},
   "source": [
    "#### grequests\n",
    "\n",
    "https://pypi.org/project/grequests/"
   ]
  },
  {
   "cell_type": "code",
   "execution_count": null,
   "id": "bd364937-ceb8-4643-a793-0647955f3aaa",
   "metadata": {},
   "outputs": [],
   "source": [
    "#!pip install grequests"
   ]
  },
  {
   "cell_type": "code",
   "execution_count": null,
   "id": "e990ea2c-a704-44a1-8549-8ce523b2f39a",
   "metadata": {},
   "outputs": [],
   "source": [
    "import grequests\n",
    "\n",
    "urls = [\n",
    "    'http://www.heroku.com',\n",
    "    'http://kennethreitz.com'\n",
    "]\n",
    "\n",
    "rs = (grequests.get(u) for u in urls)\n",
    "\n",
    "for r in grequests.map(rs):\n",
    "    if r is not None:\n",
    "        print(r.url)"
   ]
  },
  {
   "cell_type": "markdown",
   "id": "3723297d-204d-4837-8b59-0c2a6932e622",
   "metadata": {},
   "source": [
    "### Webscraping"
   ]
  },
  {
   "cell_type": "markdown",
   "id": "ba0c4921-cc5a-4274-aa33-1f9047714331",
   "metadata": {},
   "source": [
    "#### BeautifulSoup\n",
    "\n",
    "https://pypi.org/project/beautifulsoup4/"
   ]
  },
  {
   "cell_type": "code",
   "execution_count": null,
   "id": "0e510dda-c30e-453f-9ff8-f310056655d2",
   "metadata": {},
   "outputs": [],
   "source": [
    "#!pip install beautifulsoup4"
   ]
  },
  {
   "cell_type": "code",
   "execution_count": null,
   "id": "22e2d810-9ae5-46fb-9b33-843241ad7e62",
   "metadata": {},
   "outputs": [],
   "source": [
    "import requests\n",
    "from bs4 import BeautifulSoup\n",
    "\n",
    "noroff_team_req = requests.get(\"https://www.noroff.no/en/accelerate/meet-the-team\")\n",
    "\n",
    "if noroff_team_req.status_code == 200:\n",
    "    soup = BeautifulSoup(noroff_team_req.content, \"html.parser\")\n",
    "    names = soup.find_all(\"h3\")\n",
    "    [print(name.get_text()) for name in names]"
   ]
  },
  {
   "cell_type": "markdown",
   "id": "e2540116-5363-4f2e-92fb-e3fc4e32be0b",
   "metadata": {},
   "source": [
    "#### googlesearch\n",
    "\n",
    "https://pypi.org/project/googlesearch-python/"
   ]
  },
  {
   "cell_type": "code",
   "execution_count": null,
   "id": "de53db3b-f373-4cd3-b44e-dd6d6059a9ec",
   "metadata": {},
   "outputs": [],
   "source": [
    "#!pip install googlesearch-python"
   ]
  },
  {
   "cell_type": "code",
   "execution_count": null,
   "id": "3e9a6cf6-db20-4198-84b4-2908a7248d49",
   "metadata": {},
   "outputs": [],
   "source": [
    "from googlesearch import search\n",
    "\n",
    "# Heads up! \"sleep_interval\"!\n",
    "search_result = search(\"Python Examples\", num_results=10, sleep_interval=2)\n",
    "\n",
    "list(search_result)"
   ]
  },
  {
   "cell_type": "markdown",
   "id": "05f48bc3-a901-442e-afda-f9f8de441ef7",
   "metadata": {},
   "source": [
    "#### tkinter\n",
    "\n",
    "https://realpython.com/python-gui-tkinter/"
   ]
  },
  {
   "cell_type": "code",
   "execution_count": null,
   "id": "60c0300b-1a65-436f-825e-2acead800a3a",
   "metadata": {},
   "outputs": [],
   "source": [
    "import tkinter as tk\n",
    "from tkinter import simpledialog\n",
    "\n",
    "root = tk.Tk()\n",
    "root.withdraw()\n",
    "\n",
    "user_input = simpledialog.askstring(title=\"Input box\", prompt=\"Desired color\")\n",
    "\n",
    "print(\"Your desired color is:\", user_input)"
   ]
  },
  {
   "cell_type": "markdown",
   "id": "2f9fbdf3-441c-48d7-bea6-98d53842d348",
   "metadata": {},
   "source": [
    "#### os and datetime\n",
    "\n",
    "* https://docs.python.org/3/library/os.html\n",
    "* https://docs.python.org/3/library/datetime.html"
   ]
  },
  {
   "cell_type": "code",
   "execution_count": null,
   "id": "1e4bf9d4-32ba-4b5f-8f40-e89761da9a0c",
   "metadata": {},
   "outputs": [],
   "source": [
    "import os\n",
    "import datetime\n",
    "\n",
    "# Get today's date for the folder name and time for file name\n",
    "today = datetime.datetime.now()\n",
    "date = today.strftime(\"%x\").replace(\"/\",\"-\")\n",
    "time = today.strftime(\"%X\").replace(\":\",\"\")\n",
    "\n",
    "# Try to find a folder for today, if there isn't one then create it\n",
    "if os.path.exists(date) and os.path.isdir(date):\n",
    "    pass # it exists! do nothing :)\n",
    "else:\n",
    "    os.mkdir(date) # create the folder\n",
    "\n",
    "# Now write our file inside our folder\n",
    "with open(f\"{date}/{time}.txt\",\"w\") as outputfile:\n",
    "    outputfile.write(f\"File created at {time}\")"
   ]
  },
  {
   "cell_type": "code",
   "execution_count": null,
   "id": "374135a3-d2df-4139-b1a4-201265f160fa",
   "metadata": {},
   "outputs": [],
   "source": []
  }
 ],
 "metadata": {
  "kernelspec": {
   "display_name": "Python 3 (ipykernel)",
   "language": "python",
   "name": "python3"
  },
  "language_info": {
   "codemirror_mode": {
    "name": "ipython",
    "version": 3
   },
   "file_extension": ".py",
   "mimetype": "text/x-python",
   "name": "python",
   "nbconvert_exporter": "python",
   "pygments_lexer": "ipython3",
   "version": "3.10.9"
  }
 },
 "nbformat": 4,
 "nbformat_minor": 5
}
