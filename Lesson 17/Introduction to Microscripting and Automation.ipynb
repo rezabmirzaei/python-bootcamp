{
 "cells": [
  {
   "cell_type": "markdown",
   "id": "318e3868-33d0-4388-94ec-7ae192fd6392",
   "metadata": {},
   "source": [
    "# Introduction to Microscripting and Automation"
   ]
  },
  {
   "cell_type": "markdown",
   "id": "3caa5f71-ac5b-499c-bf02-a4b15425db41",
   "metadata": {},
   "source": [
    "#### User Driven Execution"
   ]
  },
  {
   "cell_type": "code",
   "execution_count": null,
   "id": "eaca8e28-4425-4a55-8b3c-097eab57c0ca",
   "metadata": {},
   "outputs": [],
   "source": []
  },
  {
   "cell_type": "markdown",
   "id": "44491a40-0c76-4ef1-8f19-48eab30d47c6",
   "metadata": {},
   "source": [
    "#### Scheduled Execution"
   ]
  },
  {
   "cell_type": "code",
   "execution_count": null,
   "id": "08954c02-802f-4c33-921f-acdb7ee532e5",
   "metadata": {},
   "outputs": [],
   "source": []
  },
  {
   "cell_type": "markdown",
   "id": "7d1be802-a30f-458a-add8-5914e0d8302c",
   "metadata": {},
   "source": [
    "#### Timed-Loop Execution"
   ]
  },
  {
   "cell_type": "code",
   "execution_count": null,
   "id": "1415f63e-180c-46cf-9083-3c3bb4e0ad49",
   "metadata": {},
   "outputs": [],
   "source": []
  },
  {
   "cell_type": "markdown",
   "id": "997ceb9c-f214-4819-b58c-771d711bdca2",
   "metadata": {},
   "source": [
    "## HTTP Clients\n",
    "\n",
    "A few fun APIs to play around with:\n",
    "* https://pokeapi.co/\n",
    "* https://swapi.dev/"
   ]
  },
  {
   "cell_type": "markdown",
   "id": "ac443215-1023-4d36-84e1-6cc7f0a14c15",
   "metadata": {},
   "source": [
    "#### requests"
   ]
  },
  {
   "cell_type": "code",
   "execution_count": null,
   "id": "d107b7dd-ca2b-4a99-a22d-8678b7143090",
   "metadata": {},
   "outputs": [],
   "source": []
  },
  {
   "cell_type": "markdown",
   "id": "ee5c0a9b-7842-4156-80b7-0038f0238bb6",
   "metadata": {},
   "source": [
    "#### grequests"
   ]
  },
  {
   "cell_type": "code",
   "execution_count": null,
   "id": "bd364937-ceb8-4643-a793-0647955f3aaa",
   "metadata": {},
   "outputs": [],
   "source": [
    "#!pip install grequests"
   ]
  },
  {
   "cell_type": "code",
   "execution_count": null,
   "id": "e990ea2c-a704-44a1-8549-8ce523b2f39a",
   "metadata": {},
   "outputs": [],
   "source": [
    "import grequests\n",
    "\n",
    "urls = [\n",
    "    'http://www.heroku.com',\n",
    "    'http://kennethreitz.com'\n",
    "]\n",
    "\n",
    "rs = (grequests.get(u) for u in urls)\n",
    "\n",
    "for r in grequests.map(rs):\n",
    "    if r is not None:\n",
    "        print(r.url)"
   ]
  },
  {
   "cell_type": "markdown",
   "id": "695c22b4-040e-4762-97ea-7a87c2ed4d5b",
   "metadata": {},
   "source": [
    "#### aiohttp"
   ]
  },
  {
   "cell_type": "code",
   "execution_count": null,
   "id": "fd94e335-1950-4ebc-a2d9-c701b7e5ec45",
   "metadata": {},
   "outputs": [],
   "source": []
  },
  {
   "cell_type": "markdown",
   "id": "3723297d-204d-4837-8b59-0c2a6932e622",
   "metadata": {},
   "source": [
    "## Webscraping"
   ]
  },
  {
   "cell_type": "markdown",
   "id": "ba0c4921-cc5a-4274-aa33-1f9047714331",
   "metadata": {},
   "source": [
    "#### BeautifulSoup"
   ]
  },
  {
   "cell_type": "code",
   "execution_count": null,
   "id": "22e2d810-9ae5-46fb-9b33-843241ad7e62",
   "metadata": {},
   "outputs": [],
   "source": [
    "import requests\n",
    "from bs4 import BeautifulSoup\n",
    "\n",
    "r = requests.get(\"https://www.noroff.no/en/accelerate/meet-the-team\")\n",
    "\n",
    "if(r.status_code == 200):\n",
    "    soup = BeautifulSoup(r.content,\"html.parser\")\n",
    "    names = soup.find_all(\"h3\")\n",
    "    names = [name.get_text() for name in names]\n",
    "    print(names)"
   ]
  },
  {
   "cell_type": "markdown",
   "id": "e2540116-5363-4f2e-92fb-e3fc4e32be0b",
   "metadata": {},
   "source": [
    "#### googlesearch\n",
    "\n",
    "https://python-googlesearch.readthedocs.io/en/latest/"
   ]
  },
  {
   "cell_type": "code",
   "execution_count": null,
   "id": "de53db3b-f373-4cd3-b44e-dd6d6059a9ec",
   "metadata": {},
   "outputs": [],
   "source": [
    "#!pip install google"
   ]
  },
  {
   "cell_type": "code",
   "execution_count": null,
   "id": "3e9a6cf6-db20-4198-84b4-2908a7248d49",
   "metadata": {},
   "outputs": [],
   "source": [
    "from googlesearch import search\n",
    "\n",
    "# Heads up! Pause!\n",
    "search_result = search(\"Python Examples\", num=10, stop=10, pause=2)\n",
    "\n",
    "list(search_result)"
   ]
  },
  {
   "cell_type": "markdown",
   "id": "05f48bc3-a901-442e-afda-f9f8de441ef7",
   "metadata": {},
   "source": [
    "#### tkinter"
   ]
  },
  {
   "cell_type": "code",
   "execution_count": null,
   "id": "60c0300b-1a65-436f-825e-2acead800a3a",
   "metadata": {},
   "outputs": [],
   "source": [
    "import tkinter as tk\n",
    "from tkinter import simpledialog\n",
    "\n",
    "root = tk.Tk()\n",
    "root.withdraw()\n",
    "\n",
    "user_input = simpledialog.askstring(title=\"Input box\", prompt=\"Desired color\")\n",
    "\n",
    "print(\"Your desired color is:\", user_input)"
   ]
  },
  {
   "cell_type": "code",
   "execution_count": null,
   "id": "a395c2c7-ed64-40ea-b3a6-05d73ded3426",
   "metadata": {},
   "outputs": [],
   "source": []
  }
 ],
 "metadata": {
  "kernelspec": {
   "display_name": "Python 3 (ipykernel)",
   "language": "python",
   "name": "python3"
  },
  "language_info": {
   "codemirror_mode": {
    "name": "ipython",
    "version": 3
   },
   "file_extension": ".py",
   "mimetype": "text/x-python",
   "name": "python",
   "nbconvert_exporter": "python",
   "pygments_lexer": "ipython3",
   "version": "3.10.9"
  }
 },
 "nbformat": 4,
 "nbformat_minor": 5
}
