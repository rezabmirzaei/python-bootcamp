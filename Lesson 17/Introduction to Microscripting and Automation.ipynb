{
 "cells": [
  {
   "cell_type": "markdown",
   "id": "318e3868-33d0-4388-94ec-7ae192fd6392",
   "metadata": {},
   "source": [
    "# Introduction to Microscripting and Automation"
   ]
  },
  {
   "cell_type": "code",
   "execution_count": null,
   "id": "89433445-1b28-4c53-affa-be703f59f231",
   "metadata": {},
   "outputs": [],
   "source": []
  }
 ],
 "metadata": {
  "kernelspec": {
   "display_name": "Python 3 (ipykernel)",
   "language": "python",
   "name": "python3"
  },
  "language_info": {
   "codemirror_mode": {
    "name": "ipython",
    "version": 3
   },
   "file_extension": ".py",
   "mimetype": "text/x-python",
   "name": "python",
   "nbconvert_exporter": "python",
   "pygments_lexer": "ipython3",
   "version": "3.10.9"
  }
 },
 "nbformat": 4,
 "nbformat_minor": 5
}
