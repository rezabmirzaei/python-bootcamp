{
 "cells": [
  {
   "cell_type": "markdown",
   "id": "c15db6f5-7e95-4b0c-8be9-7f3965f1863a",
   "metadata": {},
   "source": [
    "### python-steam-api\n",
    "\n",
    "https://pypi.org/project/python-steam-api/"
   ]
  },
  {
   "cell_type": "code",
   "execution_count": null,
   "id": "f4754c86-5e04-459f-bf79-873c45c273f7",
   "metadata": {},
   "outputs": [],
   "source": [
    "#!pip install python-steam-api"
   ]
  },
  {
   "cell_type": "code",
   "execution_count": 1,
   "id": "9f6dda7b-d003-41eb-8a51-cbe04bc10e21",
   "metadata": {},
   "outputs": [],
   "source": [
    "# Custom class to signal missing env variable\n",
    "# This is so fundamental for the \"well-being\" of the application it warrants it's own exception\n",
    "class MissingEnvironmentVariable(Exception):\n",
    "    pass"
   ]
  },
  {
   "cell_type": "markdown",
   "id": "ea131836-0501-4a75-b1ad-8aa89da15a77",
   "metadata": {},
   "source": [
    "**HEADS UP**<br/>\n",
    "Never add passwords, tokens, key or secrets to you code in plain text.\n",
    "\n",
    "Create a new environment variable called \"STEAM_API_KEY\" containing the value of your Steam API key."
   ]
  },
  {
   "cell_type": "code",
   "execution_count": 6,
   "id": "26be1979-ca93-451c-80bc-bb8baf4210e4",
   "metadata": {},
   "outputs": [
    {
     "data": {
      "text/plain": [
       "{'apps': [{'id': 2005800,\n",
       "   'link': 'https://store.steampowered.com/app/2005800/NinjaThea/?snr=1_7_15__13',\n",
       "   'name': 'NinjaThea',\n",
       "   'img': 'https://cdn.akamai.steamstatic.com/steam/apps/2005800/capsule_sm_120.jpg?t=1661802088',\n",
       "   'price': 'Free'}]}"
      ]
     },
     "execution_count": 6,
     "metadata": {},
     "output_type": "execute_result"
    }
   ],
   "source": [
    "import os\n",
    "from steam import Steam\n",
    "\n",
    "KEY = \"\"\n",
    "try:\n",
    "    KEY = os.environ[\"STEAM_API_KEY\"]\n",
    "except KeyError as ke:\n",
    "    raise MissingEnvironmentVariable(ke)\n",
    "\n",
    "# ALl good, connect to Steam API\n",
    "steam = Steam(KEY)\n",
    "\n",
    "# Do some arbitrary search\n",
    "steam.apps.search_games(\"NinjaThea\")"
   ]
  },
  {
   "cell_type": "code",
   "execution_count": null,
   "id": "39259865-f461-449d-857c-8cd35afc092a",
   "metadata": {},
   "outputs": [],
   "source": []
  }
 ],
 "metadata": {
  "kernelspec": {
   "display_name": "Python 3 (ipykernel)",
   "language": "python",
   "name": "python3"
  },
  "language_info": {
   "codemirror_mode": {
    "name": "ipython",
    "version": 3
   },
   "file_extension": ".py",
   "mimetype": "text/x-python",
   "name": "python",
   "nbconvert_exporter": "python",
   "pygments_lexer": "ipython3",
   "version": "3.10.9"
  }
 },
 "nbformat": 4,
 "nbformat_minor": 5
}
