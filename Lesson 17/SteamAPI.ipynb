{
 "cells": [
  {
   "cell_type": "code",
   "execution_count": null,
   "id": "f4754c86-5e04-459f-bf79-873c45c273f7",
   "metadata": {},
   "outputs": [],
   "source": [
    "#!pip install python-steam-api"
   ]
  },
  {
   "cell_type": "code",
   "execution_count": null,
   "id": "26be1979-ca93-451c-80bc-bb8baf4210e4",
   "metadata": {},
   "outputs": [],
   "source": [
    "from steam import Steam\n",
    "from decouple import config\n",
    "\n",
    "KEY = config(\"STEAM_API_KEY\")\n",
    "steam = Steam(KEY)\n",
    "\n",
    "steam.apps.search_games(\"terr\")"
   ]
  },
  {
   "cell_type": "code",
   "execution_count": null,
   "id": "39259865-f461-449d-857c-8cd35afc092a",
   "metadata": {},
   "outputs": [],
   "source": []
  }
 ],
 "metadata": {
  "kernelspec": {
   "display_name": "Python 3 (ipykernel)",
   "language": "python",
   "name": "python3"
  },
  "language_info": {
   "codemirror_mode": {
    "name": "ipython",
    "version": 3
   },
   "file_extension": ".py",
   "mimetype": "text/x-python",
   "name": "python",
   "nbconvert_exporter": "python",
   "pygments_lexer": "ipython3",
   "version": "3.10.9"
  }
 },
 "nbformat": 4,
 "nbformat_minor": 5
}
