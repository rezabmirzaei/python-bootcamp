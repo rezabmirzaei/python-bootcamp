{
 "cells": [
  {
   "cell_type": "markdown",
   "id": "7050209c-db91-4c18-b304-d1a49b79ead5",
   "metadata": {},
   "source": [
    "# Classes and objects"
   ]
  },
  {
   "cell_type": "code",
   "execution_count": null,
   "id": "57556b2e-733d-4445-aa91-0d902c2a0d1a",
   "metadata": {},
   "outputs": [],
   "source": [
    "# Core components in Object Oriented Programming (OOP)\n",
    "# ..."
   ]
  },
  {
   "cell_type": "markdown",
   "id": "ff354ff2-97ad-404d-ab84-d59d88960948",
   "metadata": {},
   "source": [
    "## Defining a class"
   ]
  },
  {
   "cell_type": "code",
   "execution_count": null,
   "id": "53d4fc92-709b-4006-9204-f9ca12ab27fe",
   "metadata": {},
   "outputs": [],
   "source": [
    "class Car:\n",
    "    pass"
   ]
  },
  {
   "cell_type": "markdown",
   "id": "71327f61-322c-44b0-b020-83f2d998271c",
   "metadata": {},
   "source": [
    "## Creating an object"
   ]
  },
  {
   "cell_type": "code",
   "execution_count": null,
   "id": "cada5bfd-95e4-476a-9e6c-921ff0858a1a",
   "metadata": {},
   "outputs": [],
   "source": [
    "toyota = Car()\n",
    "print(toyota)"
   ]
  },
  {
   "cell_type": "markdown",
   "id": "ee648a52-bb21-4d19-a40f-e175a2838362",
   "metadata": {},
   "source": [
    "## Modifying an object"
   ]
  },
  {
   "cell_type": "code",
   "execution_count": null,
   "id": "81721fe8-8c97-47e8-ab59-e97a63a480cd",
   "metadata": {},
   "outputs": [],
   "source": []
  },
  {
   "cell_type": "markdown",
   "id": "29dd0fef-7d42-40c9-8a15-16edb539d7da",
   "metadata": {},
   "source": [
    "## Constructors"
   ]
  },
  {
   "cell_type": "code",
   "execution_count": null,
   "id": "ae9611e7-c0fa-437a-b6dd-cf9ae282a79d",
   "metadata": {},
   "outputs": [],
   "source": []
  },
  {
   "cell_type": "markdown",
   "id": "69f34851-dbea-413e-8235-17504cf103f8",
   "metadata": {},
   "source": [
    "## Constructors"
   ]
  },
  {
   "cell_type": "code",
   "execution_count": null,
   "id": "f824f0f0-c576-4db9-9046-ae9ce62ab3f0",
   "metadata": {},
   "outputs": [],
   "source": [
    "# __init__\n",
    "\n",
    "\n",
    "# class vs instance attribute\n",
    "\n",
    "\n",
    "# Access modifiers\n",
    "\n",
    "\n",
    "# \"dunder\" operator (double underscore)"
   ]
  },
  {
   "cell_type": "markdown",
   "id": "e61bd929-a7bf-4713-9791-67fd4ff48823",
   "metadata": {},
   "source": [
    "# Spesial methods"
   ]
  },
  {
   "cell_type": "code",
   "execution_count": null,
   "id": "325fbbfc-9ee0-4c25-92f9-b30de2259fd3",
   "metadata": {},
   "outputs": [],
   "source": [
    "# __init__(self, *)\n",
    "# Already covered, see \"Constructors\" above\n",
    "\n",
    "\n",
    "# __del__(self)\n",
    "\n",
    "\n",
    "# __str__(self)\n",
    "\n",
    "\n",
    "# __len__(self)"
   ]
  }
 ],
 "metadata": {
  "kernelspec": {
   "display_name": "Python 3 (ipykernel)",
   "language": "python",
   "name": "python3"
  },
  "language_info": {
   "codemirror_mode": {
    "name": "ipython",
    "version": 3
   },
   "file_extension": ".py",
   "mimetype": "text/x-python",
   "name": "python",
   "nbconvert_exporter": "python",
   "pygments_lexer": "ipython3",
   "version": "3.10.9"
  }
 },
 "nbformat": 4,
 "nbformat_minor": 5
}
