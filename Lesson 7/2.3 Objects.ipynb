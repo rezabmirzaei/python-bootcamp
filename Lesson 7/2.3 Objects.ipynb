{
 "cells": [
  {
   "cell_type": "markdown",
   "id": "3ddee02b-38f7-4c45-badb-d7bd295f67c4",
   "metadata": {},
   "source": [
    "## Before we start\n",
    "\n",
    "* Review on Friday - regular for previous weeks assignments\n",
    "* Assignment submissions - please .ipynb files (not word/pdf etc)\n",
    "* git - not required for course"
   ]
  },
  {
   "cell_type": "markdown",
   "id": "7050209c-db91-4c18-b304-d1a49b79ead5",
   "metadata": {},
   "source": [
    "# Classes and objects"
   ]
  },
  {
   "cell_type": "code",
   "execution_count": null,
   "id": "57556b2e-733d-4445-aa91-0d902c2a0d1a",
   "metadata": {},
   "outputs": [],
   "source": [
    "# Core components in Object Oriented Programming (OOP)\n",
    "\n",
    "# A class is a template or blueprint for objects\n",
    "## A class defines what variables and methods an object of its type may have\n",
    "## Can be seen as an \"object constructor\" > term \"constructor\" is key here\n",
    "\n",
    "# An object is an actual instance or the implementation of a class (actual variables and values)\n",
    "\n",
    "# A few advantages of OOP:\n",
    "## Modularity\n",
    "## Reusability\n",
    "## Can \"model reality\""
   ]
  },
  {
   "cell_type": "markdown",
   "id": "ff354ff2-97ad-404d-ab84-d59d88960948",
   "metadata": {},
   "source": [
    "## Defining a class"
   ]
  },
  {
   "cell_type": "code",
   "execution_count": null,
   "id": "53d4fc92-709b-4006-9204-f9ca12ab27fe",
   "metadata": {},
   "outputs": [],
   "source": [
    "# Class definition\n",
    "class NameOfClass:\n",
    "    pass\n",
    "\n",
    "\n",
    "class Car:\n",
    "    \"\"\"A blueprint (or template) for cars\"\"\"\n",
    "\n",
    "    # Class variables\n",
    "    make = \"Toyota\" # Hm... this is not very generic for a template. We'll get to that soon (see Constructors)\n",
    "    model = \"Auris\" # Also not good to have to many class variables (see Constructors > class vs instance variables)\n",
    "    accessories = [\"Seat warmers\"]\n",
    "    \n",
    "    # All object methods must have first parameter as a reference to the current instance of the class\n",
    "    # Typically called \"self\"\n",
    "    def info(self):\n",
    "        print(f\"This is a {self.make} {self.model} with the following accessories: {self.accessories}\")\n"
   ]
  },
  {
   "cell_type": "markdown",
   "id": "71327f61-322c-44b0-b020-83f2d998271c",
   "metadata": {},
   "source": [
    "## Creating an object"
   ]
  },
  {
   "cell_type": "code",
   "execution_count": null,
   "id": "cada5bfd-95e4-476a-9e6c-921ff0858a1a",
   "metadata": {},
   "outputs": [],
   "source": [
    "# name_of_object = NameOfClass()\n"
   ]
  },
  {
   "cell_type": "markdown",
   "id": "ee648a52-bb21-4d19-a40f-e175a2838362",
   "metadata": {},
   "source": [
    "## Modifying an object"
   ]
  },
  {
   "cell_type": "code",
   "execution_count": null,
   "id": "81721fe8-8c97-47e8-ab59-e97a63a480cd",
   "metadata": {},
   "outputs": [],
   "source": [
    "# Simple modification via class\n",
    "\n",
    "\n",
    "# Modification via object - mutable vs immutable (a total mess)\n",
    "\n"
   ]
  },
  {
   "cell_type": "markdown",
   "id": "69f34851-dbea-413e-8235-17504cf103f8",
   "metadata": {},
   "source": [
    "## Constructors"
   ]
  },
  {
   "cell_type": "code",
   "execution_count": null,
   "id": "f824f0f0-c576-4db9-9046-ae9ce62ab3f0",
   "metadata": {},
   "outputs": [],
   "source": [
    "# __init__\n",
    "class Car:\n",
    "    \"\"\"A blueprint (or template) for cars\"\"\"\n",
    "    \n",
    "    # We've moved all the class variables into to constructor\n",
    "    ## Variables are now instance (or object) variables and are better isolated\n",
    "    \n",
    "    # Called every time a new object is created\n",
    "    def __init__(self, make, model, *accessories):\n",
    "        # Instance variables\n",
    "        self.make = make\n",
    "        self.model = model\n",
    "        self.accessories = list(accessories)\n",
    "\n",
    "    def info(self):\n",
    "        print(f\"This is a {self.make} {self.model} with the following accessories: {self.accessories}\")\n",
    "\n",
    "\n",
    "# class vs instance variables\n",
    "## Encourage isolation!\n"
   ]
  },
  {
   "cell_type": "markdown",
   "id": "bb3d3e3a-8290-4c85-be42-b662c0aa95f2",
   "metadata": {},
   "source": [
    "## Access modifiers"
   ]
  },
  {
   "cell_type": "code",
   "execution_count": null,
   "id": "96a2022d-dc4e-49f5-a621-06366990ce38",
   "metadata": {},
   "outputs": [],
   "source": [
    "## Limit visibility/access of variables and methods\n",
    "\n",
    "class Moped:\n",
    "    \"\"\"Base class for mopeds\"\"\"\n",
    "\n",
    "    model = \"FZ\"\n",
    "    # Hidden variable\n",
    "    _cost = 12000\n",
    "    \n",
    "    def _printCost(self):\n",
    "        \"\"\"Hidden documentation\"\"\"\n",
    "        print(f\"{self._cost}\")\n",
    "\n",
    "\n",
    "# \"dunder\" operator (double underscore)\n",
    "class Person:\n",
    "    \"\"\"Base class for persons\"\"\"\n",
    "\n",
    "    __ssnr = 12129012121\n",
    "    \n",
    "    def __restricted_method(self):\n",
    "        \"\"\"Restricted documentation\"\"\"\n",
    "        print(\"Restricted!\")\n"
   ]
  },
  {
   "cell_type": "markdown",
   "id": "e61bd929-a7bf-4713-9791-67fd4ff48823",
   "metadata": {},
   "source": [
    "# Spesial methods"
   ]
  },
  {
   "cell_type": "code",
   "execution_count": null,
   "id": "325fbbfc-9ee0-4c25-92f9-b30de2259fd3",
   "metadata": {},
   "outputs": [],
   "source": [
    "# __init__(self, *)\n",
    "# Already covered, see \"Constructors\" above\n",
    "\n",
    "\n",
    "# __del__(self)\n",
    "\n",
    "\n",
    "# __str__(self)\n",
    "\n",
    "\n",
    "# __repr__(self)\n",
    "## By default when no __str__ and __repr__ methods are defined\n",
    "## python __str__ method calls the default __repr__ method which returns the address of the object"
   ]
  },
  {
   "cell_type": "markdown",
   "id": "2ecb4f95-3d70-4043-abb7-8eba101618f4",
   "metadata": {},
   "source": [
    "## Final words"
   ]
  },
  {
   "cell_type": "code",
   "execution_count": null,
   "id": "00cdce92-7ceb-4637-8ce3-e22eebb0dddb",
   "metadata": {},
   "outputs": [],
   "source": [
    "class DemoClass:\n",
    "    \"\"\"A demo of static and class methods\"\"\"\n",
    "    \n",
    "    some_attribute = \"Some value\"\n",
    "    \n",
    "    # Must have first arg as ref. to self, but can be called anything!!!\n",
    "    # Best practice is \"self\", but as example, \"self\" is here replaced by \"gibberish\"\n",
    "    def regular_method(gibberish):\n",
    "        print(f\"Regular method: {gibberish.some_attribute}\")\n",
    "\n",
    "\n",
    "demoObj = DemoClass()\n",
    "demoObj.regular_method()\n"
   ]
  },
  {
   "cell_type": "code",
   "execution_count": null,
   "id": "520fa999-4343-496a-8fe9-df78458727eb",
   "metadata": {},
   "outputs": [],
   "source": []
  }
 ],
 "metadata": {
  "kernelspec": {
   "display_name": "Python 3 (ipykernel)",
   "language": "python",
   "name": "python3"
  },
  "language_info": {
   "codemirror_mode": {
    "name": "ipython",
    "version": 3
   },
   "file_extension": ".py",
   "mimetype": "text/x-python",
   "name": "python",
   "nbconvert_exporter": "python",
   "pygments_lexer": "ipython3",
   "version": "3.10.9"
  }
 },
 "nbformat": 4,
 "nbformat_minor": 5
}
