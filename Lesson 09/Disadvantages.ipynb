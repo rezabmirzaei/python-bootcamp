{
 "cells": [
  {
   "cell_type": "markdown",
   "id": "038084a2-d71e-4145-b539-ca736f8661d0",
   "metadata": {},
   "source": [
    "``pip install memory_profiler``\n",
    "\n",
    "https://pypi.org/project/memory-profiler/\n",
    "\n",
    "https://ipython.readthedocs.io/en/stable/interactive/magics.html#line-magics"
   ]
  },
  {
   "cell_type": "code",
   "execution_count": null,
   "id": "83697291-e12a-45cf-be0e-5c6c328522b4",
   "metadata": {},
   "outputs": [],
   "source": [
    "import memory_profiler\n",
    "%load_ext memory_profiler\n",
    "\n",
    "%timeit [x * x for x in range(1000000)]\n",
    "%memit [x * x for x in range(1000000)]\n"
   ]
  },
  {
   "cell_type": "code",
   "execution_count": null,
   "id": "b2c36862-2084-4778-9dd5-eb71e1becb4b",
   "metadata": {},
   "outputs": [],
   "source": [
    "import random\n",
    "\n",
    "class Student:\n",
    "    def __init__(self,name,surname,major,minor):\n",
    "        self.name = name\n",
    "        self.surname = surname\n",
    "        self.major = major\n",
    "        self.minor = minor\n",
    "\n",
    "names = [\"Lucas\", \"Filip\", \"Oliver\", \"Emma\", \"Nora\", \"Olivia\"]\n",
    "surnames = [\"Hansen\", \"Johansen\", \"Olsen\", \"Larsen\", \"Andersen\", \"Pedersen\"]\n",
    "majors = [\"Computer Science\", \"Physics\", \"Mathematics\", \"Biology\"]\n",
    "minors = [\"Economics\", \"English\", \"Management\", \"Statistics\", \"Arts\"]\n",
    "\n",
    "def create_random_students(number):\n",
    "    students = []\n",
    "    for i in range(number):\n",
    "            student = Student(random.choice(names),\n",
    "                         random.choice(surnames),\n",
    "                         random.choice(majors),\n",
    "                         random.choice(minors))\n",
    "            students.append(student)\n",
    "    return students\n",
    "\n",
    "%timeit create_random_students(1000000)\n",
    "%memit create_random_students(1000000)"
   ]
  },
  {
   "cell_type": "code",
   "execution_count": null,
   "id": "3795c276-8576-4bc9-8b45-f5b6fd42b24b",
   "metadata": {},
   "outputs": [],
   "source": []
  }
 ],
 "metadata": {
  "kernelspec": {
   "display_name": "Python 3 (ipykernel)",
   "language": "python",
   "name": "python3"
  },
  "language_info": {
   "codemirror_mode": {
    "name": "ipython",
    "version": 3
   },
   "file_extension": ".py",
   "mimetype": "text/x-python",
   "name": "python",
   "nbconvert_exporter": "python",
   "pygments_lexer": "ipython3",
   "version": "3.10.9"
  }
 },
 "nbformat": 4,
 "nbformat_minor": 5
}
