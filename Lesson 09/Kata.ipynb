{
 "cells": [
  {
   "cell_type": "markdown",
   "id": "fb69e15a-0743-41f7-b903-95eb022e7d2f",
   "metadata": {},
   "source": [
    "# Pig Latin Translator"
   ]
  },
  {
   "cell_type": "code",
   "execution_count": null,
   "id": "c5f35706-63d6-47ad-a849-c50651e8cd6a",
   "metadata": {},
   "outputs": [],
   "source": [
    "def pig_latin_translator(sentence):\n",
    "    return \" \".join([word + \"way\" if word[0].lower() in \"aeiou\" else word[1:] + word[0] + \"ay\" for word in sentence.split()])\n",
    "\n",
    "sentence = input(\"Enter a word or sentence to translate: \")\n",
    "pig_latin_translator(sentence)"
   ]
  },
  {
   "cell_type": "markdown",
   "id": "4371eee1-a3a2-4a5a-9748-db9095e7b5f9",
   "metadata": {},
   "source": [
    "## Keep punctuation"
   ]
  },
  {
   "cell_type": "code",
   "execution_count": null,
   "id": "1fc2111a-e0e1-42a7-8729-0fb738ca7376",
   "metadata": {},
   "outputs": [],
   "source": [
    "# Can make this a lot more complicated with regex etc, but I believe this is the simplest solution with what we've covered so far\n",
    "def put_special_char_at_end(pig_latined_word):\n",
    "    letters_of_word = []\n",
    "    special_chars = []\n",
    "    for letter in pig_latined_word:\n",
    "        if letter.isalpha():\n",
    "            letters_of_word.append(letter)\n",
    "        else:\n",
    "            special_chars.append(letter)\n",
    "    return \"\".join(letters_of_word + special_chars)\n",
    "\n",
    "\n",
    "def pig_latin_translator_with_punctuation(sentence):\n",
    "    return \" \".join(\n",
    "        [put_special_char_at_end(word + \"way\")if word[0].lower() in \"aeiou\" else \n",
    "         put_special_char_at_end(word[1:] + word[0] + 'ay') for word in sentence.split()])\n",
    "\n",
    "sentence = input(\"Enter a word or sentence to translate: \")\n",
    "pig_latin_translator_with_punctuation(sentence)"
   ]
  }
 ],
 "metadata": {
  "kernelspec": {
   "display_name": "Python 3 (ipykernel)",
   "language": "python",
   "name": "python3"
  },
  "language_info": {
   "codemirror_mode": {
    "name": "ipython",
    "version": 3
   },
   "file_extension": ".py",
   "mimetype": "text/x-python",
   "name": "python",
   "nbconvert_exporter": "python",
   "pygments_lexer": "ipython3",
   "version": "3.10.9"
  }
 },
 "nbformat": 4,
 "nbformat_minor": 5
}
