{
 "cells": [
  {
   "cell_type": "markdown",
   "id": "fb69e15a-0743-41f7-b903-95eb022e7d2f",
   "metadata": {},
   "source": [
    "# Pig Latin Translator"
   ]
  },
  {
   "cell_type": "code",
   "execution_count": 9,
   "id": "c5f35706-63d6-47ad-a849-c50651e8cd6a",
   "metadata": {},
   "outputs": [
    {
     "name": "stdin",
     "output_type": "stream",
     "text": [
      "Enter a word or sentence to translate I love Python\n"
     ]
    },
    {
     "data": {
      "text/plain": [
       "'Iway ovelay ythonPay'"
      ]
     },
     "execution_count": 9,
     "metadata": {},
     "output_type": "execute_result"
    }
   ],
   "source": [
    "sentence = input(\"Enter a word or sentence to translate\")\n",
    "\n",
    "def pig_latin_translator(sentence):\n",
    "    vowels = ['a','e','i','o','u']\n",
    "    return \" \".join([word + 'way' if word[0].lower() in vowels else word[1:] + word[0] + 'ay' for word in sentence.split()])\n",
    "\n",
    "pig_latin_translator(sentence)"
   ]
  },
  {
   "cell_type": "code",
   "execution_count": null,
   "id": "1fc2111a-e0e1-42a7-8729-0fb738ca7376",
   "metadata": {},
   "outputs": [],
   "source": []
  }
 ],
 "metadata": {
  "kernelspec": {
   "display_name": "Python 3 (ipykernel)",
   "language": "python",
   "name": "python3"
  },
  "language_info": {
   "codemirror_mode": {
    "name": "ipython",
    "version": 3
   },
   "file_extension": ".py",
   "mimetype": "text/x-python",
   "name": "python",
   "nbconvert_exporter": "python",
   "pygments_lexer": "ipython3",
   "version": "3.10.9"
  }
 },
 "nbformat": 4,
 "nbformat_minor": 5
}
