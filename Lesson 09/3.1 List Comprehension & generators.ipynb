{
 "cells": [
  {
   "cell_type": "markdown",
   "id": "f751849c-765c-4eb2-af09-d33582fe6e4b",
   "metadata": {},
   "source": [
    "# 3.1 List Comprehension & generators"
   ]
  },
  {
   "cell_type": "code",
   "execution_count": null,
   "id": "9195162e-82ee-4305-9916-c48967acda63",
   "metadata": {},
   "outputs": [],
   "source": []
  }
 ],
 "metadata": {
  "kernelspec": {
   "display_name": "Python 3 (ipykernel)",
   "language": "python",
   "name": "python3"
  },
  "language_info": {
   "codemirror_mode": {
    "name": "ipython",
    "version": 3
   },
   "file_extension": ".py",
   "mimetype": "text/x-python",
   "name": "python",
   "nbconvert_exporter": "python",
   "pygments_lexer": "ipython3",
   "version": "3.10.9"
  }
 },
 "nbformat": 4,
 "nbformat_minor": 5
}
