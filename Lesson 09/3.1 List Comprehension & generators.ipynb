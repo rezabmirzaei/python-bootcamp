{
 "cells": [
  {
   "cell_type": "markdown",
   "id": "a9968b1e-5f59-439c-af7a-a8405c734841",
   "metadata": {},
   "source": [
    "## Before we start\n",
    "* Wed May 17th - **no lesson**\n",
    "* Lesson 10 tomorrow Tue May 16th"
   ]
  },
  {
   "cell_type": "markdown",
   "id": "f751849c-765c-4eb2-af09-d33582fe6e4b",
   "metadata": {},
   "source": [
    "# 3.1 List Comprehension & Generators"
   ]
  },
  {
   "cell_type": "markdown",
   "id": "6250b293-804c-48e2-9b11-075e38181cd2",
   "metadata": {},
   "source": [
    "## List Comprehension"
   ]
  },
  {
   "cell_type": "markdown",
   "id": "1c50c40f-ac54-471c-80d0-4d061a6a3253",
   "metadata": {},
   "source": [
    "Lets us create lists in a faster, more elegant, one-line way\n",
    "(also sets and dictionaries)."
   ]
  },
  {
   "cell_type": "markdown",
   "id": "4a7c1b74-e2c0-45ca-9852-39ade3a70a77",
   "metadata": {},
   "source": [
    "``[<expression> for <item> in <iterable>]``"
   ]
  },
  {
   "cell_type": "code",
   "execution_count": null,
   "id": "9195162e-82ee-4305-9916-c48967acda63",
   "metadata": {},
   "outputs": [],
   "source": [
    "# Traditional way to create list (using for loop)\n",
    "numbers = []\n",
    "for numb in range(0, 10):\n",
    "    numbers.append(numb)\n",
    "print(numbers)"
   ]
  },
  {
   "cell_type": "code",
   "execution_count": null,
   "id": "8417020f-fe5f-4110-9093-39f0aed9ba95",
   "metadata": {},
   "outputs": [],
   "source": [
    "# Using list comprehension\n",
    "numbers = [numb for numb in range(10, 20)]\n",
    "print(numbers)"
   ]
  },
  {
   "cell_type": "markdown",
   "id": "366da9b4-eec7-4d14-b1d7-b67950aced8f",
   "metadata": {},
   "source": [
    "### Conditional Logic"
   ]
  },
  {
   "cell_type": "markdown",
   "id": "f1743df1-d781-4812-93c9-ecd252a68bfd",
   "metadata": {},
   "source": [
    "``[<expression> for <item> in <iterable> if <condition>]``"
   ]
  },
  {
   "cell_type": "code",
   "execution_count": null,
   "id": "fd777c1b-c78a-4201-8976-3610ccfd7388",
   "metadata": {},
   "outputs": [],
   "source": [
    "# Only even numbers\n",
    "even_numbers = [numb for numb in range(0, 10) if numb % 2 == 0]\n",
    "print(even_numbers)"
   ]
  },
  {
   "cell_type": "markdown",
   "id": "86fbb27b-98a5-46ac-bba6-a80d409dec11",
   "metadata": {},
   "source": [
    "### Ternary expressions"
   ]
  },
  {
   "cell_type": "markdown",
   "id": "4efc0a08-e09b-492c-89a8-b3d3b2e188c1",
   "metadata": {},
   "source": [
    "``[<expression> if <condition> else <default expression> for <item> in <iterable>]``"
   ]
  },
  {
   "cell_type": "code",
   "execution_count": null,
   "id": "7f61678c-3215-49a9-86cb-a00c5ca601d9",
   "metadata": {},
   "outputs": [],
   "source": [
    "# Print 'even' or 'odd' depending on number\n",
    "numbers = [f\"{numb} is even\" if numb % 2 == 0 else f\"{numb} is odd\" for numb in range(0, 10)]\n",
    "print(numbers)"
   ]
  },
  {
   "cell_type": "markdown",
   "id": "272a2555-ee30-4308-a323-fff53b3117dd",
   "metadata": {},
   "source": [
    "### Multiple loops"
   ]
  },
  {
   "cell_type": "code",
   "execution_count": null,
   "id": "ea8a804c-78b0-4169-a211-f8121764edea",
   "metadata": {},
   "outputs": [],
   "source": [
    "# Football match setup\n",
    "epl_teams = [\"Liverpool\", \"Arsenal\", \"Manchester United\", \"Chelsea\"]\n",
    "la_liga_teams = [\"Real Madrid\", \"Barcelona\", \"Sevilla\", \"Valencia\"]\n",
    "\n",
    "matches = [(home_team, away_team) for home_team in epl_teams for away_team in la_liga_teams]\n",
    "print(matches)\n",
    "\n",
    "matches = []\n",
    "for home_team in la_liga_teams:\n",
    "    for away_team in epl_teams:\n",
    "        matches.append((home_team, away_team))\n",
    "print(matches)"
   ]
  },
  {
   "cell_type": "markdown",
   "id": "465a49ed-7202-46f7-a228-a0e607d40d77",
   "metadata": {},
   "source": [
    "## Always consider what’s easiest to read and understand in your specific scenario.\n",
    "### Code clarity vs performance!"
   ]
  },
  {
   "cell_type": "code",
   "execution_count": null,
   "id": "a984d990-eb2b-415d-8f07-168b8f6f1490",
   "metadata": {},
   "outputs": [],
   "source": [
    "# Consider the complexity of your functionality before choosing an implementation.\n",
    "# And remember: There is no shame in refactoring!\n",
    "\n",
    "print(\"## Ternary, consditional list comprehension\")\n",
    "numbers = [f\"{numb} is even\" if numb % 2 == 0 else f\"{numb} is odd\" for numb in range(0, 10) if numb > 3]\n",
    "print(numbers)\n",
    "\n",
    "print(\"\\n## For loop\")\n",
    "for numb in range(0, 10):\n",
    "    if numb > 3:\n",
    "        print(f\"{numb} is even\" if numb % 2 == 0 else f\"{numb} is odd\")\n"
   ]
  },
  {
   "cell_type": "markdown",
   "id": "15acd7ad-6c00-48d2-b78c-bf75b85086d5",
   "metadata": {},
   "source": [
    "### Nested Comprehension"
   ]
  },
  {
   "cell_type": "code",
   "execution_count": null,
   "id": "a1e0bcc7-be1f-477b-855e-5c23a7a36406",
   "metadata": {},
   "outputs": [],
   "source": [
    "# [<expression> for <item> in [another_list_comprehension]]\n",
    "printable_oe = [f\"{n} is a {oe} number\" for (n, oe) in [(n, \"odd\") if n % 2 != 0 else (n, \"even\") for n in range(20)]]\n",
    "print(printable_oe[:3])"
   ]
  },
  {
   "cell_type": "code",
   "execution_count": null,
   "id": "9a0cc17a-df93-44c1-a707-ec4b9d51afae",
   "metadata": {},
   "outputs": [],
   "source": [
    "# A few final words\n",
    "\n",
    "# Creating the iterable using other functions as part of our comprehension\n",
    "# [<expression> for <item> in <iterable>]\n",
    "numbs1 = [1, \"a\", 3.3, 4, 5]\n",
    "numbs2 = [5, 10, 20, 30, 40]\n",
    "multiplied_numbers = [numb1 * numb2 for (numb1, numb2) in zip(numbs1, numbs2)]\n",
    "print(multiplied_numbers)\n",
    "\n",
    "\n",
    "# Flattening multi-dimensional list\n",
    "multi_dim_list = [[0, 1, 2], [3, 4, 5], [6, 7, 8]]\n",
    "flattened_list = [numb for sublist in multi_dim_list for numb in sublist]\n",
    "print(flattened_list)\n",
    "\n",
    "# Set comprehension\n",
    "some_random_word = \"voodoo\"\n",
    "letters_set = {letter for letter in some_random_word}\n",
    "print(letters_set)\n",
    "\n",
    "# dict comprehension\n",
    "numb_dict_pow_two = {numb:numb**2 for numb in range(1, 10)}\n",
    "print(numb_dict_pow_two)\n"
   ]
  },
  {
   "cell_type": "markdown",
   "id": "c808adae-446b-4213-b89c-92542902dc26",
   "metadata": {},
   "source": [
    "## Generators"
   ]
  },
  {
   "cell_type": "markdown",
   "id": "e92387b0-715d-4577-a135-05b99290c67b",
   "metadata": {},
   "source": [
    "``yield`` instead of ``return``\n",
    "\n",
    "A genarator returns an object that can be iterated over to produce desired values. Instead of creating entire dataset and filling memory, creates desired data when needed.\n",
    "\n",
    "Use when you anticipate large datasets you need to iterate."
   ]
  },
  {
   "cell_type": "code",
   "execution_count": 45,
   "id": "c7ff5810-26b9-42a0-a675-4b180093a339",
   "metadata": {},
   "outputs": [
    {
     "data": {
      "text/plain": [
       "True"
      ]
     },
     "execution_count": 45,
     "metadata": {},
     "output_type": "execute_result"
    }
   ],
   "source": [
    "# https://docs.python.org/3/library/collections.abc.html\n",
    "import collections\n",
    "issubclass(collections.abc.Generator, collections.abc.Iterator)"
   ]
  },
  {
   "cell_type": "code",
   "execution_count": 41,
   "id": "29810f32-e44b-4451-905e-9a421b2ec879",
   "metadata": {},
   "outputs": [
    {
     "name": "stdout",
     "output_type": "stream",
     "text": [
      "[0, 1, 2, 3, 4, 5, 6, 7, 8, 9, 10, 11, 12, 13, 14, 15, 16, 17, 18, 19, 20]\n"
     ]
    }
   ],
   "source": [
    "# Traditional list of numbers (\"return\")\n",
    "def number_list(limit):\n",
    "    \"\"\" Generate a list of numbers from 0 up to and including 'limit' and return it\"\"\"\n",
    "    numbers = []\n",
    "    number = 0\n",
    "    while number <= limit:\n",
    "        numbers.append(number)\n",
    "        number += 1\n",
    "    return numbers\n",
    "\n",
    "my_list_numbers = number_list(20)\n",
    "print(my_list_numbers)"
   ]
  },
  {
   "cell_type": "code",
   "execution_count": 51,
   "id": "2a5a1a0d-cbdb-41f5-a038-5e2d7e431e79",
   "metadata": {},
   "outputs": [
    {
     "name": "stdout",
     "output_type": "stream",
     "text": [
      "<generator object number_generator at 0x000001BFCE7E8580>\n",
      "0\n",
      "1\n",
      "2\n",
      "..\n",
      "3\n",
      "4\n",
      "5\n",
      "6\n",
      "7\n",
      "8\n",
      "9\n",
      "10\n",
      "11\n",
      "12\n",
      "13\n",
      "14\n",
      "15\n",
      "16\n",
      "17\n",
      "18\n",
      "19\n",
      "20\n",
      "<generator object <genexpr> at 0x000001BFCE7E86D0>\n"
     ]
    }
   ],
   "source": [
    "def number_generator(limit):\n",
    "    \"\"\" Generate itereator to return numbers from 0 up to and including 'limit'\"\"\"\n",
    "    number = 0\n",
    "    while number <= limit:\n",
    "        yield number\n",
    "        number += 1\n",
    "\n",
    "my_gen_numbers = number_generator(20)\n",
    "print(my_gen_numbers)\n",
    "print(next(my_gen_numbers))\n",
    "print(next(my_gen_numbers))\n",
    "print(next(my_gen_numbers))\n",
    "print(\"..\")\n",
    "for numb in my_gen_numbers:\n",
    "    print(numb)\n",
    "\n",
    "# Generator comprehension\n",
    "numbers_gen_comp = (numb for numb in range(0, 5))\n",
    "print(numbers_gen_comp)\n"
   ]
  },
  {
   "cell_type": "code",
   "execution_count": 53,
   "id": "839ac6ec-16d0-41bb-97a4-33198908e577",
   "metadata": {},
   "outputs": [],
   "source": [
    "import memory_profiler\n",
    "%load_ext memory_profiler"
   ]
  },
  {
   "cell_type": "code",
   "execution_count": 54,
   "id": "c941093d-14a8-4768-a72a-e2e8220d4933",
   "metadata": {},
   "outputs": [
    {
     "name": "stdout",
     "output_type": "stream",
     "text": [
      "peak memory: 97.00 MiB, increment: 0.14 MiB\n",
      "peak memory: 4183.39 MiB, increment: 4086.38 MiB\n"
     ]
    }
   ],
   "source": [
    "%memit number_generator(10000000)\n",
    "%memit number_list(100000000)"
   ]
  },
  {
   "cell_type": "code",
   "execution_count": null,
   "id": "1ccb293f-3635-41c1-84cf-30110678224f",
   "metadata": {},
   "outputs": [],
   "source": []
  }
 ],
 "metadata": {
  "kernelspec": {
   "display_name": "Python 3 (ipykernel)",
   "language": "python",
   "name": "python3"
  },
  "language_info": {
   "codemirror_mode": {
    "name": "ipython",
    "version": 3
   },
   "file_extension": ".py",
   "mimetype": "text/x-python",
   "name": "python",
   "nbconvert_exporter": "python",
   "pygments_lexer": "ipython3",
   "version": "3.10.9"
  }
 },
 "nbformat": 4,
 "nbformat_minor": 5
}
