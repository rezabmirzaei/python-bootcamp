{
 "cells": [
  {
   "cell_type": "markdown",
   "id": "f751849c-765c-4eb2-af09-d33582fe6e4b",
   "metadata": {},
   "source": [
    "# 3.1 List Comprehension & generators"
   ]
  },
  {
   "cell_type": "markdown",
   "id": "6250b293-804c-48e2-9b11-075e38181cd2",
   "metadata": {},
   "source": [
    "### List Comprehension"
   ]
  },
  {
   "cell_type": "markdown",
   "id": "1c50c40f-ac54-471c-80d0-4d061a6a3253",
   "metadata": {},
   "source": [
    "Lets us create lists in a faster, more elegant, one-line way\n",
    "(also sets and dictionaries)."
   ]
  },
  {
   "cell_type": "markdown",
   "id": "4a7c1b74-e2c0-45ca-9852-39ade3a70a77",
   "metadata": {},
   "source": [
    "``[<expression> for <item> in <iterable>]``"
   ]
  },
  {
   "cell_type": "code",
   "execution_count": null,
   "id": "9195162e-82ee-4305-9916-c48967acda63",
   "metadata": {},
   "outputs": [],
   "source": [
    "# Traditional way to create list\n",
    "numbers = []\n",
    "for numb in range(1, 6):\n",
    "    numbers.append(numb)\n",
    "print(numbers)"
   ]
  },
  {
   "cell_type": "code",
   "execution_count": null,
   "id": "8417020f-fe5f-4110-9093-39f0aed9ba95",
   "metadata": {},
   "outputs": [],
   "source": [
    "# Using list comprehension\n",
    "numbers = [numb for numb in range(1, 6)]\n",
    "print(numbers)"
   ]
  },
  {
   "cell_type": "markdown",
   "id": "366da9b4-eec7-4d14-b1d7-b67950aced8f",
   "metadata": {},
   "source": [
    "### Conditional Logic"
   ]
  },
  {
   "cell_type": "markdown",
   "id": "f1743df1-d781-4812-93c9-ecd252a68bfd",
   "metadata": {},
   "source": [
    "``[<expression> for <item> in <iterable> if <condition>]``"
   ]
  },
  {
   "cell_type": "code",
   "execution_count": null,
   "id": "fd777c1b-c78a-4201-8976-3610ccfd7388",
   "metadata": {},
   "outputs": [],
   "source": [
    "# Only even numbers\n",
    "numbers = [numb for numb in range(1, 6) if numb % 2 == 0]\n",
    "print(numbers)"
   ]
  },
  {
   "cell_type": "markdown",
   "id": "86fbb27b-98a5-46ac-bba6-a80d409dec11",
   "metadata": {},
   "source": [
    "### Ternary expressions"
   ]
  },
  {
   "cell_type": "markdown",
   "id": "4efc0a08-e09b-492c-89a8-b3d3b2e188c1",
   "metadata": {},
   "source": [
    "``[<expression> if <condition> else <default expression> for <item> in <iterable>]``"
   ]
  },
  {
   "cell_type": "code",
   "execution_count": null,
   "id": "7f61678c-3215-49a9-86cb-a00c5ca601d9",
   "metadata": {},
   "outputs": [],
   "source": [
    "# Print 'even' or 'odd' depending on number\n",
    "numbers = [f\"{numb} is even\" if numb % 2 == 0 else f\"{numb} is odd\" for numb in range(1, 6)]\n",
    "print(numbers)"
   ]
  },
  {
   "cell_type": "markdown",
   "id": "272a2555-ee30-4308-a323-fff53b3117dd",
   "metadata": {},
   "source": [
    "### Multiple loops"
   ]
  },
  {
   "cell_type": "code",
   "execution_count": null,
   "id": "ea8a804c-78b0-4169-a211-f8121764edea",
   "metadata": {},
   "outputs": [],
   "source": [
    "# Football match setup\n",
    "epl_teams = [\"Liverpool\", \"Arenal\", \"Manchester United\", \"Chelsea\"]\n",
    "la_liga_teams = [\"Real Madrid\", \"Barcelona\", \"Sevilla\", \"Valencia\"]\n",
    "\n",
    "matches = [(home_team, away_team) for home_team in epl_teams for away_team in la_liga_teams]\n",
    "print(matches)\n",
    "\n",
    "matches = []\n",
    "for home_team in epl_teams:\n",
    "    for away_team in la_liga_teams:\n",
    "        matches.append((home_team, away_team))\n",
    "print(matches)"
   ]
  },
  {
   "cell_type": "markdown",
   "id": "465a49ed-7202-46f7-a228-a0e607d40d77",
   "metadata": {},
   "source": [
    "## Always consider what’s easiest to read and understand in your specific scenario!"
   ]
  },
  {
   "cell_type": "code",
   "execution_count": null,
   "id": "a984d990-eb2b-415d-8f07-168b8f6f1490",
   "metadata": {},
   "outputs": [],
   "source": [
    "# Consider the complexity of your functionality before choosing an implementation.\n",
    "# And remember: There is no shame in refactoring!\n",
    "\n",
    "print(\"## Ternary, consditional list comprehension\")\n",
    "numbers = [print(f\"{numb} is even\") if numb % 2 == 0 else print(f\"{numb} is odd\") for numb in range(1, 6) if numb > 3]\n",
    "\n",
    "print(\"\\n## For loop\")\n",
    "for numb in range(1, 6):\n",
    "    if (numb > 3):\n",
    "        print(f\"{numb} is even\") if numb % 2 == 0 else print(f\"{numb} is odd\")"
   ]
  },
  {
   "cell_type": "markdown",
   "id": "15acd7ad-6c00-48d2-b78c-bf75b85086d5",
   "metadata": {},
   "source": [
    "### Nested Comprehension"
   ]
  },
  {
   "cell_type": "code",
   "execution_count": null,
   "id": "a1e0bcc7-be1f-477b-855e-5c23a7a36406",
   "metadata": {},
   "outputs": [],
   "source": [
    "printable_oe = [f\"{n} is a {oe} number\" for (n, oe) in [(n, \"odd\") if n % 2 != 0 else (n, \"even\") for n in range(20)]]\n",
    "print(printable_oe[:3])"
   ]
  },
  {
   "cell_type": "code",
   "execution_count": null,
   "id": "9a0cc17a-df93-44c1-a707-ec4b9d51afae",
   "metadata": {},
   "outputs": [],
   "source": [
    "# A few final words\n",
    "\n",
    "# Creating an iterator\n",
    "numbs1 = [1, 2, 3, 4, 5]\n",
    "numbs2 = [5, 10, 20, 30, 40]\n",
    "multiplied_numbers = [n1 * n2 for (n1, n2) in zip(numbs1, numbs2)]\n",
    "print(multiplied_numbers)\n",
    "\n",
    "# Set comprehension\n",
    "some_random_word = \"voodoo\"\n",
    "letters_set = {letter for letter in some_random_word}\n",
    "print(letters_set)\n",
    "\n",
    "# dict comprehension\n",
    "numb_pow_two_dict = {numb:numb**2 for numb in range(1, 6)}\n",
    "print(numb_pow_two_dict)"
   ]
  }
 ],
 "metadata": {
  "kernelspec": {
   "display_name": "Python 3 (ipykernel)",
   "language": "python",
   "name": "python3"
  },
  "language_info": {
   "codemirror_mode": {
    "name": "ipython",
    "version": 3
   },
   "file_extension": ".py",
   "mimetype": "text/x-python",
   "name": "python",
   "nbconvert_exporter": "python",
   "pygments_lexer": "ipython3",
   "version": "3.10.9"
  }
 },
 "nbformat": 4,
 "nbformat_minor": 5
}
