{
 "cells": [
  {
   "cell_type": "code",
   "execution_count": null,
   "id": "77e7e4c4-9a05-4113-bfe6-ff783cc7957c",
   "metadata": {},
   "outputs": [],
   "source": [
    "# Create lambda, keep reference to it.\n",
    "fizzbuzz_lambda = lambda i: \"FizzBuzz\" if i % 15 == 0 else \"Fizz\" if i % 3 == 0 else \"Buzz\" if i % 5 == 0  else \"\"\n",
    "\n",
    "total_sum = 0\n",
    "for i in range(0, 1001):\n",
    "    fizzbuzz_lambda_result = fizzbuzz_lambda(i)\n",
    "    total_sum += len(fizzbuzz_lambda_result)\n",
    "\n",
    "print(total_sum)"
   ]
  },
  {
   "cell_type": "code",
   "execution_count": null,
   "id": "92ef94f7-35cf-4969-9ad7-d37535a7b1bb",
   "metadata": {},
   "outputs": [],
   "source": [
    "# Remember map(func, iter) > applies each element of the iter to the func\n",
    "total_sum = len(\"\".join(list(map(lambda i: \n",
    "    \"FizzBuzz\" if i % 15 == 0 else \n",
    "    \"Fizz\" if i % 3 == 0 else \n",
    "    \"Buzz\" if i % 5 == 0 else \"\", \n",
    "    [i for i in range(0, 1001)]))))\n",
    "print(total_sum)"
   ]
  }
 ],
 "metadata": {
  "kernelspec": {
   "display_name": "Python 3 (ipykernel)",
   "language": "python",
   "name": "python3"
  },
  "language_info": {
   "codemirror_mode": {
    "name": "ipython",
    "version": 3
   },
   "file_extension": ".py",
   "mimetype": "text/x-python",
   "name": "python",
   "nbconvert_exporter": "python",
   "pygments_lexer": "ipython3",
   "version": "3.10.9"
  }
 },
 "nbformat": 4,
 "nbformat_minor": 5
}
