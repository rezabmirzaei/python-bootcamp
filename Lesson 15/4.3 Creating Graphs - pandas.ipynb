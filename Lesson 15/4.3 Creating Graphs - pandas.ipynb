{
 "cells": [
  {
   "cell_type": "markdown",
   "id": "4b41615d-d813-4f68-b1fe-83584ff5d5b4",
   "metadata": {},
   "source": [
    "# 4.3 Creating Graphs - Pandas\n",
    "\n",
    "https://pandas.pydata.org/docs/user_guide/visualization.html"
   ]
  },
  {
   "cell_type": "code",
   "execution_count": null,
   "id": "1966c325-1303-4f4c-90be-be6d301f7a1d",
   "metadata": {},
   "outputs": [],
   "source": [
    "import pandas as pd\n",
    "import matplotlib.pyplot as plt\n",
    "from random import randint"
   ]
  },
  {
   "cell_type": "markdown",
   "id": "dc2bfac9-1972-4bc9-9408-7cac635c18c7",
   "metadata": {},
   "source": [
    "### Line plots"
   ]
  },
  {
   "cell_type": "code",
   "execution_count": null,
   "id": "5d0b27d7-c7ef-49de-8440-78555097b97b",
   "metadata": {},
   "outputs": [],
   "source": [
    "# Simple example\n",
    "\n",
    "my_series = pd.Series([0, 2, 1, 3, 2, 4, 3, 6, 2])\n",
    "fig = plt.figure()\n",
    "my_axes = fig.add_subplot()\n",
    "\n",
    "my_series.plot(ax=my_axes)"
   ]
  },
  {
   "cell_type": "code",
   "execution_count": null,
   "id": "1a77cec6-b178-4bf9-8947-baa6f98e1d2f",
   "metadata": {},
   "outputs": [],
   "source": [
    "# More detailed example\n",
    "\n",
    "# Random month incomes/expenses\n",
    "income_expense_df = pd.DataFrame({\n",
    "    \"Income\" : [randint(0, 1000) for x in range(30)],\n",
    "    \"Expenses\" : [randint(0, 1000) for x in range(30)]\n",
    "})\n",
    "\n",
    "income_expense_df.head()"
   ]
  },
  {
   "cell_type": "code",
   "execution_count": null,
   "id": "4cac7358-4f22-4582-82e6-c90d1b2a0502",
   "metadata": {},
   "outputs": [],
   "source": [
    "fig = plt.figure()\n",
    "ie_ax = fig.add_subplot()\n",
    "\n",
    "income_expense_df.plot(ax=ie_ax)"
   ]
  },
  {
   "cell_type": "code",
   "execution_count": null,
   "id": "0a08217f-ea5c-4c4c-a36a-985aa84c24b5",
   "metadata": {},
   "outputs": [],
   "source": [
    "# https://pandas.pydata.org/docs/reference/api/pandas.core.groupby.DataFrameGroupBy.cumsum.html\n",
    "income_expense_cs = income_expense_df.cumsum()\n",
    "income_expense_cs.head()"
   ]
  },
  {
   "cell_type": "code",
   "execution_count": null,
   "id": "5f5e8f93-568e-467a-b634-da94555f8bf5",
   "metadata": {},
   "outputs": [],
   "source": [
    "fig = plt.figure()\n",
    "cs_ax = fig.add_subplot()\n",
    "\n",
    "# Customize figure\n",
    "cs_ax.set_title(\"Monthly money flow\")\n",
    "cs_ax.set_ylabel(\"NOK\")\n",
    "cs_ax.set_xlabel(\"Day of month\")\n",
    "cs_ax.set_xticks([0, 7, 14, 21, 28, 30])\n",
    "\n",
    "#income_expense_cs.plot(ax=cs_ax)\n",
    "income_expense_cs.plot(ax=cs_ax, color=[\"g\",\"r\"], marker=\".\")\n"
   ]
  },
  {
   "cell_type": "code",
   "execution_count": null,
   "id": "af9a11f1-efb6-4e16-bb0d-333705337f05",
   "metadata": {},
   "outputs": [],
   "source": [
    "# Seperate into grid\n",
    "fig = plt.figure(figsize=(10, 2))\n",
    "\n",
    "income_axes = fig.add_subplot(1, 2, 1)\n",
    "expense_axes = fig.add_subplot(1, 2, 2)\n",
    "\n",
    "plt.subplots_adjust(wspace=0.3)\n",
    "income_axes.set_title(\"Income\")\n",
    "expense_axes.set_title(\"Expenses\")\n",
    "for ax in [expense_axes, expense_axes]:\n",
    "    ax.set_ylabel(\"NOK\")\n",
    "    ax.set_xlabel(\"Day of month\")\n",
    "    ax.set_xticks([0, 7, 14, 21, 28, 30])\n",
    "\n",
    "income_expense_cs[\"Income\"].plot(ax=income_axes, color=\"g\")\n",
    "income_expense_cs[\"Expenses\"].plot(ax=expense_axes, color = \"r\")"
   ]
  },
  {
   "cell_type": "markdown",
   "id": "ccbda61d-2032-4edf-a87d-bb29819d7930",
   "metadata": {},
   "source": [
    "### Bar plots\n",
    "\n",
    "* https://pandas.pydata.org/docs/reference/api/pandas.DataFrame.plot.bar.html\n",
    "* https://pandas.pydata.org/docs/reference/api/pandas.DataFrame.plot.barh.html"
   ]
  },
  {
   "cell_type": "code",
   "execution_count": null,
   "id": "47993c54-e2e4-4ed6-9f7e-309816152d84",
   "metadata": {},
   "outputs": [],
   "source": [
    "# Simple example\n",
    "\n",
    "my_series = pd.Series([randint(0, 100) for x in range(10)], index=list(\"ABCDEFGHIJ\") )\n",
    "\n",
    "fig = plt.figure(figsize=(10, 2))\n",
    "regular_bar_axes = fig.add_subplot(1, 2, 1)\n",
    "horizontal_bar_axes = fig.add_subplot(1, 2, 2)\n",
    "\n",
    "my_series.plot.bar(ax=regular_bar_axes)\n",
    "my_series.plot.barh(ax=horizontal_bar_axes) # Horizontal bar"
   ]
  },
  {
   "cell_type": "code",
   "execution_count": null,
   "id": "2f68ee08-66d8-4d91-9756-afd67d521c62",
   "metadata": {},
   "outputs": [],
   "source": [
    "# More detailed example\n",
    "\n",
    "# Random month incomes/expenses\n",
    "income_expense_df = pd.DataFrame({\n",
    "    \"Income\" : [randint(0, 1000) for x in range(30)],\n",
    "    \"Expenses\" : [randint(0, 1000) for x in range(30)]\n",
    "})\n",
    "\n",
    "income_expense_df.head()"
   ]
  },
  {
   "cell_type": "code",
   "execution_count": null,
   "id": "e72d369f-c28e-48f1-be09-46ff0d478a07",
   "metadata": {},
   "outputs": [],
   "source": [
    "fig = plt.figure()\n",
    "ie_ax = fig.add_subplot()\n",
    "\n",
    "#income_expense_df.plot.bar(ax=ie_ax, color=[\"g\", \"r\"])\n",
    "income_expense_df.plot.bar(ax=ie_ax, color=[\"g\", \"r\"], stacked=True)"
   ]
  },
  {
   "cell_type": "code",
   "execution_count": null,
   "id": "9c353aaf-6c4d-466a-b4e3-50485afc4752",
   "metadata": {},
   "outputs": [],
   "source": [
    "# A little cleanup\n",
    "\n",
    "# Group/sum by week\n",
    "ie_by_week = income_expense_df[[\"Income\", \"Expenses\"]].groupby(income_expense_df.index // 7).sum()\n",
    "ie_by_week.index = [f\"Week {idx + 1}\" for idx in ie_by_week.index]\n",
    "ie_by_week"
   ]
  },
  {
   "cell_type": "code",
   "execution_count": null,
   "id": "b79f27b3-29b1-41ca-898e-52f3589c9615",
   "metadata": {},
   "outputs": [],
   "source": [
    "fig = plt.figure(figsize=(10, 6))\n",
    "regular_bar_axes = fig.add_subplot(2, 2, 1)\n",
    "horizontal_bar_axes = fig.add_subplot(2, 2, 2)\n",
    "regular_bar_axes_stacked = fig.add_subplot(2, 2, 3)\n",
    "horizontal_bar_axes_stacked = fig.add_subplot(2, 2, 4)\n",
    "\n",
    "plt.subplots_adjust(wspace=.3, hspace=.4)\n",
    "\n",
    "ie_by_week.plot.bar(ax=regular_bar_axes)\n",
    "ie_by_week.plot.barh(ax=horizontal_bar_axes)\n",
    "ie_by_week.plot.bar(ax=regular_bar_axes_stacked, stacked=True)\n",
    "ie_by_week.plot.barh(ax=horizontal_bar_axes_stacked, stacked=True)"
   ]
  },
  {
   "cell_type": "markdown",
   "id": "451bb881-2488-4700-9f95-c3d195a0380e",
   "metadata": {},
   "source": [
    "### Histogram plots\n",
    "\n",
    "A representation of the distribution of data.\n",
    "\n",
    "https://pandas.pydata.org/docs/reference/api/pandas.DataFrame.plot.hist.html"
   ]
  },
  {
   "cell_type": "code",
   "execution_count": null,
   "id": "c723b60b-5562-41b6-acce-36f0ff1f6c87",
   "metadata": {},
   "outputs": [],
   "source": [
    "income_expense_df"
   ]
  },
  {
   "cell_type": "code",
   "execution_count": null,
   "id": "9e6a655f-4677-47d2-b58e-46e96103b6ef",
   "metadata": {},
   "outputs": [],
   "source": [
    "fig = plt.figure(figsize=(10, 3))\n",
    "income_ax = fig.add_subplot(1, 2, 1)\n",
    "expence_ax = fig.add_subplot(1, 2, 2)\n",
    "\n",
    "income_expense_df[\"Income\"].plot.hist(ax=income_ax, color=\"g\")\n",
    "#income_expense_df[\"Income\"].plot.hist(ax=income_ax, color=\"g\", bins=20, orientation=\"horizontal\")\n",
    "income_expense_df[\"Expenses\"].plot.hist(ax=expence_ax, color=\"r\")\n",
    "#income_expense_df[\"Expenses\"].plot.hist(ax=expence_ax, color=\"r\", rwidth=.95)"
   ]
  },
  {
   "cell_type": "code",
   "execution_count": null,
   "id": "d0c3e897-b363-4610-9984-9d5748e51412",
   "metadata": {},
   "outputs": [],
   "source": [
    "# Related plot type: density\n",
    "\n",
    "fig = plt.figure(figsize=(10, 3))\n",
    "income_ax = fig.add_subplot(1, 2, 1)\n",
    "expence_ax = fig.add_subplot(1, 2, 2)\n",
    "\n",
    "income_expense_df[\"Income\"].plot.density(ax=income_ax, color=\"g\")\n",
    "income_expense_df[\"Expenses\"].plot.density(ax=expence_ax, color=\"r\")"
   ]
  },
  {
   "cell_type": "markdown",
   "id": "ecb100f9-e912-4538-a22a-9df2eefe3214",
   "metadata": {},
   "source": [
    "### Scatter plots\n",
    "\n",
    "A useful way of examining the relationship between two one dimensional data sets.\n",
    "\n",
    "https://pandas.pydata.org/docs/reference/api/pandas.DataFrame.plot.scatter.html"
   ]
  },
  {
   "cell_type": "code",
   "execution_count": null,
   "id": "8b4ecc75-e361-4f09-b539-73a88f7803dd",
   "metadata": {},
   "outputs": [],
   "source": [
    "fig = plt.figure()\n",
    "scatter_ax = fig.add_subplot()\n",
    "\n",
    "income_expense_df.plot.scatter(ax=scatter_ax, x=\"Income\", y=\"Expenses\")\n",
    "\n",
    "# We look at trend lines using seaborn in next lesson"
   ]
  },
  {
   "cell_type": "code",
   "execution_count": null,
   "id": "e550586e-8d22-4472-83b8-4eb6ac7a244e",
   "metadata": {},
   "outputs": [],
   "source": []
  }
 ],
 "metadata": {
  "kernelspec": {
   "display_name": "Python 3 (ipykernel)",
   "language": "python",
   "name": "python3"
  },
  "language_info": {
   "codemirror_mode": {
    "name": "ipython",
    "version": 3
   },
   "file_extension": ".py",
   "mimetype": "text/x-python",
   "name": "python",
   "nbconvert_exporter": "python",
   "pygments_lexer": "ipython3",
   "version": "3.10.9"
  }
 },
 "nbformat": 4,
 "nbformat_minor": 5
}
