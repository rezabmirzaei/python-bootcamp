{
 "cells": [
  {
   "cell_type": "markdown",
   "id": "4b41615d-d813-4f68-b1fe-83584ff5d5b4",
   "metadata": {},
   "source": [
    "# 4.3 Creating Graphs - Pandas"
   ]
  },
  {
   "cell_type": "code",
   "execution_count": null,
   "id": "5d0b27d7-c7ef-49de-8440-78555097b97b",
   "metadata": {},
   "outputs": [],
   "source": []
  }
 ],
 "metadata": {
  "kernelspec": {
   "display_name": "Python 3 (ipykernel)",
   "language": "python",
   "name": "python3"
  },
  "language_info": {
   "codemirror_mode": {
    "name": "ipython",
    "version": 3
   },
   "file_extension": ".py",
   "mimetype": "text/x-python",
   "name": "python",
   "nbconvert_exporter": "python",
   "pygments_lexer": "ipython3",
   "version": "3.10.9"
  }
 },
 "nbformat": 4,
 "nbformat_minor": 5
}
