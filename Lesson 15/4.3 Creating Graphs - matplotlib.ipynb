{
 "cells": [
  {
   "cell_type": "markdown",
   "id": "59e2b2ca-3337-4b81-9384-b9c27190e164",
   "metadata": {},
   "source": [
    "# 4.3 Creating Graphs - Matplotlib\n",
    "\n",
    "One of the most (if not _the_ most) poplular Python plotting libraries.\n",
    "\n",
    "https://matplotlib.org/"
   ]
  },
  {
   "cell_type": "code",
   "execution_count": null,
   "id": "5de253fc-dd4d-4524-8663-de1f7fcfdb6e",
   "metadata": {},
   "outputs": [],
   "source": [
    "#pip install matplotlib\n",
    "\n",
    "#import matplotlib as mpl\n",
    "import matplotlib.pyplot as plt"
   ]
  },
  {
   "cell_type": "code",
   "execution_count": null,
   "id": "495ffa7c-4c49-4868-b36c-02ef9ffbbd9e",
   "metadata": {},
   "outputs": [],
   "source": [
    "data = [0, 1, 2, 3, 4, 5, 6, 7, 8]\n",
    "plt.plot(data)\n",
    "#plt.plot([2, 4, 8])\n",
    "#plt.plot([5, 3, 6, 2])\n",
    "\n",
    "# A plot is a graphical technique for representing a data set\n",
    "# Usually as a graph that shows the relationship between the datapoints"
   ]
  },
  {
   "cell_type": "markdown",
   "id": "03324e73-c713-41f4-acaf-a30f704b73f6",
   "metadata": {},
   "source": [
    "## Figures and subplots\n",
    "\n",
    "Matplotlib graphs data on **Figures** (e.g., windows, Jupyter widgets, etc.), each of which can contain one or more **Axes**, an area where data points can be specified in terms of x-y coordinates.\n",
    "\n",
    "https://matplotlib.org/stable/tutorials/introductory/quick_start.html"
   ]
  },
  {
   "cell_type": "code",
   "execution_count": null,
   "id": "bcdf741f-45d8-48c3-b077-f9937afa5608",
   "metadata": {},
   "outputs": [],
   "source": [
    "# What draws our graphs\n",
    "fig = plt.figure()\n",
    "\n",
    "# The area where our data points can be specified in terms of x-y coordinates\n",
    "ax = fig.add_subplot()\n",
    "\n",
    "# Our actual datapoints being plotted on the axis\n",
    "ax.plot([1, 2, 3, 4], [1, 4, 2, 3])\n",
    "#ax.plot([1, 2, 3, 4], [1, 4, 2, 3], [8, 3, 2])\n",
    "#ax.plot([4, 5, 3])"
   ]
  },
  {
   "cell_type": "markdown",
   "id": "d5e63393-da3d-49d5-b4ec-db351e2ac835",
   "metadata": {},
   "source": [
    "#### Grids"
   ]
  },
  {
   "cell_type": "code",
   "execution_count": null,
   "id": "f71f4bf7-f583-4e87-8e69-5f42dc342dbe",
   "metadata": {},
   "outputs": [],
   "source": [
    "# Subplots grouped into a grid\n",
    "# Useful if we wish to do side-by-side comparisons\n",
    "# Heads up! In Jupypter, all axes related to a grid must be in same cell!\n",
    "\n",
    "# 2x2 grid\n",
    "fig = plt.figure()\n",
    "\n",
    "# Arguments: 1) number of rows, 2) number of columns, 3) index of axes in grid\n",
    "ax1 = fig.add_subplot(2, 2, 1)\n",
    "#ax1.plot([1, 2, 4, 3, 8])\n",
    "ax2 = fig.add_subplot(2, 2, 2)\n",
    "ax3 = fig.add_subplot(2, 2, 3)\n",
    "#ax3.plot([1, 2, 3, 4], [1, 4, 2, 3])\n",
    "ax4 = fig.add_subplot(2, 2, 4)"
   ]
  },
  {
   "cell_type": "code",
   "execution_count": null,
   "id": "60c53735-f7c9-4deb-8955-1cb7fa625083",
   "metadata": {},
   "outputs": [],
   "source": [
    "# 1x2 grid\n",
    "fig = plt.figure()\n",
    "ax1 = fig.add_subplot(1, 2, 1)\n",
    "ax2 = fig.add_subplot(1, 2, 2)\n",
    "ax1.plot([0, 1, 2, 3, 4, 5, 6, 7, 8, 9, 10])\n",
    "ax2.plot([10, 9, 8, 7, 6, 5, 4, 3, 2, 1, 0])"
   ]
  },
  {
   "cell_type": "code",
   "execution_count": null,
   "id": "b0e5a5c5-eb41-470f-9864-80434b45ee94",
   "metadata": {},
   "outputs": [],
   "source": [
    "# Multiple plots\n",
    "fig = plt.figure()\n",
    "ax1 = fig.add_subplot(1, 1, 1) \n",
    "ax1.plot( [0, 1, 2, 3, 4, 5] )\n",
    "ax1.plot( [5, 4, 3, 2, 1, 0] )"
   ]
  },
  {
   "cell_type": "code",
   "execution_count": null,
   "id": "573de01d-7f35-477c-a284-4d34a320cd4d",
   "metadata": {},
   "outputs": [],
   "source": [
    "# Adjust layout (seperation between subplots)\n",
    "\n",
    "fig = plt.figure()\n",
    "ax1 = fig.add_subplot(2, 2, 1)\n",
    "ax2 = fig.add_subplot(2, 2, 2)\n",
    "ax3 = fig.add_subplot(2, 2, 3)\n",
    "ax4 = fig.add_subplot(2, 2, 4)\n",
    "\n",
    "plt.subplots_adjust(\n",
    "    left=None,\n",
    "    bottom=None,\n",
    "    right=None,\n",
    "    top=None,\n",
    "    wspace=.5,\n",
    "    hspace=None)"
   ]
  },
  {
   "cell_type": "markdown",
   "id": "534fef47-e7f5-4e28-b210-0cff88815aa9",
   "metadata": {},
   "source": [
    "## Colours, Markers, and Styles"
   ]
  },
  {
   "cell_type": "code",
   "execution_count": null,
   "id": "1863da8b-9bbd-49e7-bd3a-87bad31bca20",
   "metadata": {},
   "outputs": [],
   "source": [
    "# Some dummy data\n",
    "x = [0, 1, 2, 3, 4]\n",
    "y = [4, 3, 2, 1, 0]"
   ]
  },
  {
   "cell_type": "code",
   "execution_count": null,
   "id": "c208fae7-71cd-4e05-948d-0bc84a61b38a",
   "metadata": {},
   "outputs": [],
   "source": [
    "# Set style and color\n",
    "# https://matplotlib.org/stable/gallery/color/named_colors.html\n",
    "\n",
    "fig = plt.figure()\n",
    "ax = fig.subplots()\n",
    "ax.plot(x, y, linestyle=\":\", color=\"r\")\n",
    "#ax.plot(x, y, linestyle=\"--\", color=\"tab:olive\")"
   ]
  },
  {
   "cell_type": "code",
   "execution_count": null,
   "id": "15912ceb-b49e-4ed0-b6d8-708406cea4dd",
   "metadata": {},
   "outputs": [],
   "source": [
    "# Mark every data point\n",
    "\n",
    "fig = plt.figure()\n",
    "ax = fig.subplots()\n",
    "ax.plot(x, y, linestyle=\":\", color=\"g\", marker=\"x\")"
   ]
  },
  {
   "cell_type": "code",
   "execution_count": null,
   "id": "7e9a9bf0-ddfc-491c-872e-60ca2e3ae1de",
   "metadata": {},
   "outputs": [],
   "source": [
    "# Draw in steps\n",
    "# https://matplotlib.org/stable/api/_as_gen/matplotlib.lines.Line2D.html#matplotlib.lines.Line2D.drawStyles\n",
    "\n",
    "fig = plt.figure()\n",
    "ax = fig.subplots()\n",
    "ax.plot(x, y, drawstyle=\"steps\")\n",
    "#ax.plot(x, y, linestyle=\":\", color=\"g\", marker=\"x\", drawstyle=\"steps\")"
   ]
  },
  {
   "cell_type": "markdown",
   "id": "e70b646b-4eeb-4ec2-9ed9-674cba71c0aa",
   "metadata": {},
   "source": [
    "## Titles, Labels, Ticks and Legends\n",
    "\n",
    "https://matplotlib.org/stable/api/figure_api.html"
   ]
  },
  {
   "cell_type": "code",
   "execution_count": null,
   "id": "f0b61321-4cd9-41e7-bca1-edf30912e396",
   "metadata": {},
   "outputs": [],
   "source": [
    "# Let's keep our simple figure\n",
    "fig = plt.figure()\n",
    "ax = fig.subplots()\n",
    "\n",
    "# Title on top of our figure\n",
    "ax.set_title(\"Title\")\n",
    "#ax.set_title('Title', loc='left', fontweight='bold', fontsize='large')\n",
    "\n",
    "# Labels for x&y axis respectivly\n",
    "ax.set_xlabel(\"X-axis Label\")\n",
    "ax.set_ylabel(\"Y-axis Label\")\n",
    "\n",
    "# Ticks (markers) for X-axis (set for y-axis using \"set_yticks\")\n",
    "ax.set_xticks([0, 1, 2, 3, 4])\n",
    "\n",
    "# Lables for each tick (set for y-axis using \"set_yticklabels\")\n",
    "ax.set_xticklabels([\"x tick 0\", \"x tick 1\", \"x tick 2\", \"x tick 3\", \"x tick 4\"], rotation=70)\n",
    "\n",
    "ax.plot(x, y, linestyle=\":\", color=\"m\", marker=\".\", label=\"Data\")"
   ]
  },
  {
   "cell_type": "markdown",
   "id": "284beead-70ca-4224-91e1-2a42a0087998",
   "metadata": {},
   "source": [
    "## Figure size and face (background) color"
   ]
  },
  {
   "cell_type": "code",
   "execution_count": null,
   "id": "207e9123-cc08-4583-823a-83dab041c688",
   "metadata": {},
   "outputs": [],
   "source": [
    "# default: [6.4, 4.8] -> See https://matplotlib.org/stable/api/figure_api.html\n",
    "fig = plt.figure(figsize=(5, 5), facecolor=\"skyblue\")\n",
    "ax = fig.subplots()"
   ]
  },
  {
   "cell_type": "markdown",
   "id": "f564c0fa-e40b-4e22-a720-809fbdd16ba1",
   "metadata": {},
   "source": [
    "## Saving our figures to file"
   ]
  },
  {
   "cell_type": "code",
   "execution_count": null,
   "id": "00e15c58-9bb4-4f57-ba33-a74fe0170179",
   "metadata": {},
   "outputs": [],
   "source": [
    "fig = plt.figure()\n",
    "ax = fig.add_subplot(1, 1, 1)\n",
    "\n",
    "ax.plot([0, 1, 2, 3, 4, 5])\n",
    "ax.plot([5, 4, 3, 2, 1, 0])\n",
    "\n",
    "plt.savefig(\"my_fig.png\")\n",
    "\n",
    "# Can also use fig.savefig\n",
    "fig.savefig(\"my_fig.jpg\")"
   ]
  },
  {
   "cell_type": "code",
   "execution_count": null,
   "id": "efba8f2f-b342-49c0-86a7-4e9a5f76fd67",
   "metadata": {},
   "outputs": [],
   "source": []
  }
 ],
 "metadata": {
  "kernelspec": {
   "display_name": "Python 3 (ipykernel)",
   "language": "python",
   "name": "python3"
  },
  "language_info": {
   "codemirror_mode": {
    "name": "ipython",
    "version": 3
   },
   "file_extension": ".py",
   "mimetype": "text/x-python",
   "name": "python",
   "nbconvert_exporter": "python",
   "pygments_lexer": "ipython3",
   "version": "3.10.9"
  }
 },
 "nbformat": 4,
 "nbformat_minor": 5
}
