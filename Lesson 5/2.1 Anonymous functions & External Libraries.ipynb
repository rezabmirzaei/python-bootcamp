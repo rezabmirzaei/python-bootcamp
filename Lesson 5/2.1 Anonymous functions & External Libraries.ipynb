{
 "cells": [
  {
   "cell_type": "markdown",
   "id": "20f98e3c-ff0c-40f9-8d4c-17cff01f0d55",
   "metadata": {},
   "source": [
    "## Before we start"
   ]
  },
  {
   "cell_type": "markdown",
   "id": "70f89d0e-2f0a-4e43-b151-4e3498c8009a",
   "metadata": {},
   "source": [
    "### Functions vs Procedures vs Methods"
   ]
  },
  {
   "cell_type": "markdown",
   "id": "03dfa74f-26e5-4e03-98bb-216f630524d4",
   "metadata": {},
   "source": [
    "https://github.com/rezabmirzaei/python-bootcamp/blob/main/Lesson%204/Review%20Lecture.ipynb"
   ]
  },
  {
   "cell_type": "markdown",
   "id": "acf00567-8818-4349-bf72-1a78f5aaa670",
   "metadata": {},
   "source": [
    "### Assignment 1.3.2 - Objective 4: All the `while`"
   ]
  },
  {
   "cell_type": "code",
   "execution_count": null,
   "id": "a65d32c6-7519-4745-a83e-8dcd7a0cad99",
   "metadata": {},
   "outputs": [],
   "source": [
    "word = \"scandinavia\" # Has 11 letters\n",
    "\n",
    "# Hint: \"while(len(word) > 0)\" might be a good place to start\n",
    "\n",
    "# Heads up!! \"counter\" not necessary!\n",
    "counter = 0\n",
    "while (len(word) > 0):\n",
    "    print(word[0])\n",
    "    word = word[1:] # This line is key: you are effectivly reducing the word and reassigning it to itself again\n",
    "    # The following break-check is not needed\n",
    "    if (counter == len(word)):\n",
    "        break\n",
    "\n",
    "print(\"Done!\")"
   ]
  },
  {
   "cell_type": "markdown",
   "id": "d4a4182b-fc97-4b53-b502-24424b532532",
   "metadata": {},
   "source": [
    "# Anonymous functions"
   ]
  },
  {
   "cell_type": "markdown",
   "id": "6dd3da3e-63e4-4b10-80e3-9c2427d3c80d",
   "metadata": {},
   "source": [
    "## lambda functions"
   ]
  },
  {
   "cell_type": "markdown",
   "id": "b91c2cb9-bc9a-4ba0-886d-21ba8ab3e6f0",
   "metadata": {},
   "source": [
    "``lambda variables : expression``"
   ]
  },
  {
   "cell_type": "code",
   "execution_count": null,
   "id": "def62783-0255-4855-99e0-059cf67f0773",
   "metadata": {},
   "outputs": [],
   "source": [
    "# Traditional way to write a function\n",
    "def add_numbers_function(a, b):\n",
    "    return a + b\n",
    "print(f\"add_numbers_function 1 + 2 = {add_numbers_function(1, 2)}\")\n",
    "\n",
    "# A way to create functions inline, without using 'def'\n",
    "# The expression following colon (:) is treated as a return statement automatically\n",
    "# Exists only in the context of its execution - is discarded after use\n",
    "# Not the best example, should be \"throwaway\"; but we can indeed keep a reference to it (although not common)\n",
    "add_numbers_lambda = lambda a, b : a + b\n",
    "print(f\"add_numbers_lambda 1 + 2 = {add_numbers_lambda(1, 2)}\")"
   ]
  },
  {
   "cell_type": "code",
   "execution_count": null,
   "id": "55196d65-dfab-4881-9ba0-de35efe1c84c",
   "metadata": {
    "tags": []
   },
   "outputs": [],
   "source": [
    "# Heads up:\n",
    "# map(func, iter...) -> applies the provided function (func) to each element of the iterable(s) (iter...)\n",
    "\n",
    "numbers = [1, 2, 3, 4]\n",
    "\n",
    "def double_number_function(numb):\n",
    "    return numb * 2\n",
    "traditional_double = map(double_number_function, numbers)\n",
    "print(f\"traditional_double {list(traditional_double)}\")\n",
    "\n",
    "lambda_double = map(lambda numb : numb * 2, numbers)\n",
    "print(f\"lambda_double {list(lambda_double)}\")"
   ]
  },
  {
   "cell_type": "code",
   "execution_count": null,
   "id": "00dca7f3-641d-49e9-acdf-793df841960d",
   "metadata": {},
   "outputs": [],
   "source": [
    "# One more example:\n",
    "# filter(func, iter) -> applies the provided function (func) to each element of the iterable (iter)\n",
    "# and returns a subsetted list of the elements where the function returns true (requires \"func\" to return bool)\n",
    "\n",
    "names = [\"Reza\", \"Morten\", \"Ipek\", \"Robin\"]\n",
    "\n",
    "long_names = list(filter(lambda name : len(name) > 4, names))\n",
    "print(long_names)"
   ]
  },
  {
   "cell_type": "markdown",
   "id": "8838e553-6434-4bbb-a661-a04f3034a97d",
   "metadata": {},
   "source": [
    ":( :( Anonymous functions <> lambda expressions <> function literals"
   ]
  },
  {
   "cell_type": "markdown",
   "id": "19b7d601-153f-4781-babc-28f0f698afef",
   "metadata": {},
   "source": [
    "# External Libraries"
   ]
  },
  {
   "cell_type": "markdown",
   "id": "b6c830e9-c292-4732-865c-a3e2e8c417cd",
   "metadata": {},
   "source": [
    "## Modules, import"
   ]
  },
  {
   "cell_type": "markdown",
   "id": "9601f026-b3e4-4530-a31b-f5fd18d36d6a",
   "metadata": {},
   "source": [
    "Create your own module by simply opening a blank file, giving it a single-word name and saving as a .py file, e.g.:\n",
    "[students.py](students.py)"
   ]
  },
  {
   "cell_type": "markdown",
   "id": "4997a187-27ee-4c2c-b6ca-ac185e9395c5",
   "metadata": {},
   "source": [
    "Before using a module, you must import it using the keyword ``import``"
   ]
  },
  {
   "cell_type": "code",
   "execution_count": null,
   "id": "1d52a563-0ebc-45b0-8894-101126ff8a11",
   "metadata": {},
   "outputs": [],
   "source": [
    "# This will break!\n",
    "print(students.names)"
   ]
  },
  {
   "cell_type": "code",
   "execution_count": null,
   "id": "5f352985-2ce9-4ccf-b30b-c1bc68d74a09",
   "metadata": {},
   "outputs": [],
   "source": [
    "import students\n",
    "\n",
    "print(students.names)"
   ]
  },
  {
   "cell_type": "code",
   "execution_count": null,
   "id": "dbb52b8e-e5c9-4f1a-b0d0-8a743c96a1c7",
   "metadata": {},
   "outputs": [],
   "source": [
    "import students as st\n",
    "\n",
    "name = \"Reza\"\n",
    "print(f\"is {name} enrolled? {st.is_student_enrolled(name)}\")\n",
    "name = \"Truls\"\n",
    "print(f\"is {name} enrolled? {st.is_student_enrolled(name)}\")\n",
    "\n",
    "# This will break!\n",
    "# print(students.names)\n",
    "\n",
    "uppercase_names = st.uppercase_names()\n",
    "print(f\"Student names in uppercase: {uppercase_names}\")"
   ]
  },
  {
   "cell_type": "code",
   "execution_count": null,
   "id": "3c4a4625-7640-4c63-a2da-ce1b0f978a0d",
   "metadata": {},
   "outputs": [],
   "source": [
    "from classes import course_codes\n",
    "\n",
    "print(course_codes)\n",
    "# This will break!\n",
    "print(course_names)"
   ]
  },
  {
   "cell_type": "code",
   "execution_count": null,
   "id": "80c92b8f-23df-4ff0-9238-1e802825301f",
   "metadata": {},
   "outputs": [],
   "source": [
    "# Imports all like \"import classes\"; but you can access all elements without ref to module name \n",
    "from classes import *\n",
    "\n",
    "print(course_codes)\n",
    "print(course_names)\n",
    "\n",
    "# No need to classes.course_codes"
   ]
  },
  {
   "cell_type": "markdown",
   "id": "802547d4-dc64-4d1a-b6e6-af0145e1b2fa",
   "metadata": {},
   "source": [
    "## Libraries"
   ]
  },
  {
   "cell_type": "markdown",
   "id": "7571b70e-383d-42f3-a0fc-684d1bff863e",
   "metadata": {},
   "source": [
    "``pip install <library name> --user``"
   ]
  },
  {
   "cell_type": "markdown",
   "id": "520183c9-ee88-44b7-8b8f-84647ec93921",
   "metadata": {},
   "source": [
    "## https://pypi.org/"
   ]
  },
  {
   "cell_type": "code",
   "execution_count": null,
   "id": "2c905c1b-81c9-4956-b9ff-44c79d63fe23",
   "metadata": {},
   "outputs": [],
   "source": [
    "import numpy as np\n",
    "\n",
    "np_array = np.array([8, 1, 2, 6, 3, 7, 5, 4])\n",
    "print(np_array)\n",
    "\n",
    "np_array.sort()\n",
    "print(np_array)"
   ]
  },
  {
   "cell_type": "markdown",
   "id": "ced377ef-16ab-491e-bf30-baf23f7eb3fa",
   "metadata": {},
   "source": [
    "### Try a fun library for yourself!"
   ]
  },
  {
   "cell_type": "markdown",
   "id": "090da4ad-1ff0-4727-be6f-2274a8f32a72",
   "metadata": {},
   "source": [
    "Check out [happy_face.py](arcade/happy_face.py)\n",
    "\n",
    "Make sure you have the necessary libraries installed, in this case: https://pypi.org/project/arcade/\n",
    "\n",
    "Open a terminal, navigate to the folder where the fil eis and run ``python happy_face.py`` :)"
   ]
  }
 ],
 "metadata": {
  "kernelspec": {
   "display_name": "Python 3 (ipykernel)",
   "language": "python",
   "name": "python3"
  },
  "language_info": {
   "codemirror_mode": {
    "name": "ipython",
    "version": 3
   },
   "file_extension": ".py",
   "mimetype": "text/x-python",
   "name": "python",
   "nbconvert_exporter": "python",
   "pygments_lexer": "ipython3",
   "version": "3.10.9"
  }
 },
 "nbformat": 4,
 "nbformat_minor": 5
}
