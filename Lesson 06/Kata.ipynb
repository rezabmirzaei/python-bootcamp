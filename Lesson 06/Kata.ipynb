{
 "cells": [
  {
   "cell_type": "code",
   "execution_count": null,
   "id": "00443796-d6d9-48b3-bbdc-ce586395cd82",
   "metadata": {},
   "outputs": [],
   "source": [
    "# Hint: Can you use setdefault?\n",
    "\n",
    "conveyor_belt = [\n",
    "    \"Orange\",\n",
    "    \"Banana\",\n",
    "    \"Orange\",\n",
    "    \"Apple\",\n",
    "    \"Apple\",\n",
    "    \"Orange\",\n",
    "    \"Apple\",\n",
    "    \"Apple\",\n",
    "    \"Orange\",\n",
    "    \"Apple\",\n",
    "    \"Kiwi\",\n",
    "    \"Orange\",\n",
    "    \"Banana\",\n",
    "    \"Apple\"\n",
    "]\n",
    "\n",
    "prices = {\n",
    "    'Orange': 15,\n",
    "    'Banana': 80,\n",
    "    'Apple': 5\n",
    "}\n",
    "\n",
    "receipt = {}\n",
    "\n",
    "total_sum_key = \"TOTAL SUM\"\n",
    "for fruit in conveyor_belt:\n",
    "    \n",
    "    if fruit not in prices:\n",
    "        print(f\"{fruit} is not registered in our inventory!\")\n",
    "        continue # Signal the loop to \"skip a beat\"\n",
    "    \n",
    "    price = prices.get(fruit)\n",
    "    \n",
    "    # Price of each indivdula fruit, summed up by count\n",
    "    # This part can be simplified\n",
    "    if fruit not in receipt:\n",
    "        receipt[fruit] = (1, price)\n",
    "    else:\n",
    "        fruit_amount = receipt[fruit][0] + 1\n",
    "        fruit_price = receipt[fruit][1] + price\n",
    "        receipt[fruit] = (fruit_amount, fruit_price)\n",
    "    \n",
    "    # Total sum\n",
    "    receipt[total_sum_key] = receipt.get(total_sum_key, 0) + price\n",
    "\n",
    "\n",
    "print(\"— Receipt —\")\n",
    "# TODO Format this better\n",
    "print(receipt)"
   ]
  },
  {
   "cell_type": "code",
   "execution_count": null,
   "id": "77575434-5a73-4772-a086-84e1b912aa89",
   "metadata": {},
   "outputs": [],
   "source": []
  }
 ],
 "metadata": {
  "kernelspec": {
   "display_name": "Python 3 (ipykernel)",
   "language": "python",
   "name": "python3"
  },
  "language_info": {
   "codemirror_mode": {
    "name": "ipython",
    "version": 3
   },
   "file_extension": ".py",
   "mimetype": "text/x-python",
   "name": "python",
   "nbconvert_exporter": "python",
   "pygments_lexer": "ipython3",
   "version": "3.10.9"
  }
 },
 "nbformat": 4,
 "nbformat_minor": 5
}
