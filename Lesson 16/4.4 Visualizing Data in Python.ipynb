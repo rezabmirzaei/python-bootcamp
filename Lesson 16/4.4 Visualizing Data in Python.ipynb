{
 "cells": [
  {
   "cell_type": "markdown",
   "id": "5a410b0d-caa9-4e62-bef7-f84fb7236255",
   "metadata": {},
   "source": [
    "## Before we start:\n",
    "* Final assignment available on EduFlow during Monday class.\n",
    "\n",
    "### A few questions:\n",
    "* **Other tools for visualization:**\n",
    "  * [Power BI](https://powerbi.microsoft.com/)\n",
    "  * [Looker Studio](https://lookerstudio.google.com/) (formerly Google Data Studio)\n",
    "  * [Tableau](https://www.tableau.com/)\n",
    "  * +++ A host of other solutions\n",
    "* **Why Python & Pandas vs other more accessible visualization tools?**\n",
    "  * In short: Python for scale, performance, flexability > SPEED.\n",
    "  * Combine them:\n",
    "    * Python to get, filter, merge data (e.g. via API)\n",
    "    * Initial analysis/QA using visualization (e.g. Pandas)\n",
    "    * Generate output (csv/excel/json)\n",
    "    * Load into Power BI/Tableau etc for further analysis and more advanced visualizations.\n",
    "  * Typically Python for EDA (Exploratory Data Analysis); Power BI etc for more general analysis / business reporting.\n",
    "* **Assignment 4.3**\n",
    "  * Objective 2 - Confusion about question/wording, uncertainty about grouping/sum\n",
    "  * Objective 3 - Color bars\n"
   ]
  },
  {
   "cell_type": "markdown",
   "id": "45731497-5621-4041-afb2-8d11dea85fdb",
   "metadata": {},
   "source": [
    "# 4.4 Visualizing Data in Python\n",
    "\n",
    "## [Seaborn](https://seaborn.pydata.org/tutorial/introduction)\n",
    "* Uses matplotlib as it's engine, just like pandas\n",
    "* More aesthetically pleasing and modern, better for higher-quality visualizations\n",
    "\n",
    "Why? Important to know about available resources, specially common (\"best practice\") ones with widespread industry usage, solid documentation and strong community support."
   ]
  },
  {
   "cell_type": "code",
   "execution_count": null,
   "id": "fca7affd-ee54-4a75-9b9f-5a4108050502",
   "metadata": {},
   "outputs": [],
   "source": [
    "# Import alias \"sns -> seaborn namespace\" or name play on actor \"Samuel Norman Seaborn\"\n",
    "# pip install seaborn\n",
    "import seaborn as sns\n",
    "import matplotlib.pyplot as plt\n",
    "import pandas as pd\n",
    "from random import randint "
   ]
  },
  {
   "cell_type": "code",
   "execution_count": null,
   "id": "b5eaf4e2-f032-472a-84be-9551e608d529",
   "metadata": {},
   "outputs": [],
   "source": [
    "df = pd.DataFrame({\n",
    "    \"Income\" :[randint(0,1000) for x in range(30)],\n",
    "    \"Expenses\" : [randint(0,1000) for x in range(30)]})\n",
    "df.head()"
   ]
  },
  {
   "cell_type": "markdown",
   "id": "f8f58189-a12a-493d-92d2-dc9eac391e57",
   "metadata": {},
   "source": [
    "### Updating scatter plots"
   ]
  },
  {
   "cell_type": "code",
   "execution_count": null,
   "id": "9a8357e8-6a8a-4716-a3e4-b3977c11efbd",
   "metadata": {},
   "outputs": [],
   "source": [
    "# https://seaborn.pydata.org/generated/seaborn.regplot.html?highlight=regplot#seaborn.regplot\n",
    "# https://www.geeksforgeeks.org/seaborn-regression-plots/\n",
    "\n",
    "# Since only one graph, no need to reference plt.figure or create a grid \n",
    "sns.regplot(data=df, x=\"Income\", y=\"Expenses\")\n",
    "plt.show()"
   ]
  },
  {
   "cell_type": "markdown",
   "id": "93890e70-0a3f-47d7-94b1-9bf705a3a0c8",
   "metadata": {},
   "source": [
    "### Updating Histogram plots"
   ]
  },
  {
   "cell_type": "code",
   "execution_count": null,
   "id": "d2113a1a-8463-4e19-ba9f-e0454e62da0c",
   "metadata": {},
   "outputs": [],
   "source": [
    "# https://seaborn.pydata.org/generated/seaborn.histplot.html?highlight=histplot#seaborn.histplot\n",
    "# Shows both a histogram (using density normalization) and a superimposed kernel density estimate (if kde=True and stat=\"density\")\n",
    "# Default bin size is determined using a reference rule that depends on the sample size and variance\n",
    "# Heads up! distplot() i DEPRECATED\n",
    "\n",
    "fig = plt.figure(figsize=(10,3))\n",
    "income_axes = fig.add_subplot(1,2,1)\n",
    "expense_axes = fig.add_subplot(1,2,2)\n",
    "plt.subplots_adjust(wspace=.3)\n",
    "\n",
    "# Plot data\n",
    "sns.histplot(df[\"Income\"], ax=income_axes, kde=True, stat=\"density\")\n",
    "sns.histplot(df[\"Expenses\"], ax=expense_axes, kde=True, stat=\"density\")\n",
    "plt.show()"
   ]
  },
  {
   "cell_type": "markdown",
   "id": "9d2fdae7-16e8-487a-8236-a26c742fc4f9",
   "metadata": {},
   "source": [
    "### Box plots"
   ]
  },
  {
   "cell_type": "code",
   "execution_count": null,
   "id": "913b176d-d493-48b1-8aed-575ee436e7bb",
   "metadata": {},
   "outputs": [],
   "source": [
    "# https://seaborn.pydata.org/generated/seaborn.boxplot.html?highlight=boxplot#seaborn.boxplot\n",
    "# https://www.geeksforgeeks.org/box-plot/\n",
    "# Depicts data through their quartiles\n",
    "\n",
    "sns.boxplot(data=df, orient=\"h\")\n",
    "plt.show()"
   ]
  },
  {
   "cell_type": "markdown",
   "id": "c3c3911a-cbba-48e6-ad57-d0c7611df8f2",
   "metadata": {},
   "source": [
    "<img src=\"https://media.geeksforgeeks.org/wp-content/uploads/20201127012952/boxplot.png\" style=\"width: 600px;\"/>"
   ]
  },
  {
   "cell_type": "markdown",
   "id": "03ddcf73-b7e3-4fea-887f-dc0923146df7",
   "metadata": {},
   "source": [
    "## Use Cases for Visualization"
   ]
  },
  {
   "cell_type": "code",
   "execution_count": null,
   "id": "8dfb8e6e-0359-4a93-a5a5-cdff51c87c6a",
   "metadata": {},
   "outputs": [],
   "source": []
  }
 ],
 "metadata": {
  "kernelspec": {
   "display_name": "Python 3 (ipykernel)",
   "language": "python",
   "name": "python3"
  },
  "language_info": {
   "codemirror_mode": {
    "name": "ipython",
    "version": 3
   },
   "file_extension": ".py",
   "mimetype": "text/x-python",
   "name": "python",
   "nbconvert_exporter": "python",
   "pygments_lexer": "ipython3",
   "version": "3.10.9"
  }
 },
 "nbformat": 4,
 "nbformat_minor": 5
}
