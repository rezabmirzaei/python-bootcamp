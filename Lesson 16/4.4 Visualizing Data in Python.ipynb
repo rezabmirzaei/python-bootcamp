{
 "cells": [
  {
   "cell_type": "markdown",
   "id": "45731497-5621-4041-afb2-8d11dea85fdb",
   "metadata": {},
   "source": [
    "# 4.4 Visualizing Data in Python"
   ]
  },
  {
   "cell_type": "code",
   "execution_count": null,
   "id": "fca7affd-ee54-4a75-9b9f-5a4108050502",
   "metadata": {},
   "outputs": [],
   "source": []
  }
 ],
 "metadata": {
  "kernelspec": {
   "display_name": "Python 3 (ipykernel)",
   "language": "python",
   "name": "python3"
  },
  "language_info": {
   "codemirror_mode": {
    "name": "ipython",
    "version": 3
   },
   "file_extension": ".py",
   "mimetype": "text/x-python",
   "name": "python",
   "nbconvert_exporter": "python",
   "pygments_lexer": "ipython3",
   "version": "3.10.9"
  }
 },
 "nbformat": 4,
 "nbformat_minor": 5
}
