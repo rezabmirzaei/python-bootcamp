{
 "cells": [
  {
   "cell_type": "markdown",
   "id": "5a410b0d-caa9-4e62-bef7-f84fb7236255",
   "metadata": {},
   "source": [
    "## Before we start:\n",
    "* Final assignment available on EduFlow during Monday class.\n",
    "* Deadline: **Friday June 23rd 23:59**\n",
    "* SCOPE!\n",
    "\n",
    "### A few questions:\n",
    "* **Other tools for visualization:**\n",
    "  * [Power BI](https://powerbi.microsoft.com/)\n",
    "  * [Looker Studio](https://lookerstudio.google.com/) (formerly Google Data Studio)\n",
    "  * [Tableau](https://www.tableau.com/)\n",
    "  * +++ A host of other solutions\n",
    "* **Why Python & Pandas vs other more accessible visualization tools?**\n",
    "  * In short: Python for scale, performance, flexability > SPEED.\n",
    "  * Combine them:\n",
    "    * Python to get, filter, merge data (e.g. via API)\n",
    "    * Initial analysis/QA, including visualization (e.g. Pandas & Seaborn)\n",
    "    * Generate output (csv/excel/json, update DB etc)\n",
    "    * Load into Power BI/Tableau etc for further analysis and more advanced visualizations.\n",
    "  * Typically Python for EDA (Exploratory Data Analysis); Power BI etc for more general analysis / business reporting.\n",
    "* **Assignment 4.3**\n",
    "  * Objective 2 - Confusion about question/wording, uncertainty about grouping/sum\n",
    "  * Objective 3 - Color bars\n"
   ]
  },
  {
   "cell_type": "markdown",
   "id": "45731497-5621-4041-afb2-8d11dea85fdb",
   "metadata": {},
   "source": [
    "# 4.4 Visualizing Data in Python\n",
    "\n",
    "## [Seaborn](https://seaborn.pydata.org/tutorial/introduction)\n",
    "* Uses matplotlib as it's engine, just like pandas\n",
    "* More aesthetically pleasing and modern, better for higher-quality visualizations\n",
    "\n",
    "Why? Important to know about available resources, specially common (\"best practice\") ones with widespread industry usage, solid documentation and strong community support."
   ]
  },
  {
   "cell_type": "code",
   "execution_count": null,
   "id": "fca7affd-ee54-4a75-9b9f-5a4108050502",
   "metadata": {},
   "outputs": [],
   "source": [
    "# Import alias \"sns\" -> \"seaborn namespace\" or name play on actor \"Samuel Norman Seaborn\"\n",
    "# pip install seaborn\n",
    "import seaborn as sns\n",
    "import matplotlib.pyplot as plt\n",
    "import pandas as pd\n",
    "from random import randint "
   ]
  },
  {
   "cell_type": "code",
   "execution_count": null,
   "id": "b5eaf4e2-f032-472a-84be-9551e608d529",
   "metadata": {},
   "outputs": [],
   "source": [
    "df = pd.DataFrame({\n",
    "    \"Income\" :[randint(0,1000) for x in range(30)],\n",
    "    \"Expenses\" : [randint(0,1000) for x in range(30)]})\n",
    "df.head()"
   ]
  },
  {
   "cell_type": "markdown",
   "id": "f8f58189-a12a-493d-92d2-dc9eac391e57",
   "metadata": {},
   "source": [
    "### Updating scatter plots (regression plot)"
   ]
  },
  {
   "cell_type": "code",
   "execution_count": null,
   "id": "9a8357e8-6a8a-4716-a3e4-b3977c11efbd",
   "metadata": {},
   "outputs": [],
   "source": [
    "# https://seaborn.pydata.org/generated/seaborn.regplot.html?highlight=regplot#seaborn.regplot\n",
    "# https://www.geeksforgeeks.org/python-seaborn-regplot-method/\n",
    "# https://www.tutorialspoint.com/seaborn/seaborn_regplot_method.htm\n",
    "\n",
    "# Since only one graph, no need to reference plt.figure or create a grid\n",
    "# Plots the data and draws a linear regression model fit\n",
    "sns.regplot(data=df, x=\"Income\", y=\"Expenses\")\n",
    "plt.show()"
   ]
  },
  {
   "cell_type": "code",
   "execution_count": null,
   "id": "d55aa1c8-f366-4532-8693-4eb25d92c06e",
   "metadata": {},
   "outputs": [],
   "source": [
    "# Also check out:\n",
    "# https://seaborn.pydata.org/generated/seaborn.lmplot.html\n",
    "# https://www.geeksforgeeks.org/python-seaborn-lmplot-method/\n",
    "tips_df = pd.read_csv('tips.csv')\n",
    "\n",
    "sns.lmplot(data = tips_df, x=\"total_bill\", y=\"tip\", fit_reg=False, hue=\"sex\")\n",
    "plt.show()"
   ]
  },
  {
   "cell_type": "markdown",
   "id": "93890e70-0a3f-47d7-94b1-9bf705a3a0c8",
   "metadata": {},
   "source": [
    "### Updating Histogram plots"
   ]
  },
  {
   "cell_type": "code",
   "execution_count": null,
   "id": "d2113a1a-8463-4e19-ba9f-e0454e62da0c",
   "metadata": {},
   "outputs": [],
   "source": [
    "# https://seaborn.pydata.org/generated/seaborn.histplot.html?highlight=histplot#seaborn.histplot\n",
    "# Shows both a histogram (using density normalization) and a superimposed kernel density estimate (if kde=True and stat=\"density\")\n",
    "# Default bin size is determined using a reference rule that depends on the sample size and variance\n",
    "# Heads up! distplot() i DEPRECATED\n",
    "\n",
    "fig = plt.figure(figsize=(10,3))\n",
    "income_axes = fig.add_subplot(1,2,1)\n",
    "expense_axes = fig.add_subplot(1,2,2)\n",
    "\n",
    "# Plot data\n",
    "sns.histplot(df[\"Income\"], ax=income_axes, kde=True, stat=\"density\")\n",
    "sns.histplot(df[\"Expenses\"], ax=expense_axes, kde=True, stat=\"density\")\n",
    "plt.subplots_adjust(wspace=.3)\n",
    "plt.show()"
   ]
  },
  {
   "cell_type": "markdown",
   "id": "9d2fdae7-16e8-487a-8236-a26c742fc4f9",
   "metadata": {},
   "source": [
    "### Box plots"
   ]
  },
  {
   "cell_type": "code",
   "execution_count": null,
   "id": "913b176d-d493-48b1-8aed-575ee436e7bb",
   "metadata": {},
   "outputs": [],
   "source": [
    "# https://seaborn.pydata.org/generated/seaborn.boxplot.html?highlight=boxplot#seaborn.boxplot\n",
    "# https://www.geeksforgeeks.org/box-plot/\n",
    "# Depicts data through their quartiles\n",
    "\n",
    "sns.boxplot(data=df, orient=\"h\")\n",
    "plt.show()"
   ]
  },
  {
   "cell_type": "markdown",
   "id": "c3c3911a-cbba-48e6-ad57-d0c7611df8f2",
   "metadata": {},
   "source": [
    "<img src=\"https://media.geeksforgeeks.org/wp-content/uploads/20201127012952/boxplot.png\" style=\"width: 600px;\"/>"
   ]
  },
  {
   "cell_type": "markdown",
   "id": "03ddcf73-b7e3-4fea-887f-dc0923146df7",
   "metadata": {},
   "source": [
    "## Use Cases for Visualization"
   ]
  },
  {
   "cell_type": "code",
   "execution_count": null,
   "id": "8dfb8e6e-0359-4a93-a5a5-cdff51c87c6a",
   "metadata": {},
   "outputs": [],
   "source": [
    "sales_df = pd.read_excel(\"Sales_September2019.xlsx\")\n",
    "sales_df.head(10)"
   ]
  },
  {
   "cell_type": "markdown",
   "id": "66b8e259-a19e-4b6c-b63a-f40bd5b3fdaa",
   "metadata": {},
   "source": [
    "#### 1. What city had the highest number of sales?"
   ]
  },
  {
   "cell_type": "code",
   "execution_count": null,
   "id": "eb48fa05-1898-485e-9836-43f4166020c8",
   "metadata": {},
   "outputs": [],
   "source": [
    "# Group by purchase adress, sum on quantity ordered\n",
    "grouped_by_quant_city_df = sales_df[\"Quantity Ordered\"].groupby(sales_df[\"Purchase Address\"]).sum()\n",
    "#grouped_by_quant_city_df = sales_df.groupby(sales_df[\"Purchase Address\"]).sum(numeric_only=True)[[\"Quantity Ordered\"]]\n",
    "# Only want city name\n",
    "grouped_by_quant_city_df.index = [x.split()[-1] for x in grouped_by_quant_city_df.index]\n",
    "grouped_by_quant_city_df.index.name = \"City\"\n",
    "grouped_by_quant_city_df"
   ]
  },
  {
   "cell_type": "code",
   "execution_count": null,
   "id": "4fc3b3af-3324-4a27-af29-6b35124ce34b",
   "metadata": {},
   "outputs": [],
   "source": [
    "# Display with Pandas\n",
    "\n",
    "grouped_by_quant_city_df.plot.barh()\n",
    "plt.show()"
   ]
  },
  {
   "cell_type": "code",
   "execution_count": null,
   "id": "283b087d-f154-4378-a017-96a73a09fd82",
   "metadata": {},
   "outputs": [],
   "source": [
    "# Display with Pandas (color/grid)\n",
    "\n",
    "grouped_by_quant_city_df.plot.barh(color=[\"b\", \"g\", \"r\", \"c\", \"m\", \"y\", \"k\"])\n",
    "\n",
    "plt.grid(axis=\"x\")\n",
    "plt.show()"
   ]
  },
  {
   "cell_type": "code",
   "execution_count": null,
   "id": "af683f7b-0ebe-462a-b345-589345747143",
   "metadata": {},
   "outputs": [],
   "source": [
    "# Display with Pandas (label/title etc)\n",
    "\n",
    "fig = plt.figure()\n",
    "quant_city_ax = fig.add_subplot()\n",
    "\n",
    "grouped_by_quant_city_df.plot.barh(ax=quant_city_ax, color=[\"b\", \"g\", \"r\", \"c\", \"m\", \"y\", \"k\"])\n",
    "\n",
    "quant_city_ax.set_title(\"Total items sold per store\")\n",
    "quant_city_ax.set_xlabel(\"Location by City\")\n",
    "quant_city_ax.set_ylabel(\"Quantity Ordered\")\n",
    "plt.grid(axis=\"x\")\n",
    "plt.show()"
   ]
  },
  {
   "cell_type": "code",
   "execution_count": null,
   "id": "375b3f20-36ca-4dae-88a3-a84cb3aafe45",
   "metadata": {},
   "outputs": [],
   "source": [
    "# Display with Seaborn\n",
    "\n",
    "sns.barplot(x=grouped_by_quant_city_df,\n",
    "            y=grouped_by_quant_city_df.index,\n",
    "            width=.4,\n",
    "            saturation=1,\n",
    "            orient=\"h\").set_title(\"Total items sold per store\", fontdict={\"size\": 18, \"weight\": \"bold\", \"color\": \"red\"})\n",
    "plt.show()"
   ]
  },
  {
   "cell_type": "markdown",
   "id": "d75a9581-5fd9-4b93-adf0-ed957b8bda7d",
   "metadata": {},
   "source": [
    "#### 2. What items were sold the most and why?\n",
    "\n",
    "Our hypothesis: Price of the item may influence the quantity of each item sold."
   ]
  },
  {
   "cell_type": "code",
   "execution_count": null,
   "id": "608952c5-4c7e-491a-9492-f7f165aab727",
   "metadata": {},
   "outputs": [],
   "source": [
    "# Any correlation between price and quantity sold?\n",
    "\n",
    "product_by_quant_price_df = sales_df.groupby(sales_df[\"Product\"]).agg({\n",
    "    \"Quantity Ordered\" : \"sum\",\n",
    "    \"Price Each\" : \"median\"}).sort_values(by=\"Price Each\")\n",
    "product_by_quant_price_df.head(10)"
   ]
  },
  {
   "cell_type": "code",
   "execution_count": null,
   "id": "220b871e-758f-4e1f-b791-399908419346",
   "metadata": {},
   "outputs": [],
   "source": [
    "product_by_quant_price_df.plot.scatter(x=\"Price Each\", y=\"Quantity Ordered\", marker=\"x\")\n",
    "plt.show()"
   ]
  },
  {
   "cell_type": "code",
   "execution_count": null,
   "id": "9e82c74c-edf5-4530-a48b-f32171736f46",
   "metadata": {},
   "outputs": [],
   "source": [
    "# Visulaize better by comparing quantity sold vs price each\n",
    "\n",
    "fig = plt.figure()\n",
    "by_quant_price_ax = fig.add_subplot()\n",
    "\n",
    "product_by_quant_price_df.plot.bar(ax=by_quant_price_ax)\n",
    "by_quant_price_ax.set_title(\"Quantity ordered vs Price sold\")\n",
    "by_quant_price_ax.set_ylabel(\"NOK\")\n",
    "plt.grid(axis=\"y\")\n",
    "plt.show()"
   ]
  },
  {
   "cell_type": "code",
   "execution_count": null,
   "id": "3af5868e-5816-4fcd-a679-9744682b910e",
   "metadata": {},
   "outputs": [],
   "source": [
    "# Using Seaborn\n",
    "\n",
    "sns.regplot(data=product_by_quant_price_df, x=\"Price Each\", y=\"Quantity Ordered\", marker=\".\")\n",
    "plt.grid(axis=\"y\")\n",
    "plt.show()"
   ]
  },
  {
   "cell_type": "markdown",
   "id": "7e61e749-4b84-49a5-ac40-a3bbb0ba34d6",
   "metadata": {},
   "source": [
    "#### 3. What is the busiest time across all our stores?"
   ]
  },
  {
   "cell_type": "code",
   "execution_count": null,
   "id": "281001a8-9928-418a-a7e3-f51674e7842e",
   "metadata": {},
   "outputs": [],
   "source": [
    "sales_df.head()"
   ]
  },
  {
   "cell_type": "code",
   "execution_count": null,
   "id": "fc779af9-b862-4b4c-9386-6046646bfb77",
   "metadata": {},
   "outputs": [],
   "source": [
    "sales_df[\"Time\"] = [time[-5:-3] for time in sales_df[\"Order Date\"]]\n",
    "sales_df.head()"
   ]
  },
  {
   "cell_type": "code",
   "execution_count": null,
   "id": "92563649-03f7-4fde-b965-09869e67e4bd",
   "metadata": {},
   "outputs": [],
   "source": [
    "orders_by_hr_df = sales_df[\"Order ID\"].groupby(sales_df[\"Time\"]).count()\n",
    "orders_by_hr_df.index = [f\"{time}h00\" for time in orders_by_hr_df.index]\n",
    "orders_by_hr_df.head()"
   ]
  },
  {
   "cell_type": "code",
   "execution_count": null,
   "id": "9d2d41b2-74fd-46fb-a8ef-2f8dcbba3619",
   "metadata": {},
   "outputs": [],
   "source": [
    "fig = plt.figure(figsize=(10, 5))\n",
    "bar_ax = fig.add_subplot(1, 2, 1)\n",
    "pie_ax = fig.add_subplot(1, 2, 2)\n",
    "\n",
    "orders_by_hr_df.plot(ax=bar_ax)\n",
    "orders_by_hr_df.plot.pie(ax=pie_ax)\n",
    "plt.subplots_adjust(wspace=.3)\n",
    "bar_ax.set_xlabel(\"Time of day\")\n",
    "bar_ax.set_ylabel(\"# of orders\")\n",
    "pie_ax.set_ylabel(\"\")\n",
    "plt.xlabel(\"# of orders by time of day\")\n",
    "plt.show()"
   ]
  },
  {
   "cell_type": "code",
   "execution_count": null,
   "id": "e19ae887-78b8-4c35-9be4-fff0a049fa20",
   "metadata": {},
   "outputs": [],
   "source": []
  }
 ],
 "metadata": {
  "kernelspec": {
   "display_name": "Python 3 (ipykernel)",
   "language": "python",
   "name": "python3"
  },
  "language_info": {
   "codemirror_mode": {
    "name": "ipython",
    "version": 3
   },
   "file_extension": ".py",
   "mimetype": "text/x-python",
   "name": "python",
   "nbconvert_exporter": "python",
   "pygments_lexer": "ipython3",
   "version": "3.10.9"
  }
 },
 "nbformat": 4,
 "nbformat_minor": 5
}
