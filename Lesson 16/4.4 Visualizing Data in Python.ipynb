{
 "cells": [
  {
   "cell_type": "markdown",
   "id": "5a410b0d-caa9-4e62-bef7-f84fb7236255",
   "metadata": {},
   "source": [
    "## Before we start:\n",
    "* Final assignment available on EduFlow during Monday class.\n",
    "\n",
    "### A few questions:\n",
    "* **Other tools for visualization:**\n",
    "  * [Power BI](https://powerbi.microsoft.com/)\n",
    "  * [Looker Studio](https://lookerstudio.google.com/) (formerly Google Data Studio)\n",
    "  * [Tableau](https://www.tableau.com/)\n",
    "  * +++ A host of other solutions\n",
    "* **Why Python & Pandas vs other more accessible visualization tools?**\n",
    "  * In short: Python for scale, performance, flexability > SPEED.\n",
    "  * Typically Python for EDA (Exploratory Data Analysis); Power BI etc for more general analysis / business reporting.\n",
    "  * Combine them:\n",
    "    * Python to get, filter, merge data (e.g. via API)\n",
    "    * Initial analysis/QA using visualization (e.g. Pandas)\n",
    "    * Generate output (csv/excel/json)\n",
    "    * Load into Power BI/Tableau etc for further analysis and more advanced visualizations. \n",
    "* **Assignment 4.3**\n"
   ]
  },
  {
   "cell_type": "code",
   "execution_count": null,
   "id": "35a70987-4092-4c9f-a7da-55ddac47825e",
   "metadata": {
    "tags": []
   },
   "outputs": [],
   "source": [
    "# Objective x.x"
   ]
  },
  {
   "cell_type": "markdown",
   "id": "45731497-5621-4041-afb2-8d11dea85fdb",
   "metadata": {},
   "source": [
    "# 4.4 Visualizing Data in Python"
   ]
  },
  {
   "cell_type": "code",
   "execution_count": null,
   "id": "fca7affd-ee54-4a75-9b9f-5a4108050502",
   "metadata": {},
   "outputs": [],
   "source": []
  }
 ],
 "metadata": {
  "kernelspec": {
   "display_name": "Python 3 (ipykernel)",
   "language": "python",
   "name": "python3"
  },
  "language_info": {
   "codemirror_mode": {
    "name": "ipython",
    "version": 3
   },
   "file_extension": ".py",
   "mimetype": "text/x-python",
   "name": "python",
   "nbconvert_exporter": "python",
   "pygments_lexer": "ipython3",
   "version": "3.10.9"
  }
 },
 "nbformat": 4,
 "nbformat_minor": 5
}
