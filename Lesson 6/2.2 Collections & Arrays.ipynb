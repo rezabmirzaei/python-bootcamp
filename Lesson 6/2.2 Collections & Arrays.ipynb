{
 "cells": [
  {
   "cell_type": "markdown",
   "id": "7c66926f-46df-4cc6-b30e-0ea6c76f3c26",
   "metadata": {},
   "source": [
    "# Collections & Arrays"
   ]
  },
  {
   "cell_type": "markdown",
   "id": "1a68d95d-51fa-41d6-b004-ecaa89976d17",
   "metadata": {},
   "source": [
    "## Lists"
   ]
  },
  {
   "cell_type": "code",
   "execution_count": null,
   "id": "91087274-e5cb-4e1d-91f0-c259220cee4a",
   "metadata": {},
   "outputs": [],
   "source": [
    "# Created with [] or list()\n",
    "# Ordered\n",
    "# Mutable\n",
    "# Allow duplicates\n",
    "# Allow nesting\n",
    "\n",
    "bracket_list = [1, 2, \"four\", 3, 3, \"four\"]\n",
    "function_list = list(\"abc123abc\")\n",
    "\n",
    "# Heads up: list([iterable])\n",
    "number_range = range(0, 6)\n",
    "number_range_list = list(number_range)\n",
    "print(f\"number_range_list = {number_range_list}\")\n",
    "\n",
    "# This will break\n",
    "#faulty_function_list = list(1)\n",
    "#fixed_function_list = list([1])\n"
   ]
  },
  {
   "cell_type": "markdown",
   "id": "2db26796-696d-4526-8b5a-f3cf2630ec06",
   "metadata": {},
   "source": [
    "## Sets"
   ]
  },
  {
   "cell_type": "code",
   "execution_count": null,
   "id": "c9bd7107-0cfb-413e-a120-3b1b25f8fcaf",
   "metadata": {},
   "outputs": [],
   "source": [
    "# Created with {} or set()\n",
    "# Unordered\n",
    "# Mutable (heads up! but not the elements!)\n",
    "# Do NOT allow duplicates\n",
    "# Do NOT allow nesting > cannot contian mutable elements\n",
    "\n",
    "curly_set = {1, 2, \"four\", 3, 3, \"four\"}\n",
    "function_set = set(\"abc123abc\")\n",
    "\n",
    "# These will fail; mutable element in set\n",
    "#mutable_list_set = {[\"one\", \"two\"]}\n",
    "#mutable_set_set = {{\"one\", \"two\"}}\n",
    "#mutable_dict_set = {{\"one\" : 1, \"two\" : 2}}\n",
    "\n",
    "# Heads up: set([iterable])\n",
    "number_range_set = set(range(0, 6))\n",
    "print(f\"number_range_set = {number_range_set}\")\n",
    "\n",
    "# This will break\n",
    "#faulty_function_set = set(1)"
   ]
  },
  {
   "cell_type": "markdown",
   "id": "9c60edeb-9798-4c44-9521-6b81fa39ab37",
   "metadata": {},
   "source": [
    "## Tuples"
   ]
  },
  {
   "cell_type": "code",
   "execution_count": null,
   "id": "45bd89f3-d1bc-494b-abb7-fd5cee3dd977",
   "metadata": {},
   "outputs": [],
   "source": [
    "# Created with comma-seperated list, () or tuple()\n",
    "# Ordered\n",
    "# Immutable\n",
    "# Allow duplicates\n",
    "# Allow nesting\n",
    "\n",
    "comma_separated_tuple = \"Age\",2\n",
    "parantesis_tuple = (\"Age\", 4)\n",
    "function_tuple = tuple([\"Age\", 6])\n",
    "\n",
    "# Unpacking\n",
    "\n",
    "# If you expect change, better off not using tuple, but if you really have to:\n",
    "student_tuple = (\"Reza\", [104, 204])\n",
    "print(student_tuple)\n",
    "student_name = student_tuple[0]\n",
    "student_courses = student_tuple[1]\n",
    "student_courses.append(304)\n",
    "student_tuple = (student_name, student_courses)\n",
    "print(student_tuple)"
   ]
  },
  {
   "cell_type": "markdown",
   "id": "933c0d06-84dc-4642-a67c-ea3a325581eb",
   "metadata": {},
   "source": [
    "## Dictionaries"
   ]
  },
  {
   "cell_type": "code",
   "execution_count": null,
   "id": "1257920d-d80c-4825-a423-33f0a30c7594",
   "metadata": {},
   "outputs": [],
   "source": [
    "# Created with {} or dict()\n",
    "# Store data in key : value pairs\n",
    "# Keys must be immutable\n",
    "# Keys are case sensitive\n",
    "# Ordered (Python >= v3.7)\n",
    "# Mutable\n",
    "# Do NOT allow duplicate keys (values are not checked for duplicity)\n",
    "# Allow nesting\n",
    "\n",
    "duplicate_key_dict = {\"Reza\" : 45, \"Reza\" : 65}\n",
    "duplicate_value_dict = {\"Reza\" : 45, \"Ola\" : 45}\n"
   ]
  },
  {
   "cell_type": "code",
   "execution_count": null,
   "id": "5bf87d29-7940-44cc-9ae7-c232c24af8d3",
   "metadata": {},
   "outputs": [],
   "source": []
  }
 ],
 "metadata": {
  "kernelspec": {
   "display_name": "Python 3 (ipykernel)",
   "language": "python",
   "name": "python3"
  },
  "language_info": {
   "codemirror_mode": {
    "name": "ipython",
    "version": 3
   },
   "file_extension": ".py",
   "mimetype": "text/x-python",
   "name": "python",
   "nbconvert_exporter": "python",
   "pygments_lexer": "ipython3",
   "version": "3.10.9"
  }
 },
 "nbformat": 4,
 "nbformat_minor": 5
}
