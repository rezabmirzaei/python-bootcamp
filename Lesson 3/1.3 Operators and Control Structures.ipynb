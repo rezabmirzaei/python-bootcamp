{
 "cells": [
  {
   "cell_type": "markdown",
   "id": "77d75149-8ee6-4213-b77a-bb1746e6f8fe",
   "metadata": {},
   "source": [
    "# **1.3. Operators and Control Structures**"
   ]
  },
  {
   "cell_type": "markdown",
   "id": "d5199c14-73b9-4039-90e3-25b65fa10136",
   "metadata": {},
   "source": [
    "## **Operators**"
   ]
  },
  {
   "cell_type": "code",
   "execution_count": null,
   "id": "2de7ec53-305e-474a-8776-12ae7367898e",
   "metadata": {},
   "outputs": [],
   "source": []
  },
  {
   "cell_type": "markdown",
   "id": "6483f41a-800c-456b-a7e4-7d163d67fbc9",
   "metadata": {},
   "source": [
    "### Arithmetic Operators"
   ]
  },
  {
   "cell_type": "code",
   "execution_count": null,
   "id": "a8de8586-427d-41d2-81f3-2619e57f8adf",
   "metadata": {},
   "outputs": [],
   "source": []
  },
  {
   "cell_type": "markdown",
   "id": "b6c89850-498b-4bac-b6c5-883bb9c2a91c",
   "metadata": {},
   "source": [
    "### Comparison Operators"
   ]
  },
  {
   "cell_type": "code",
   "execution_count": null,
   "id": "6cea8dfa-d025-4710-8906-fb12f27e97c8",
   "metadata": {},
   "outputs": [],
   "source": []
  },
  {
   "cell_type": "markdown",
   "id": "74d76bcd-6ec2-47fb-9ced-d88eb5523e6a",
   "metadata": {},
   "source": [
    "### Logical and Assignment Operators"
   ]
  },
  {
   "cell_type": "code",
   "execution_count": null,
   "id": "096c28ad-ad6a-4151-afb7-03098f96c155",
   "metadata": {},
   "outputs": [],
   "source": []
  },
  {
   "cell_type": "markdown",
   "id": "4b7d741c-d463-47c3-a970-745970e2387d",
   "metadata": {},
   "source": [
    "### Itentity and Membership Operators"
   ]
  },
  {
   "cell_type": "code",
   "execution_count": null,
   "id": "2c4e8ebe-a0b8-45ec-979a-5921f3070c34",
   "metadata": {},
   "outputs": [],
   "source": []
  },
  {
   "cell_type": "markdown",
   "id": "11fc4677-cddb-42a6-a5df-1e08441b6f89",
   "metadata": {},
   "source": [
    "## Control Structures"
   ]
  },
  {
   "cell_type": "code",
   "execution_count": null,
   "id": "7e26f980-c06e-4780-ad93-93bca5c48014",
   "metadata": {},
   "outputs": [],
   "source": []
  },
  {
   "cell_type": "markdown",
   "id": "489aa5bc-e1c2-452d-975e-f92022cae60e",
   "metadata": {},
   "source": [
    "### if, elif, and else"
   ]
  },
  {
   "cell_type": "code",
   "execution_count": null,
   "id": "41c380ae-28b9-4a75-bd38-3ce552b7b90c",
   "metadata": {},
   "outputs": [],
   "source": []
  },
  {
   "cell_type": "markdown",
   "id": "9eb3e991-1166-4b4b-8935-db5f72457161",
   "metadata": {
    "tags": []
   },
   "source": [
    "### while loop"
   ]
  },
  {
   "cell_type": "code",
   "execution_count": null,
   "id": "a60a4340-0bdd-4e75-a14e-a1cd86386028",
   "metadata": {
    "tags": []
   },
   "outputs": [],
   "source": []
  },
  {
   "cell_type": "markdown",
   "id": "367ebf8b-90b9-498b-8f5c-e99dc8358320",
   "metadata": {},
   "source": [
    "### for loop"
   ]
  },
  {
   "cell_type": "code",
   "execution_count": null,
   "id": "b8cd393a-446d-42f7-ae94-a8e4cfeca4ed",
   "metadata": {},
   "outputs": [],
   "source": []
  },
  {
   "cell_type": "markdown",
   "id": "2ea95bec-217a-47ba-b740-4549d0fc0f25",
   "metadata": {},
   "source": [
    "## **Ternary Expressions**"
   ]
  },
  {
   "cell_type": "markdown",
   "id": "b75e8b0d-2e3e-4b96-8ae7-09f6d198a142",
   "metadata": {},
   "source": [
    "``variable = (value if True) if (condition) else (value if False)``"
   ]
  },
  {
   "cell_type": "code",
   "execution_count": null,
   "id": "40d2f869-9e3a-4f55-a3c4-712db382eed0",
   "metadata": {},
   "outputs": [],
   "source": []
  }
 ],
 "metadata": {
  "kernelspec": {
   "display_name": "Python 3 (ipykernel)",
   "language": "python",
   "name": "python3"
  },
  "language_info": {
   "codemirror_mode": {
    "name": "ipython",
    "version": 3
   },
   "file_extension": ".py",
   "mimetype": "text/x-python",
   "name": "python",
   "nbconvert_exporter": "python",
   "pygments_lexer": "ipython3",
   "version": "3.10.9"
  }
 },
 "nbformat": 4,
 "nbformat_minor": 5
}
