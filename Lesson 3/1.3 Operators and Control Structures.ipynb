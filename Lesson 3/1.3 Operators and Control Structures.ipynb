{
 "cells": [
  {
   "cell_type": "markdown",
   "id": "77d75149-8ee6-4213-b77a-bb1746e6f8fe",
   "metadata": {},
   "source": [
    "# **1.3. Operators and Control Structures**"
   ]
  },
  {
   "cell_type": "markdown",
   "id": "d5199c14-73b9-4039-90e3-25b65fa10136",
   "metadata": {},
   "source": [
    "## **Operators**"
   ]
  },
  {
   "cell_type": "markdown",
   "id": "6483f41a-800c-456b-a7e4-7d163d67fbc9",
   "metadata": {},
   "source": [
    "### Arithmetic Operators"
   ]
  },
  {
   "cell_type": "markdown",
   "id": "b57d94d0-a3f0-46a4-8e3c-8059a1c28501",
   "metadata": {},
   "source": [
    "Addition ``+``"
   ]
  },
  {
   "cell_type": "code",
   "execution_count": null,
   "id": "f51e1d0b-bcda-45c4-8119-700939cf9f01",
   "metadata": {},
   "outputs": [],
   "source": []
  },
  {
   "cell_type": "markdown",
   "id": "519a5508-c378-477b-9dd3-b1f5c011eff3",
   "metadata": {},
   "source": [
    "Substraction ``-``"
   ]
  },
  {
   "cell_type": "code",
   "execution_count": null,
   "id": "bbd6fa9a-f392-49d4-ae0d-07a6845814e9",
   "metadata": {},
   "outputs": [],
   "source": []
  },
  {
   "cell_type": "markdown",
   "id": "658d3ee5-1d6e-446b-84d3-9ae48565f1d3",
   "metadata": {},
   "source": [
    "Multiplication ``*``"
   ]
  },
  {
   "cell_type": "code",
   "execution_count": null,
   "id": "61bb6da8-f202-44ce-a69a-3752abb0e40a",
   "metadata": {},
   "outputs": [],
   "source": []
  },
  {
   "cell_type": "markdown",
   "id": "b6d283d9-fdc9-4d5b-9c07-cd5a5c117df5",
   "metadata": {},
   "source": [
    "Division ``/``"
   ]
  },
  {
   "cell_type": "code",
   "execution_count": null,
   "id": "3627a17e-c3dd-4dbf-9de1-a8fc8fb83b54",
   "metadata": {},
   "outputs": [],
   "source": []
  },
  {
   "cell_type": "markdown",
   "id": "be82655b-f202-4a7d-b0e6-02790e3efb94",
   "metadata": {},
   "source": [
    "Modulus ``%`` (remainder of division)"
   ]
  },
  {
   "cell_type": "code",
   "execution_count": null,
   "id": "bf0c60ec-183b-4772-a29f-6d23ba54ca93",
   "metadata": {},
   "outputs": [],
   "source": []
  },
  {
   "cell_type": "markdown",
   "id": "7c5a2761-9c56-478b-b748-2f709fcbdf79",
   "metadata": {},
   "source": [
    "Floor/integer division ``//`` (round result down to the nearest whole number)"
   ]
  },
  {
   "cell_type": "code",
   "execution_count": null,
   "id": "8c701391-68b9-427f-869f-a9a6a9280dee",
   "metadata": {},
   "outputs": [],
   "source": []
  },
  {
   "cell_type": "markdown",
   "id": "d03652d5-9725-4537-a3a2-5521b87fb599",
   "metadata": {},
   "source": [
    "Exponent/power ``**``"
   ]
  },
  {
   "cell_type": "code",
   "execution_count": null,
   "id": "938faa96-4ef7-4462-9a7e-b7e8203cbe59",
   "metadata": {},
   "outputs": [],
   "source": []
  },
  {
   "cell_type": "markdown",
   "id": "b6c89850-498b-4bac-b6c5-883bb9c2a91c",
   "metadata": {},
   "source": [
    "### Comparison Operators"
   ]
  },
  {
   "cell_type": "markdown",
   "id": "86422a1e-9ce6-40fc-b9ae-52e1f0808092",
   "metadata": {},
   "source": [
    "Greater/less than ``>`` and ``<``"
   ]
  },
  {
   "cell_type": "code",
   "execution_count": null,
   "id": "d91eeb1a-6217-408a-9952-b414ff29de3f",
   "metadata": {},
   "outputs": [],
   "source": []
  },
  {
   "cell_type": "markdown",
   "id": "b1372b83-1a9a-48da-ab4c-3384a54997ba",
   "metadata": {},
   "source": [
    "Equals ``==``"
   ]
  },
  {
   "cell_type": "code",
   "execution_count": null,
   "id": "75f92377-1556-4365-92b7-afb6be7a33c6",
   "metadata": {},
   "outputs": [],
   "source": []
  },
  {
   "cell_type": "markdown",
   "id": "8113dda5-d42b-41c0-9bdf-7436875f102f",
   "metadata": {},
   "source": [
    "Not equals ``!=``"
   ]
  },
  {
   "cell_type": "code",
   "execution_count": null,
   "id": "0810e53d-dacb-46cf-a495-a2b372a532dd",
   "metadata": {},
   "outputs": [],
   "source": []
  },
  {
   "cell_type": "markdown",
   "id": "6b4c9a9b-2767-480a-aa53-ccc133e374ba",
   "metadata": {},
   "source": [
    "Greater/less than or equal ``>=`` and ``<=``"
   ]
  },
  {
   "cell_type": "code",
   "execution_count": null,
   "id": "c2c8f915-0711-4998-a2dc-9c6784dd68bc",
   "metadata": {},
   "outputs": [],
   "source": []
  },
  {
   "cell_type": "code",
   "execution_count": null,
   "id": "1e639979-7fec-4468-ae27-c909d85562a1",
   "metadata": {},
   "outputs": [],
   "source": []
  },
  {
   "cell_type": "markdown",
   "id": "74d76bcd-6ec2-47fb-9ced-d88eb5523e6a",
   "metadata": {},
   "source": [
    "### Logical Operators"
   ]
  },
  {
   "cell_type": "markdown",
   "id": "8556d21d-14b3-4db5-be68-71c4ca22d60a",
   "metadata": {},
   "source": [
    "``not``"
   ]
  },
  {
   "cell_type": "code",
   "execution_count": null,
   "id": "b35de287-f656-4e26-adfd-5da8c653d93b",
   "metadata": {},
   "outputs": [],
   "source": []
  },
  {
   "cell_type": "markdown",
   "id": "142e3067-3461-47aa-9c63-6d8d95bf1494",
   "metadata": {},
   "source": [
    "``and``"
   ]
  },
  {
   "cell_type": "code",
   "execution_count": null,
   "id": "fce4498a-f0d1-4653-9b7c-b6c2890a0bbe",
   "metadata": {},
   "outputs": [],
   "source": []
  },
  {
   "cell_type": "markdown",
   "id": "f7ccabea-1c11-43be-a1cd-5fa0855ef8b8",
   "metadata": {},
   "source": [
    "``or``"
   ]
  },
  {
   "cell_type": "code",
   "execution_count": null,
   "id": "ef9aefcd-3cc0-4b9d-9d75-ff5a858db52f",
   "metadata": {},
   "outputs": [],
   "source": []
  },
  {
   "cell_type": "markdown",
   "id": "15b52016-b4b9-4795-a13e-405b939b999f",
   "metadata": {},
   "source": [
    "### Assignment Operators"
   ]
  },
  {
   "cell_type": "markdown",
   "id": "df8f3982-a351-4775-99b2-9b779c03a440",
   "metadata": {},
   "source": [
    "``=``"
   ]
  },
  {
   "cell_type": "code",
   "execution_count": null,
   "id": "092cf75c-d04d-4384-8bc7-54134c80d49b",
   "metadata": {},
   "outputs": [],
   "source": []
  },
  {
   "cell_type": "markdown",
   "id": "2b2a8db2-596e-499c-b603-78f6249d6932",
   "metadata": {},
   "source": [
    "``+=``"
   ]
  },
  {
   "cell_type": "code",
   "execution_count": null,
   "id": "67894abd-f814-4033-ad7f-d82f4486ccbc",
   "metadata": {},
   "outputs": [],
   "source": []
  },
  {
   "cell_type": "markdown",
   "id": "22d254ae-dd52-4416-8601-7af72cab1082",
   "metadata": {},
   "source": [
    "``-=``"
   ]
  },
  {
   "cell_type": "code",
   "execution_count": null,
   "id": "1bd2698a-ea0c-4724-b2ca-253419e9fcd0",
   "metadata": {},
   "outputs": [],
   "source": []
  },
  {
   "cell_type": "markdown",
   "id": "32ab2485-93d5-40eb-9351-a12a8826128a",
   "metadata": {},
   "source": [
    "``*=``"
   ]
  },
  {
   "cell_type": "code",
   "execution_count": null,
   "id": "f537fedc-c0a9-4b27-b7e2-0497972a1b38",
   "metadata": {},
   "outputs": [],
   "source": []
  },
  {
   "cell_type": "markdown",
   "id": "d3eefd0f-5ee6-4367-8f84-aabbc89bc0d3",
   "metadata": {},
   "source": [
    "``/=``"
   ]
  },
  {
   "cell_type": "code",
   "execution_count": null,
   "id": "8d675abf-93d0-4ed0-bf73-19d6ff5051ec",
   "metadata": {},
   "outputs": [],
   "source": []
  },
  {
   "cell_type": "markdown",
   "id": "428e8677-d00b-48e5-bea1-ce6df5d3486e",
   "metadata": {},
   "source": [
    "``%=``"
   ]
  },
  {
   "cell_type": "code",
   "execution_count": null,
   "id": "a0de04b7-4764-4b82-b534-53b651f1f423",
   "metadata": {},
   "outputs": [],
   "source": []
  },
  {
   "cell_type": "markdown",
   "id": "c519b9f4-4a9e-44aa-91a7-11ed59f5c3dd",
   "metadata": {},
   "source": [
    "``//=``"
   ]
  },
  {
   "cell_type": "code",
   "execution_count": null,
   "id": "4cc4d9d4-a3e4-4938-bd2e-1fcfc0f6c27c",
   "metadata": {},
   "outputs": [],
   "source": []
  },
  {
   "cell_type": "markdown",
   "id": "83b6ed59-2149-42e1-bd42-2f7e4396fc4c",
   "metadata": {},
   "source": [
    "``**=``"
   ]
  },
  {
   "cell_type": "code",
   "execution_count": null,
   "id": "6e2fb568-bcb6-431d-9609-18f8d81c5504",
   "metadata": {},
   "outputs": [],
   "source": []
  },
  {
   "cell_type": "markdown",
   "id": "4b7d741c-d463-47c3-a970-745970e2387d",
   "metadata": {},
   "source": [
    "### Identity Operators"
   ]
  },
  {
   "cell_type": "markdown",
   "id": "88423953-7439-4f7c-aca6-ecd7d85c9744",
   "metadata": {},
   "source": [
    "``is`` and ``is not``"
   ]
  },
  {
   "cell_type": "code",
   "execution_count": null,
   "id": "acf477de-1b48-438d-b158-c2465aa29188",
   "metadata": {},
   "outputs": [],
   "source": []
  },
  {
   "cell_type": "code",
   "execution_count": null,
   "id": "4985a318-2172-4a77-a59d-2a63a7aaf8e4",
   "metadata": {
    "tags": []
   },
   "outputs": [],
   "source": [
    "## Can be used to determine type\n",
    "## Heads up on 'None'"
   ]
  },
  {
   "cell_type": "markdown",
   "id": "f4efa7d5-e532-451b-a5f5-f2de33b9ce17",
   "metadata": {},
   "source": [
    "### Membership Operators"
   ]
  },
  {
   "cell_type": "markdown",
   "id": "d9e85fc6-2196-4803-bf1b-7461ef611f94",
   "metadata": {},
   "source": [
    "``in`` and ``not in``"
   ]
  },
  {
   "cell_type": "code",
   "execution_count": null,
   "id": "3f9a30a1-c573-451e-805b-bd4f67247f83",
   "metadata": {},
   "outputs": [],
   "source": [
    "## Heads up on tuples"
   ]
  },
  {
   "cell_type": "markdown",
   "id": "11fc4677-cddb-42a6-a5df-1e08441b6f89",
   "metadata": {},
   "source": [
    "## Control Structures"
   ]
  },
  {
   "cell_type": "markdown",
   "id": "489aa5bc-e1c2-452d-975e-f92022cae60e",
   "metadata": {},
   "source": [
    "### if, elif, and else"
   ]
  },
  {
   "cell_type": "code",
   "execution_count": null,
   "id": "41c380ae-28b9-4a75-bd38-3ce552b7b90c",
   "metadata": {},
   "outputs": [],
   "source": [
    "## Heads up; ensure correct order of conditions"
   ]
  },
  {
   "cell_type": "markdown",
   "id": "9eb3e991-1166-4b4b-8935-db5f72457161",
   "metadata": {
    "tags": []
   },
   "source": [
    "### while loop"
   ]
  },
  {
   "cell_type": "code",
   "execution_count": null,
   "id": "a60a4340-0bdd-4e75-a14e-a1cd86386028",
   "metadata": {
    "tags": []
   },
   "outputs": [],
   "source": [
    "## Heads up; infinite loops!"
   ]
  },
  {
   "cell_type": "markdown",
   "id": "367ebf8b-90b9-498b-8f5c-e99dc8358320",
   "metadata": {},
   "source": [
    "### for loop"
   ]
  },
  {
   "cell_type": "code",
   "execution_count": null,
   "id": "b8cd393a-446d-42f7-ae94-a8e4cfeca4ed",
   "metadata": {},
   "outputs": [],
   "source": []
  },
  {
   "cell_type": "markdown",
   "id": "2ea95bec-217a-47ba-b740-4549d0fc0f25",
   "metadata": {},
   "source": [
    "## **Ternary Expressions**"
   ]
  },
  {
   "cell_type": "markdown",
   "id": "b75e8b0d-2e3e-4b96-8ae7-09f6d198a142",
   "metadata": {},
   "source": [
    "``variable = (value if True) if (condition) else (value if False)``"
   ]
  },
  {
   "cell_type": "code",
   "execution_count": null,
   "id": "ac5185d9-9436-4347-9f2f-e8aafefd2df3",
   "metadata": {},
   "outputs": [],
   "source": []
  }
 ],
 "metadata": {
  "kernelspec": {
   "display_name": "Python 3 (ipykernel)",
   "language": "python",
   "name": "python3"
  },
  "language_info": {
   "codemirror_mode": {
    "name": "ipython",
    "version": 3
   },
   "file_extension": ".py",
   "mimetype": "text/x-python",
   "name": "python",
   "nbconvert_exporter": "python",
   "pygments_lexer": "ipython3",
   "version": "3.10.9"
  }
 },
 "nbformat": 4,
 "nbformat_minor": 5
}
