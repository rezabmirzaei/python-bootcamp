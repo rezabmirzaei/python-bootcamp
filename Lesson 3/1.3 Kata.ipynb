{
 "cells": [
  {
   "cell_type": "markdown",
   "id": "dfeb1e2e-ed31-4899-b178-f3420b344972",
   "metadata": {},
   "source": [
    "# for-loop"
   ]
  },
  {
   "cell_type": "code",
   "execution_count": null,
   "id": "8d570a50-9538-4baf-881e-a8eefa3d3960",
   "metadata": {
    "tags": []
   },
   "outputs": [],
   "source": [
    "for i in range(0, 21):\n",
    "    if i % 15 == 0:\n",
    "        print(\"FizzBuzz\")\n",
    "    elif i % 3 == 0:\n",
    "        print(\"Fizz\")\n",
    "    elif i % 5 == 0:\n",
    "        print(\"Buzz\")"
   ]
  },
  {
   "cell_type": "markdown",
   "id": "54fd471d-7b89-4015-9e9c-1302db9eefc2",
   "metadata": {},
   "source": [
    "## Better 👇🏼"
   ]
  },
  {
   "cell_type": "code",
   "execution_count": null,
   "id": "d0009e65-7c96-4f7e-8d71-a3f144fe7ec5",
   "metadata": {},
   "outputs": [],
   "source": [
    "for i in range(0, 21):\n",
    "    result = \"\"\n",
    "    if i % 3 == 0:\n",
    "        result += \"Fizz\"\n",
    "    if i % 5 == 0:\n",
    "        result += \"Buzz\"\n",
    "    if result != \"\":\n",
    "        print(result)"
   ]
  },
  {
   "cell_type": "markdown",
   "id": "c58fa9bb-4521-4456-9790-be5de2a55be2",
   "metadata": {},
   "source": [
    "# while-loop"
   ]
  },
  {
   "cell_type": "code",
   "execution_count": null,
   "id": "33260804-5664-4658-bd1c-62f8e81be082",
   "metadata": {
    "tags": []
   },
   "outputs": [],
   "source": [
    "i = 0\n",
    "while i <= 20:\n",
    "    if i % 15 == 0:\n",
    "        print(\"FizzBuzz\")\n",
    "    elif i % 3 == 0:\n",
    "        print(\"Fizz\")\n",
    "    elif i % 5 == 0:\n",
    "        print(\"Buzz\")\n",
    "    i += 1"
   ]
  },
  {
   "cell_type": "markdown",
   "id": "9a86238a-d22c-4fd2-b713-70d7ef13b395",
   "metadata": {},
   "source": [
    "# Recursive method/function"
   ]
  },
  {
   "cell_type": "code",
   "execution_count": null,
   "id": "27f77992-a3a2-4f38-a26a-63d1f8d13658",
   "metadata": {},
   "outputs": [],
   "source": [
    "def recursive_fizzbuzz(start, end):\n",
    "    if start % 15 == 0:\n",
    "        print('FizzBuzz')\n",
    "    elif start % 3 == 0:\n",
    "        print('Fizz')\n",
    "    elif start % 5 == 0:\n",
    "        print('Buzz')\n",
    "    \n",
    "    if start < end:\n",
    "        recursive_fizzbuzz(start + 1, end)\n",
    "\n",
    "recursive_fizzbuzz(0, 20) "
   ]
  }
 ],
 "metadata": {
  "kernelspec": {
   "display_name": "Python 3 (ipykernel)",
   "language": "python",
   "name": "python3"
  },
  "language_info": {
   "codemirror_mode": {
    "name": "ipython",
    "version": 3
   },
   "file_extension": ".py",
   "mimetype": "text/x-python",
   "name": "python",
   "nbconvert_exporter": "python",
   "pygments_lexer": "ipython3",
   "version": "3.10.9"
  }
 },
 "nbformat": 4,
 "nbformat_minor": 5
}
