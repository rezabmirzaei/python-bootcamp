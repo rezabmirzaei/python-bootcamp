{
 "cells": [
  {
   "cell_type": "code",
   "execution_count": null,
   "id": "8d570a50-9538-4baf-881e-a8eefa3d3960",
   "metadata": {},
   "outputs": [],
   "source": [
    "for i in range(0, 101):\n",
    "    if i % 15 == 0:\n",
    "        print(\"FizzBuzz\")\n",
    "    elif i % 3 == 0:\n",
    "        print(\"Fizz\")\n",
    "    elif i % 5 == 0:\n",
    "        print(\"Buzz\")"
   ]
  },
  {
   "cell_type": "code",
   "execution_count": null,
   "id": "d0009e65-7c96-4f7e-8d71-a3f144fe7ec5",
   "metadata": {},
   "outputs": [],
   "source": [
    "for i in range(0, 101):\n",
    "    result = \"\"\n",
    "    if i % 3 == 0:\n",
    "        result += \"Fizz\"\n",
    "    if i % 5 == 0:\n",
    "        result += \"Buzz\"\n",
    "    if result != \"\":\n",
    "        print(result)"
   ]
  }
 ],
 "metadata": {
  "kernelspec": {
   "display_name": "Python 3 (ipykernel)",
   "language": "python",
   "name": "python3"
  },
  "language_info": {
   "codemirror_mode": {
    "name": "ipython",
    "version": 3
   },
   "file_extension": ".py",
   "mimetype": "text/x-python",
   "name": "python",
   "nbconvert_exporter": "python",
   "pygments_lexer": "ipython3",
   "version": "3.10.9"
  }
 },
 "nbformat": 4,
 "nbformat_minor": 5
}
