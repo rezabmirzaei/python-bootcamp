{
 "cells": [
  {
   "cell_type": "markdown",
   "id": "67baf1c9-7e4e-4c14-8875-80cc68414044",
   "metadata": {},
   "source": [
    "### A few messages:\n",
    "* Next week Monday May 1st is national holiday, lecture is moved to **Tuesday May 2nd**.\n",
    "* Feedback on assignments 1.1(a&b) and 1.2 given.\n",
    "* Feedback from you:\n",
    "  * A few of the questions were vague, difficult to understand.\n",
    "  * Recommendation to interesting Python projects: Anything in a field you are interested in, I would go for something like the [arcade](https://api.arcade.academy/en/latest/) library. But in general (for professional/career) I would say: projects related to data analysis, AI/ML, reporting, IoT etc.\n",
    "\n",
    "### Quick look at code Kata 1.3 (ref to conversation on [Slack](https://acceleratepython.slack.com/archives/C0537B267HP/p1682402976341649))"
   ]
  },
  {
   "cell_type": "markdown",
   "id": "3b6d4589-0ef5-4e23-987f-3a4adef5f1e1",
   "metadata": {},
   "source": [
    "# **1.4 Code readability and reuse**"
   ]
  },
  {
   "cell_type": "markdown",
   "id": "b201a067-6044-4b04-8e57-188de85fa21e",
   "metadata": {},
   "source": [
    "#### Refer to https://www.python.org/dev/peps/pep-0008/"
   ]
  },
  {
   "cell_type": "markdown",
   "id": "2848ed5e-b4fd-4255-bbc8-df6df524678b",
   "metadata": {},
   "source": [
    "### Naming Conventions"
   ]
  },
  {
   "cell_type": "code",
   "execution_count": null,
   "id": "08a11f23-71d1-42c1-9e14-111e14117c07",
   "metadata": {},
   "outputs": [],
   "source": [
    "# lowercase_underscore -> variable and function/function names (also modules; note exception > CONSTANTS)\n",
    "\n",
    "# CamelCase -> classes\n",
    "\n",
    "# mixedCase -> where already prevailing style"
   ]
  },
  {
   "cell_type": "code",
   "execution_count": null,
   "id": "9db694ce-70ea-4e3c-83ae-3234522b59ed",
   "metadata": {},
   "outputs": [],
   "source": [
    "# Avoid non-descriptive names: myList, data_structure, the_variable.\n",
    "\n",
    "# Avoid using names that are excessively long: list_to_be_copied_later.\n",
    "\n",
    "# Don't name single identifiers using capital i, lowercase L, capital o: I, l, O, 0.\n",
    "\n",
    "# Identifiers that are visible to the user should follow conventions that reflect usage rather than implementation.\n",
    "\n",
    "# Always capitalize abbreviations when using CamelCase: HTTPServer.\n",
    "\n",
    "# Module names should all be lowercase separated by underscore.\n",
    "\n",
    "# Modules should preferably be named with one single word: numpy, pandas.\n",
    "\n",
    "# Classes should be CamelCase, despite Python’s native classes being lowercase.\n",
    "\n",
    "# Global variables should be lowercase with underscores.\n",
    "\n",
    "# function names should be lowercase with underscores.\n",
    "\n",
    "# Constants’ names should be uppercase with underscores.\n",
    "\n",
    "# Items inside collections should be named as a singular word if the collection has a collective name: i.e. for book in books: or for address in ip_addresses:.\n",
    "\n",
    "# Variables should either be mixed case or lowercase with underscores, but not both. Pick your favourite and stick with it."
   ]
  },
  {
   "cell_type": "markdown",
   "id": "4ba325d2-8201-4217-a504-b965be5b246a",
   "metadata": {},
   "source": [
    "## Commenting and Documentation"
   ]
  },
  {
   "cell_type": "code",
   "execution_count": null,
   "id": "1f4792d8-ac62-4ee6-8c52-0b86c2757630",
   "metadata": {},
   "outputs": [],
   "source": [
    "# New/full line comment\n",
    "\"\"\"Multi\n",
    "line\n",
    "comment\"\"\"\n",
    "my_demo_variable = \"demo\" # Inline comment\n",
    "\n",
    "help(int) # See example under 'Functions' for how to define your own"
   ]
  },
  {
   "cell_type": "markdown",
   "id": "bc8918d9-04ed-4baa-b018-facdf399954c",
   "metadata": {},
   "source": [
    "## Functions"
   ]
  },
  {
   "cell_type": "code",
   "execution_count": null,
   "id": "015b5053-c608-4dcf-aeb6-8fc60b6174da",
   "metadata": {},
   "outputs": [],
   "source": [
    "# Reusable code!\n",
    "# keyword 'def'\n",
    "def print_hello_world():\n",
    "    if False:\n",
    "        print(\"Hello world!\")\n",
    "    if True:\n",
    "        print(\"All wrong\")\n",
    "\n",
    "# print_hello_world()\n",
    "\n",
    "\n",
    "def my_help_demo_function():\n",
    "    \"\"\"A function that demos how to write your own documentation\"\"\"\n",
    "\n",
    "help(my_help_demo_function)"
   ]
  },
  {
   "cell_type": "markdown",
   "id": "2e42d34f-7df3-4c1f-a997-ba99bd2ac42d",
   "metadata": {},
   "source": [
    "### Function Parameters"
   ]
  },
  {
   "cell_type": "code",
   "execution_count": null,
   "id": "a30fae55-b352-4bc4-a90f-b599635ea150",
   "metadata": {},
   "outputs": [],
   "source": [
    "# Make functions more dynamic\n",
    "def print_hello_world(name):\n",
    "    print(f\"Hello world {name}\")\n",
    "\n",
    "# print_hello_world(\"Reza\")\n",
    "\n",
    "# Default value parameters (optional)\n",
    "def repeat_text(text, iterations=3):\n",
    "    for i in range(iterations):\n",
    "        print(text)\n",
    "\n",
    "repeat_text(\"Text to repeat\") # No need to provide optional parameter \"iterations\" (will default to 3)\n",
    "repeat_text(\"Text to repeat\", 2) # Override optional parameter \"iterations\", set it to 2\n",
    "repeat_text(\"Text to repeat\", iterations=5) # Override optional parameter explicitly by referring to it by it's name \"iterations\", set it to 5"
   ]
  },
  {
   "cell_type": "markdown",
   "id": "66fc054e-bf5f-4ba3-ac4a-6512e2d40731",
   "metadata": {},
   "source": [
    "## Namespaces, Scope and Local/Global Variables"
   ]
  },
  {
   "cell_type": "code",
   "execution_count": null,
   "id": "4912e354-2032-42c7-8be1-d1a7877c589c",
   "metadata": {},
   "outputs": [],
   "source": [
    "# Variable/function accessibility (later on also classes)\n",
    "\n",
    "global_variable = \"global variable\"\n",
    "\n",
    "def scope_function(function_parameter):\n",
    "    local_scope_variable = \"local scope variable\"\n",
    "    print(\"Access from scope_function namespace:\")\n",
    "    print(f\"\\tglobal_variable: {global_variable}\")\n",
    "    print(f\"\\tfunction_parameter: {function_parameter}\")\n",
    "    print(f\"\\tlocal_scope_variable: {local_scope_variable}\")\n",
    "    if True:\n",
    "        if_scope_variable = 2\n",
    "        print(if_scope_variable)\n",
    "\n",
    "#scope_function(\"function parameter\")\n",
    "\n",
    "#print(\"Access from global namespace:\")\n",
    "#print(f\"\\tglobal_variable: {global_variable}\")\n",
    "#print(f\"\\tfunction_parameter: {function_parameter}\")\n",
    "#print(f\"\\tlocal_scope_variable: {local_scope_variable}\")\n",
    "\n",
    "# Typically: var/func accessibale at the level of intendation defined and lower\n",
    "    \n",
    "# Heads up: import-statement\n"
   ]
  },
  {
   "cell_type": "markdown",
   "id": "e965d21e-0134-4509-be0d-a36d9b626279",
   "metadata": {},
   "source": [
    "## Return Statement"
   ]
  },
  {
   "cell_type": "code",
   "execution_count": null,
   "id": "bce39380-2053-46b7-88b2-794637574eb0",
   "metadata": {
    "tags": []
   },
   "outputs": [],
   "source": [
    "# Return from a function, optionally a value\n",
    "# Simple addition\n",
    "def add_numbers(num1, num2):\n",
    "    return num1 + num2\n",
    "\n",
    "#print(add_numbers(2, 3))\n",
    "\n",
    "# Extra: variable number of parameters *args, **kwargs\n",
    "# An arbitrary list of numbers to sum\n",
    "def add_multiple_numbers(*numbs):\n",
    "    result = sum(numbs)\n",
    "    test()\n",
    "    return result\n",
    "\n",
    "def test():\n",
    "    print(\"test\")\n",
    "\n",
    "print(add_multiple_numbers(1,2,3,4,5))"
   ]
  },
  {
   "cell_type": "code",
   "execution_count": null,
   "id": "282a67f5-9dd2-4639-a580-0c23e6953095",
   "metadata": {},
   "outputs": [],
   "source": []
  }
 ],
 "metadata": {
  "kernelspec": {
   "display_name": "Python 3 (ipykernel)",
   "language": "python",
   "name": "python3"
  },
  "language_info": {
   "codemirror_mode": {
    "name": "ipython",
    "version": 3
   },
   "file_extension": ".py",
   "mimetype": "text/x-python",
   "name": "python",
   "nbconvert_exporter": "python",
   "pygments_lexer": "ipython3",
   "version": "3.10.9"
  }
 },
 "nbformat": 4,
 "nbformat_minor": 5
}
