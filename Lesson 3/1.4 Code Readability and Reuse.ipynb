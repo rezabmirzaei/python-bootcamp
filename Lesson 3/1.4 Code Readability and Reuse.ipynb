{
 "cells": [
  {
   "cell_type": "markdown",
   "id": "3b6d4589-0ef5-4e23-987f-3a4adef5f1e1",
   "metadata": {},
   "source": [
    "# **1.4 Code readability and reuse**"
   ]
  },
  {
   "cell_type": "markdown",
   "id": "2848ed5e-b4fd-4255-bbc8-df6df524678b",
   "metadata": {},
   "source": [
    "### Naming Conventions"
   ]
  },
  {
   "cell_type": "code",
   "execution_count": null,
   "id": "063539e0-b3f5-4782-8263-70fc29c05208",
   "metadata": {},
   "outputs": [],
   "source": []
  },
  {
   "cell_type": "markdown",
   "id": "4ba325d2-8201-4217-a504-b965be5b246a",
   "metadata": {},
   "source": [
    "## Commenting and Documentation"
   ]
  },
  {
   "cell_type": "code",
   "execution_count": null,
   "id": "1f4792d8-ac62-4ee6-8c52-0b86c2757630",
   "metadata": {},
   "outputs": [],
   "source": []
  },
  {
   "cell_type": "markdown",
   "id": "bc8918d9-04ed-4baa-b018-facdf399954c",
   "metadata": {},
   "source": [
    "## Methods"
   ]
  },
  {
   "cell_type": "code",
   "execution_count": null,
   "id": "015b5053-c608-4dcf-aeb6-8fc60b6174da",
   "metadata": {},
   "outputs": [],
   "source": []
  },
  {
   "cell_type": "markdown",
   "id": "2e42d34f-7df3-4c1f-a997-ba99bd2ac42d",
   "metadata": {},
   "source": [
    "### Method Parameters"
   ]
  },
  {
   "cell_type": "code",
   "execution_count": null,
   "id": "a30fae55-b352-4bc4-a90f-b599635ea150",
   "metadata": {},
   "outputs": [],
   "source": []
  },
  {
   "cell_type": "markdown",
   "id": "66fc054e-bf5f-4ba3-ac4a-6512e2d40731",
   "metadata": {},
   "source": [
    "## Namespaces, Scope and Local Variables"
   ]
  },
  {
   "cell_type": "code",
   "execution_count": null,
   "id": "00594433-f3f9-4b63-a5fc-97c6bf77cd40",
   "metadata": {},
   "outputs": [],
   "source": []
  },
  {
   "cell_type": "markdown",
   "id": "e965d21e-0134-4509-be0d-a36d9b626279",
   "metadata": {},
   "source": [
    "## Return Statement"
   ]
  },
  {
   "cell_type": "code",
   "execution_count": null,
   "id": "bce39380-2053-46b7-88b2-794637574eb0",
   "metadata": {},
   "outputs": [],
   "source": []
  }
 ],
 "metadata": {
  "kernelspec": {
   "display_name": "Python 3 (ipykernel)",
   "language": "python",
   "name": "python3"
  },
  "language_info": {
   "codemirror_mode": {
    "name": "ipython",
    "version": 3
   },
   "file_extension": ".py",
   "mimetype": "text/x-python",
   "name": "python",
   "nbconvert_exporter": "python",
   "pygments_lexer": "ipython3",
   "version": "3.10.9"
  }
 },
 "nbformat": 4,
 "nbformat_minor": 5
}
